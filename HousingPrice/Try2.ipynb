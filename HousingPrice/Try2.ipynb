{
 "cells": [
  {
   "cell_type": "code",
   "execution_count": 15,
   "metadata": {},
   "outputs": [],
   "source": [
    "import pandas as pd\n",
    "import numpy as np\n",
    "import matplotlib.pyplot as plt\n",
    "import seaborn as sns\n",
    "import plotly.graph_objects as go\n",
    "import plotly.express as px\n",
    "import scipy.stats as stats"
   ]
  },
  {
   "cell_type": "code",
   "execution_count": 2,
   "metadata": {},
   "outputs": [
    {
     "data": {
      "text/html": [
       "<div>\n",
       "<style scoped>\n",
       "    .dataframe tbody tr th:only-of-type {\n",
       "        vertical-align: middle;\n",
       "    }\n",
       "\n",
       "    .dataframe tbody tr th {\n",
       "        vertical-align: top;\n",
       "    }\n",
       "\n",
       "    .dataframe thead th {\n",
       "        text-align: right;\n",
       "    }\n",
       "</style>\n",
       "<table border=\"1\" class=\"dataframe\">\n",
       "  <thead>\n",
       "    <tr style=\"text-align: right;\">\n",
       "      <th></th>\n",
       "      <th>Id</th>\n",
       "      <th>MSSubClass</th>\n",
       "      <th>MSZoning</th>\n",
       "      <th>LotFrontage</th>\n",
       "      <th>LotArea</th>\n",
       "      <th>Street</th>\n",
       "      <th>Alley</th>\n",
       "      <th>LotShape</th>\n",
       "      <th>LandContour</th>\n",
       "      <th>Utilities</th>\n",
       "      <th>...</th>\n",
       "      <th>PoolArea</th>\n",
       "      <th>PoolQC</th>\n",
       "      <th>Fence</th>\n",
       "      <th>MiscFeature</th>\n",
       "      <th>MiscVal</th>\n",
       "      <th>MoSold</th>\n",
       "      <th>YrSold</th>\n",
       "      <th>SaleType</th>\n",
       "      <th>SaleCondition</th>\n",
       "      <th>SalePrice</th>\n",
       "    </tr>\n",
       "  </thead>\n",
       "  <tbody>\n",
       "    <tr>\n",
       "      <th>0</th>\n",
       "      <td>1</td>\n",
       "      <td>60</td>\n",
       "      <td>RL</td>\n",
       "      <td>65.0</td>\n",
       "      <td>8450</td>\n",
       "      <td>Pave</td>\n",
       "      <td>NaN</td>\n",
       "      <td>Reg</td>\n",
       "      <td>Lvl</td>\n",
       "      <td>AllPub</td>\n",
       "      <td>...</td>\n",
       "      <td>0</td>\n",
       "      <td>NaN</td>\n",
       "      <td>NaN</td>\n",
       "      <td>NaN</td>\n",
       "      <td>0</td>\n",
       "      <td>2</td>\n",
       "      <td>2008</td>\n",
       "      <td>WD</td>\n",
       "      <td>Normal</td>\n",
       "      <td>208500</td>\n",
       "    </tr>\n",
       "    <tr>\n",
       "      <th>1</th>\n",
       "      <td>2</td>\n",
       "      <td>20</td>\n",
       "      <td>RL</td>\n",
       "      <td>80.0</td>\n",
       "      <td>9600</td>\n",
       "      <td>Pave</td>\n",
       "      <td>NaN</td>\n",
       "      <td>Reg</td>\n",
       "      <td>Lvl</td>\n",
       "      <td>AllPub</td>\n",
       "      <td>...</td>\n",
       "      <td>0</td>\n",
       "      <td>NaN</td>\n",
       "      <td>NaN</td>\n",
       "      <td>NaN</td>\n",
       "      <td>0</td>\n",
       "      <td>5</td>\n",
       "      <td>2007</td>\n",
       "      <td>WD</td>\n",
       "      <td>Normal</td>\n",
       "      <td>181500</td>\n",
       "    </tr>\n",
       "    <tr>\n",
       "      <th>2</th>\n",
       "      <td>3</td>\n",
       "      <td>60</td>\n",
       "      <td>RL</td>\n",
       "      <td>68.0</td>\n",
       "      <td>11250</td>\n",
       "      <td>Pave</td>\n",
       "      <td>NaN</td>\n",
       "      <td>IR1</td>\n",
       "      <td>Lvl</td>\n",
       "      <td>AllPub</td>\n",
       "      <td>...</td>\n",
       "      <td>0</td>\n",
       "      <td>NaN</td>\n",
       "      <td>NaN</td>\n",
       "      <td>NaN</td>\n",
       "      <td>0</td>\n",
       "      <td>9</td>\n",
       "      <td>2008</td>\n",
       "      <td>WD</td>\n",
       "      <td>Normal</td>\n",
       "      <td>223500</td>\n",
       "    </tr>\n",
       "    <tr>\n",
       "      <th>3</th>\n",
       "      <td>4</td>\n",
       "      <td>70</td>\n",
       "      <td>RL</td>\n",
       "      <td>60.0</td>\n",
       "      <td>9550</td>\n",
       "      <td>Pave</td>\n",
       "      <td>NaN</td>\n",
       "      <td>IR1</td>\n",
       "      <td>Lvl</td>\n",
       "      <td>AllPub</td>\n",
       "      <td>...</td>\n",
       "      <td>0</td>\n",
       "      <td>NaN</td>\n",
       "      <td>NaN</td>\n",
       "      <td>NaN</td>\n",
       "      <td>0</td>\n",
       "      <td>2</td>\n",
       "      <td>2006</td>\n",
       "      <td>WD</td>\n",
       "      <td>Abnorml</td>\n",
       "      <td>140000</td>\n",
       "    </tr>\n",
       "    <tr>\n",
       "      <th>4</th>\n",
       "      <td>5</td>\n",
       "      <td>60</td>\n",
       "      <td>RL</td>\n",
       "      <td>84.0</td>\n",
       "      <td>14260</td>\n",
       "      <td>Pave</td>\n",
       "      <td>NaN</td>\n",
       "      <td>IR1</td>\n",
       "      <td>Lvl</td>\n",
       "      <td>AllPub</td>\n",
       "      <td>...</td>\n",
       "      <td>0</td>\n",
       "      <td>NaN</td>\n",
       "      <td>NaN</td>\n",
       "      <td>NaN</td>\n",
       "      <td>0</td>\n",
       "      <td>12</td>\n",
       "      <td>2008</td>\n",
       "      <td>WD</td>\n",
       "      <td>Normal</td>\n",
       "      <td>250000</td>\n",
       "    </tr>\n",
       "    <tr>\n",
       "      <th>...</th>\n",
       "      <td>...</td>\n",
       "      <td>...</td>\n",
       "      <td>...</td>\n",
       "      <td>...</td>\n",
       "      <td>...</td>\n",
       "      <td>...</td>\n",
       "      <td>...</td>\n",
       "      <td>...</td>\n",
       "      <td>...</td>\n",
       "      <td>...</td>\n",
       "      <td>...</td>\n",
       "      <td>...</td>\n",
       "      <td>...</td>\n",
       "      <td>...</td>\n",
       "      <td>...</td>\n",
       "      <td>...</td>\n",
       "      <td>...</td>\n",
       "      <td>...</td>\n",
       "      <td>...</td>\n",
       "      <td>...</td>\n",
       "      <td>...</td>\n",
       "    </tr>\n",
       "    <tr>\n",
       "      <th>1455</th>\n",
       "      <td>1456</td>\n",
       "      <td>60</td>\n",
       "      <td>RL</td>\n",
       "      <td>62.0</td>\n",
       "      <td>7917</td>\n",
       "      <td>Pave</td>\n",
       "      <td>NaN</td>\n",
       "      <td>Reg</td>\n",
       "      <td>Lvl</td>\n",
       "      <td>AllPub</td>\n",
       "      <td>...</td>\n",
       "      <td>0</td>\n",
       "      <td>NaN</td>\n",
       "      <td>NaN</td>\n",
       "      <td>NaN</td>\n",
       "      <td>0</td>\n",
       "      <td>8</td>\n",
       "      <td>2007</td>\n",
       "      <td>WD</td>\n",
       "      <td>Normal</td>\n",
       "      <td>175000</td>\n",
       "    </tr>\n",
       "    <tr>\n",
       "      <th>1456</th>\n",
       "      <td>1457</td>\n",
       "      <td>20</td>\n",
       "      <td>RL</td>\n",
       "      <td>85.0</td>\n",
       "      <td>13175</td>\n",
       "      <td>Pave</td>\n",
       "      <td>NaN</td>\n",
       "      <td>Reg</td>\n",
       "      <td>Lvl</td>\n",
       "      <td>AllPub</td>\n",
       "      <td>...</td>\n",
       "      <td>0</td>\n",
       "      <td>NaN</td>\n",
       "      <td>MnPrv</td>\n",
       "      <td>NaN</td>\n",
       "      <td>0</td>\n",
       "      <td>2</td>\n",
       "      <td>2010</td>\n",
       "      <td>WD</td>\n",
       "      <td>Normal</td>\n",
       "      <td>210000</td>\n",
       "    </tr>\n",
       "    <tr>\n",
       "      <th>1457</th>\n",
       "      <td>1458</td>\n",
       "      <td>70</td>\n",
       "      <td>RL</td>\n",
       "      <td>66.0</td>\n",
       "      <td>9042</td>\n",
       "      <td>Pave</td>\n",
       "      <td>NaN</td>\n",
       "      <td>Reg</td>\n",
       "      <td>Lvl</td>\n",
       "      <td>AllPub</td>\n",
       "      <td>...</td>\n",
       "      <td>0</td>\n",
       "      <td>NaN</td>\n",
       "      <td>GdPrv</td>\n",
       "      <td>Shed</td>\n",
       "      <td>2500</td>\n",
       "      <td>5</td>\n",
       "      <td>2010</td>\n",
       "      <td>WD</td>\n",
       "      <td>Normal</td>\n",
       "      <td>266500</td>\n",
       "    </tr>\n",
       "    <tr>\n",
       "      <th>1458</th>\n",
       "      <td>1459</td>\n",
       "      <td>20</td>\n",
       "      <td>RL</td>\n",
       "      <td>68.0</td>\n",
       "      <td>9717</td>\n",
       "      <td>Pave</td>\n",
       "      <td>NaN</td>\n",
       "      <td>Reg</td>\n",
       "      <td>Lvl</td>\n",
       "      <td>AllPub</td>\n",
       "      <td>...</td>\n",
       "      <td>0</td>\n",
       "      <td>NaN</td>\n",
       "      <td>NaN</td>\n",
       "      <td>NaN</td>\n",
       "      <td>0</td>\n",
       "      <td>4</td>\n",
       "      <td>2010</td>\n",
       "      <td>WD</td>\n",
       "      <td>Normal</td>\n",
       "      <td>142125</td>\n",
       "    </tr>\n",
       "    <tr>\n",
       "      <th>1459</th>\n",
       "      <td>1460</td>\n",
       "      <td>20</td>\n",
       "      <td>RL</td>\n",
       "      <td>75.0</td>\n",
       "      <td>9937</td>\n",
       "      <td>Pave</td>\n",
       "      <td>NaN</td>\n",
       "      <td>Reg</td>\n",
       "      <td>Lvl</td>\n",
       "      <td>AllPub</td>\n",
       "      <td>...</td>\n",
       "      <td>0</td>\n",
       "      <td>NaN</td>\n",
       "      <td>NaN</td>\n",
       "      <td>NaN</td>\n",
       "      <td>0</td>\n",
       "      <td>6</td>\n",
       "      <td>2008</td>\n",
       "      <td>WD</td>\n",
       "      <td>Normal</td>\n",
       "      <td>147500</td>\n",
       "    </tr>\n",
       "  </tbody>\n",
       "</table>\n",
       "<p>1460 rows × 81 columns</p>\n",
       "</div>"
      ],
      "text/plain": [
       "        Id  MSSubClass MSZoning  LotFrontage  LotArea Street Alley LotShape  \\\n",
       "0        1          60       RL         65.0     8450   Pave   NaN      Reg   \n",
       "1        2          20       RL         80.0     9600   Pave   NaN      Reg   \n",
       "2        3          60       RL         68.0    11250   Pave   NaN      IR1   \n",
       "3        4          70       RL         60.0     9550   Pave   NaN      IR1   \n",
       "4        5          60       RL         84.0    14260   Pave   NaN      IR1   \n",
       "...    ...         ...      ...          ...      ...    ...   ...      ...   \n",
       "1455  1456          60       RL         62.0     7917   Pave   NaN      Reg   \n",
       "1456  1457          20       RL         85.0    13175   Pave   NaN      Reg   \n",
       "1457  1458          70       RL         66.0     9042   Pave   NaN      Reg   \n",
       "1458  1459          20       RL         68.0     9717   Pave   NaN      Reg   \n",
       "1459  1460          20       RL         75.0     9937   Pave   NaN      Reg   \n",
       "\n",
       "     LandContour Utilities  ... PoolArea PoolQC  Fence MiscFeature MiscVal  \\\n",
       "0            Lvl    AllPub  ...        0    NaN    NaN         NaN       0   \n",
       "1            Lvl    AllPub  ...        0    NaN    NaN         NaN       0   \n",
       "2            Lvl    AllPub  ...        0    NaN    NaN         NaN       0   \n",
       "3            Lvl    AllPub  ...        0    NaN    NaN         NaN       0   \n",
       "4            Lvl    AllPub  ...        0    NaN    NaN         NaN       0   \n",
       "...          ...       ...  ...      ...    ...    ...         ...     ...   \n",
       "1455         Lvl    AllPub  ...        0    NaN    NaN         NaN       0   \n",
       "1456         Lvl    AllPub  ...        0    NaN  MnPrv         NaN       0   \n",
       "1457         Lvl    AllPub  ...        0    NaN  GdPrv        Shed    2500   \n",
       "1458         Lvl    AllPub  ...        0    NaN    NaN         NaN       0   \n",
       "1459         Lvl    AllPub  ...        0    NaN    NaN         NaN       0   \n",
       "\n",
       "     MoSold YrSold  SaleType  SaleCondition  SalePrice  \n",
       "0         2   2008        WD         Normal     208500  \n",
       "1         5   2007        WD         Normal     181500  \n",
       "2         9   2008        WD         Normal     223500  \n",
       "3         2   2006        WD        Abnorml     140000  \n",
       "4        12   2008        WD         Normal     250000  \n",
       "...     ...    ...       ...            ...        ...  \n",
       "1455      8   2007        WD         Normal     175000  \n",
       "1456      2   2010        WD         Normal     210000  \n",
       "1457      5   2010        WD         Normal     266500  \n",
       "1458      4   2010        WD         Normal     142125  \n",
       "1459      6   2008        WD         Normal     147500  \n",
       "\n",
       "[1460 rows x 81 columns]"
      ]
     },
     "execution_count": 2,
     "metadata": {},
     "output_type": "execute_result"
    }
   ],
   "source": [
    "df = pd.read_csv('train.csv')\n",
    "df"
   ]
  },
  {
   "cell_type": "code",
   "execution_count": 3,
   "metadata": {},
   "outputs": [
    {
     "data": {
      "text/plain": [
       "(1460, 81)"
      ]
     },
     "execution_count": 3,
     "metadata": {},
     "output_type": "execute_result"
    }
   ],
   "source": [
    "df.shape"
   ]
  },
  {
   "cell_type": "code",
   "execution_count": 5,
   "metadata": {},
   "outputs": [
    {
     "data": {
      "text/html": [
       "<div>\n",
       "<style scoped>\n",
       "    .dataframe tbody tr th:only-of-type {\n",
       "        vertical-align: middle;\n",
       "    }\n",
       "\n",
       "    .dataframe tbody tr th {\n",
       "        vertical-align: top;\n",
       "    }\n",
       "\n",
       "    .dataframe thead th {\n",
       "        text-align: right;\n",
       "    }\n",
       "</style>\n",
       "<table border=\"1\" class=\"dataframe\">\n",
       "  <thead>\n",
       "    <tr style=\"text-align: right;\">\n",
       "      <th></th>\n",
       "      <th>count</th>\n",
       "      <th>mean</th>\n",
       "      <th>std</th>\n",
       "      <th>min</th>\n",
       "      <th>25%</th>\n",
       "      <th>50%</th>\n",
       "      <th>75%</th>\n",
       "      <th>max</th>\n",
       "    </tr>\n",
       "  </thead>\n",
       "  <tbody>\n",
       "    <tr>\n",
       "      <th>Id</th>\n",
       "      <td>1460.0</td>\n",
       "      <td>730.500000</td>\n",
       "      <td>421.610009</td>\n",
       "      <td>1.0</td>\n",
       "      <td>365.75</td>\n",
       "      <td>730.5</td>\n",
       "      <td>1095.25</td>\n",
       "      <td>1460.0</td>\n",
       "    </tr>\n",
       "    <tr>\n",
       "      <th>MSSubClass</th>\n",
       "      <td>1460.0</td>\n",
       "      <td>56.897260</td>\n",
       "      <td>42.300571</td>\n",
       "      <td>20.0</td>\n",
       "      <td>20.00</td>\n",
       "      <td>50.0</td>\n",
       "      <td>70.00</td>\n",
       "      <td>190.0</td>\n",
       "    </tr>\n",
       "    <tr>\n",
       "      <th>LotFrontage</th>\n",
       "      <td>1201.0</td>\n",
       "      <td>70.049958</td>\n",
       "      <td>24.284752</td>\n",
       "      <td>21.0</td>\n",
       "      <td>59.00</td>\n",
       "      <td>69.0</td>\n",
       "      <td>80.00</td>\n",
       "      <td>313.0</td>\n",
       "    </tr>\n",
       "    <tr>\n",
       "      <th>LotArea</th>\n",
       "      <td>1460.0</td>\n",
       "      <td>10516.828082</td>\n",
       "      <td>9981.264932</td>\n",
       "      <td>1300.0</td>\n",
       "      <td>7553.50</td>\n",
       "      <td>9478.5</td>\n",
       "      <td>11601.50</td>\n",
       "      <td>215245.0</td>\n",
       "    </tr>\n",
       "    <tr>\n",
       "      <th>OverallQual</th>\n",
       "      <td>1460.0</td>\n",
       "      <td>6.099315</td>\n",
       "      <td>1.382997</td>\n",
       "      <td>1.0</td>\n",
       "      <td>5.00</td>\n",
       "      <td>6.0</td>\n",
       "      <td>7.00</td>\n",
       "      <td>10.0</td>\n",
       "    </tr>\n",
       "    <tr>\n",
       "      <th>OverallCond</th>\n",
       "      <td>1460.0</td>\n",
       "      <td>5.575342</td>\n",
       "      <td>1.112799</td>\n",
       "      <td>1.0</td>\n",
       "      <td>5.00</td>\n",
       "      <td>5.0</td>\n",
       "      <td>6.00</td>\n",
       "      <td>9.0</td>\n",
       "    </tr>\n",
       "    <tr>\n",
       "      <th>YearBuilt</th>\n",
       "      <td>1460.0</td>\n",
       "      <td>1971.267808</td>\n",
       "      <td>30.202904</td>\n",
       "      <td>1872.0</td>\n",
       "      <td>1954.00</td>\n",
       "      <td>1973.0</td>\n",
       "      <td>2000.00</td>\n",
       "      <td>2010.0</td>\n",
       "    </tr>\n",
       "    <tr>\n",
       "      <th>YearRemodAdd</th>\n",
       "      <td>1460.0</td>\n",
       "      <td>1984.865753</td>\n",
       "      <td>20.645407</td>\n",
       "      <td>1950.0</td>\n",
       "      <td>1967.00</td>\n",
       "      <td>1994.0</td>\n",
       "      <td>2004.00</td>\n",
       "      <td>2010.0</td>\n",
       "    </tr>\n",
       "    <tr>\n",
       "      <th>MasVnrArea</th>\n",
       "      <td>1452.0</td>\n",
       "      <td>103.685262</td>\n",
       "      <td>181.066207</td>\n",
       "      <td>0.0</td>\n",
       "      <td>0.00</td>\n",
       "      <td>0.0</td>\n",
       "      <td>166.00</td>\n",
       "      <td>1600.0</td>\n",
       "    </tr>\n",
       "    <tr>\n",
       "      <th>BsmtFinSF1</th>\n",
       "      <td>1460.0</td>\n",
       "      <td>443.639726</td>\n",
       "      <td>456.098091</td>\n",
       "      <td>0.0</td>\n",
       "      <td>0.00</td>\n",
       "      <td>383.5</td>\n",
       "      <td>712.25</td>\n",
       "      <td>5644.0</td>\n",
       "    </tr>\n",
       "    <tr>\n",
       "      <th>BsmtFinSF2</th>\n",
       "      <td>1460.0</td>\n",
       "      <td>46.549315</td>\n",
       "      <td>161.319273</td>\n",
       "      <td>0.0</td>\n",
       "      <td>0.00</td>\n",
       "      <td>0.0</td>\n",
       "      <td>0.00</td>\n",
       "      <td>1474.0</td>\n",
       "    </tr>\n",
       "    <tr>\n",
       "      <th>BsmtUnfSF</th>\n",
       "      <td>1460.0</td>\n",
       "      <td>567.240411</td>\n",
       "      <td>441.866955</td>\n",
       "      <td>0.0</td>\n",
       "      <td>223.00</td>\n",
       "      <td>477.5</td>\n",
       "      <td>808.00</td>\n",
       "      <td>2336.0</td>\n",
       "    </tr>\n",
       "    <tr>\n",
       "      <th>TotalBsmtSF</th>\n",
       "      <td>1460.0</td>\n",
       "      <td>1057.429452</td>\n",
       "      <td>438.705324</td>\n",
       "      <td>0.0</td>\n",
       "      <td>795.75</td>\n",
       "      <td>991.5</td>\n",
       "      <td>1298.25</td>\n",
       "      <td>6110.0</td>\n",
       "    </tr>\n",
       "    <tr>\n",
       "      <th>1stFlrSF</th>\n",
       "      <td>1460.0</td>\n",
       "      <td>1162.626712</td>\n",
       "      <td>386.587738</td>\n",
       "      <td>334.0</td>\n",
       "      <td>882.00</td>\n",
       "      <td>1087.0</td>\n",
       "      <td>1391.25</td>\n",
       "      <td>4692.0</td>\n",
       "    </tr>\n",
       "    <tr>\n",
       "      <th>2ndFlrSF</th>\n",
       "      <td>1460.0</td>\n",
       "      <td>346.992466</td>\n",
       "      <td>436.528436</td>\n",
       "      <td>0.0</td>\n",
       "      <td>0.00</td>\n",
       "      <td>0.0</td>\n",
       "      <td>728.00</td>\n",
       "      <td>2065.0</td>\n",
       "    </tr>\n",
       "    <tr>\n",
       "      <th>LowQualFinSF</th>\n",
       "      <td>1460.0</td>\n",
       "      <td>5.844521</td>\n",
       "      <td>48.623081</td>\n",
       "      <td>0.0</td>\n",
       "      <td>0.00</td>\n",
       "      <td>0.0</td>\n",
       "      <td>0.00</td>\n",
       "      <td>572.0</td>\n",
       "    </tr>\n",
       "    <tr>\n",
       "      <th>GrLivArea</th>\n",
       "      <td>1460.0</td>\n",
       "      <td>1515.463699</td>\n",
       "      <td>525.480383</td>\n",
       "      <td>334.0</td>\n",
       "      <td>1129.50</td>\n",
       "      <td>1464.0</td>\n",
       "      <td>1776.75</td>\n",
       "      <td>5642.0</td>\n",
       "    </tr>\n",
       "    <tr>\n",
       "      <th>BsmtFullBath</th>\n",
       "      <td>1460.0</td>\n",
       "      <td>0.425342</td>\n",
       "      <td>0.518911</td>\n",
       "      <td>0.0</td>\n",
       "      <td>0.00</td>\n",
       "      <td>0.0</td>\n",
       "      <td>1.00</td>\n",
       "      <td>3.0</td>\n",
       "    </tr>\n",
       "    <tr>\n",
       "      <th>BsmtHalfBath</th>\n",
       "      <td>1460.0</td>\n",
       "      <td>0.057534</td>\n",
       "      <td>0.238753</td>\n",
       "      <td>0.0</td>\n",
       "      <td>0.00</td>\n",
       "      <td>0.0</td>\n",
       "      <td>0.00</td>\n",
       "      <td>2.0</td>\n",
       "    </tr>\n",
       "    <tr>\n",
       "      <th>FullBath</th>\n",
       "      <td>1460.0</td>\n",
       "      <td>1.565068</td>\n",
       "      <td>0.550916</td>\n",
       "      <td>0.0</td>\n",
       "      <td>1.00</td>\n",
       "      <td>2.0</td>\n",
       "      <td>2.00</td>\n",
       "      <td>3.0</td>\n",
       "    </tr>\n",
       "    <tr>\n",
       "      <th>HalfBath</th>\n",
       "      <td>1460.0</td>\n",
       "      <td>0.382877</td>\n",
       "      <td>0.502885</td>\n",
       "      <td>0.0</td>\n",
       "      <td>0.00</td>\n",
       "      <td>0.0</td>\n",
       "      <td>1.00</td>\n",
       "      <td>2.0</td>\n",
       "    </tr>\n",
       "    <tr>\n",
       "      <th>BedroomAbvGr</th>\n",
       "      <td>1460.0</td>\n",
       "      <td>2.866438</td>\n",
       "      <td>0.815778</td>\n",
       "      <td>0.0</td>\n",
       "      <td>2.00</td>\n",
       "      <td>3.0</td>\n",
       "      <td>3.00</td>\n",
       "      <td>8.0</td>\n",
       "    </tr>\n",
       "    <tr>\n",
       "      <th>KitchenAbvGr</th>\n",
       "      <td>1460.0</td>\n",
       "      <td>1.046575</td>\n",
       "      <td>0.220338</td>\n",
       "      <td>0.0</td>\n",
       "      <td>1.00</td>\n",
       "      <td>1.0</td>\n",
       "      <td>1.00</td>\n",
       "      <td>3.0</td>\n",
       "    </tr>\n",
       "    <tr>\n",
       "      <th>TotRmsAbvGrd</th>\n",
       "      <td>1460.0</td>\n",
       "      <td>6.517808</td>\n",
       "      <td>1.625393</td>\n",
       "      <td>2.0</td>\n",
       "      <td>5.00</td>\n",
       "      <td>6.0</td>\n",
       "      <td>7.00</td>\n",
       "      <td>14.0</td>\n",
       "    </tr>\n",
       "    <tr>\n",
       "      <th>Fireplaces</th>\n",
       "      <td>1460.0</td>\n",
       "      <td>0.613014</td>\n",
       "      <td>0.644666</td>\n",
       "      <td>0.0</td>\n",
       "      <td>0.00</td>\n",
       "      <td>1.0</td>\n",
       "      <td>1.00</td>\n",
       "      <td>3.0</td>\n",
       "    </tr>\n",
       "    <tr>\n",
       "      <th>GarageYrBlt</th>\n",
       "      <td>1379.0</td>\n",
       "      <td>1978.506164</td>\n",
       "      <td>24.689725</td>\n",
       "      <td>1900.0</td>\n",
       "      <td>1961.00</td>\n",
       "      <td>1980.0</td>\n",
       "      <td>2002.00</td>\n",
       "      <td>2010.0</td>\n",
       "    </tr>\n",
       "    <tr>\n",
       "      <th>GarageCars</th>\n",
       "      <td>1460.0</td>\n",
       "      <td>1.767123</td>\n",
       "      <td>0.747315</td>\n",
       "      <td>0.0</td>\n",
       "      <td>1.00</td>\n",
       "      <td>2.0</td>\n",
       "      <td>2.00</td>\n",
       "      <td>4.0</td>\n",
       "    </tr>\n",
       "    <tr>\n",
       "      <th>GarageArea</th>\n",
       "      <td>1460.0</td>\n",
       "      <td>472.980137</td>\n",
       "      <td>213.804841</td>\n",
       "      <td>0.0</td>\n",
       "      <td>334.50</td>\n",
       "      <td>480.0</td>\n",
       "      <td>576.00</td>\n",
       "      <td>1418.0</td>\n",
       "    </tr>\n",
       "    <tr>\n",
       "      <th>WoodDeckSF</th>\n",
       "      <td>1460.0</td>\n",
       "      <td>94.244521</td>\n",
       "      <td>125.338794</td>\n",
       "      <td>0.0</td>\n",
       "      <td>0.00</td>\n",
       "      <td>0.0</td>\n",
       "      <td>168.00</td>\n",
       "      <td>857.0</td>\n",
       "    </tr>\n",
       "    <tr>\n",
       "      <th>OpenPorchSF</th>\n",
       "      <td>1460.0</td>\n",
       "      <td>46.660274</td>\n",
       "      <td>66.256028</td>\n",
       "      <td>0.0</td>\n",
       "      <td>0.00</td>\n",
       "      <td>25.0</td>\n",
       "      <td>68.00</td>\n",
       "      <td>547.0</td>\n",
       "    </tr>\n",
       "    <tr>\n",
       "      <th>EnclosedPorch</th>\n",
       "      <td>1460.0</td>\n",
       "      <td>21.954110</td>\n",
       "      <td>61.119149</td>\n",
       "      <td>0.0</td>\n",
       "      <td>0.00</td>\n",
       "      <td>0.0</td>\n",
       "      <td>0.00</td>\n",
       "      <td>552.0</td>\n",
       "    </tr>\n",
       "    <tr>\n",
       "      <th>3SsnPorch</th>\n",
       "      <td>1460.0</td>\n",
       "      <td>3.409589</td>\n",
       "      <td>29.317331</td>\n",
       "      <td>0.0</td>\n",
       "      <td>0.00</td>\n",
       "      <td>0.0</td>\n",
       "      <td>0.00</td>\n",
       "      <td>508.0</td>\n",
       "    </tr>\n",
       "    <tr>\n",
       "      <th>ScreenPorch</th>\n",
       "      <td>1460.0</td>\n",
       "      <td>15.060959</td>\n",
       "      <td>55.757415</td>\n",
       "      <td>0.0</td>\n",
       "      <td>0.00</td>\n",
       "      <td>0.0</td>\n",
       "      <td>0.00</td>\n",
       "      <td>480.0</td>\n",
       "    </tr>\n",
       "    <tr>\n",
       "      <th>PoolArea</th>\n",
       "      <td>1460.0</td>\n",
       "      <td>2.758904</td>\n",
       "      <td>40.177307</td>\n",
       "      <td>0.0</td>\n",
       "      <td>0.00</td>\n",
       "      <td>0.0</td>\n",
       "      <td>0.00</td>\n",
       "      <td>738.0</td>\n",
       "    </tr>\n",
       "    <tr>\n",
       "      <th>MiscVal</th>\n",
       "      <td>1460.0</td>\n",
       "      <td>43.489041</td>\n",
       "      <td>496.123024</td>\n",
       "      <td>0.0</td>\n",
       "      <td>0.00</td>\n",
       "      <td>0.0</td>\n",
       "      <td>0.00</td>\n",
       "      <td>15500.0</td>\n",
       "    </tr>\n",
       "    <tr>\n",
       "      <th>MoSold</th>\n",
       "      <td>1460.0</td>\n",
       "      <td>6.321918</td>\n",
       "      <td>2.703626</td>\n",
       "      <td>1.0</td>\n",
       "      <td>5.00</td>\n",
       "      <td>6.0</td>\n",
       "      <td>8.00</td>\n",
       "      <td>12.0</td>\n",
       "    </tr>\n",
       "    <tr>\n",
       "      <th>YrSold</th>\n",
       "      <td>1460.0</td>\n",
       "      <td>2007.815753</td>\n",
       "      <td>1.328095</td>\n",
       "      <td>2006.0</td>\n",
       "      <td>2007.00</td>\n",
       "      <td>2008.0</td>\n",
       "      <td>2009.00</td>\n",
       "      <td>2010.0</td>\n",
       "    </tr>\n",
       "    <tr>\n",
       "      <th>SalePrice</th>\n",
       "      <td>1460.0</td>\n",
       "      <td>180921.195890</td>\n",
       "      <td>79442.502883</td>\n",
       "      <td>34900.0</td>\n",
       "      <td>129975.00</td>\n",
       "      <td>163000.0</td>\n",
       "      <td>214000.00</td>\n",
       "      <td>755000.0</td>\n",
       "    </tr>\n",
       "  </tbody>\n",
       "</table>\n",
       "</div>"
      ],
      "text/plain": [
       "                count           mean           std      min        25%  \\\n",
       "Id             1460.0     730.500000    421.610009      1.0     365.75   \n",
       "MSSubClass     1460.0      56.897260     42.300571     20.0      20.00   \n",
       "LotFrontage    1201.0      70.049958     24.284752     21.0      59.00   \n",
       "LotArea        1460.0   10516.828082   9981.264932   1300.0    7553.50   \n",
       "OverallQual    1460.0       6.099315      1.382997      1.0       5.00   \n",
       "OverallCond    1460.0       5.575342      1.112799      1.0       5.00   \n",
       "YearBuilt      1460.0    1971.267808     30.202904   1872.0    1954.00   \n",
       "YearRemodAdd   1460.0    1984.865753     20.645407   1950.0    1967.00   \n",
       "MasVnrArea     1452.0     103.685262    181.066207      0.0       0.00   \n",
       "BsmtFinSF1     1460.0     443.639726    456.098091      0.0       0.00   \n",
       "BsmtFinSF2     1460.0      46.549315    161.319273      0.0       0.00   \n",
       "BsmtUnfSF      1460.0     567.240411    441.866955      0.0     223.00   \n",
       "TotalBsmtSF    1460.0    1057.429452    438.705324      0.0     795.75   \n",
       "1stFlrSF       1460.0    1162.626712    386.587738    334.0     882.00   \n",
       "2ndFlrSF       1460.0     346.992466    436.528436      0.0       0.00   \n",
       "LowQualFinSF   1460.0       5.844521     48.623081      0.0       0.00   \n",
       "GrLivArea      1460.0    1515.463699    525.480383    334.0    1129.50   \n",
       "BsmtFullBath   1460.0       0.425342      0.518911      0.0       0.00   \n",
       "BsmtHalfBath   1460.0       0.057534      0.238753      0.0       0.00   \n",
       "FullBath       1460.0       1.565068      0.550916      0.0       1.00   \n",
       "HalfBath       1460.0       0.382877      0.502885      0.0       0.00   \n",
       "BedroomAbvGr   1460.0       2.866438      0.815778      0.0       2.00   \n",
       "KitchenAbvGr   1460.0       1.046575      0.220338      0.0       1.00   \n",
       "TotRmsAbvGrd   1460.0       6.517808      1.625393      2.0       5.00   \n",
       "Fireplaces     1460.0       0.613014      0.644666      0.0       0.00   \n",
       "GarageYrBlt    1379.0    1978.506164     24.689725   1900.0    1961.00   \n",
       "GarageCars     1460.0       1.767123      0.747315      0.0       1.00   \n",
       "GarageArea     1460.0     472.980137    213.804841      0.0     334.50   \n",
       "WoodDeckSF     1460.0      94.244521    125.338794      0.0       0.00   \n",
       "OpenPorchSF    1460.0      46.660274     66.256028      0.0       0.00   \n",
       "EnclosedPorch  1460.0      21.954110     61.119149      0.0       0.00   \n",
       "3SsnPorch      1460.0       3.409589     29.317331      0.0       0.00   \n",
       "ScreenPorch    1460.0      15.060959     55.757415      0.0       0.00   \n",
       "PoolArea       1460.0       2.758904     40.177307      0.0       0.00   \n",
       "MiscVal        1460.0      43.489041    496.123024      0.0       0.00   \n",
       "MoSold         1460.0       6.321918      2.703626      1.0       5.00   \n",
       "YrSold         1460.0    2007.815753      1.328095   2006.0    2007.00   \n",
       "SalePrice      1460.0  180921.195890  79442.502883  34900.0  129975.00   \n",
       "\n",
       "                    50%        75%       max  \n",
       "Id                730.5    1095.25    1460.0  \n",
       "MSSubClass         50.0      70.00     190.0  \n",
       "LotFrontage        69.0      80.00     313.0  \n",
       "LotArea          9478.5   11601.50  215245.0  \n",
       "OverallQual         6.0       7.00      10.0  \n",
       "OverallCond         5.0       6.00       9.0  \n",
       "YearBuilt        1973.0    2000.00    2010.0  \n",
       "YearRemodAdd     1994.0    2004.00    2010.0  \n",
       "MasVnrArea          0.0     166.00    1600.0  \n",
       "BsmtFinSF1        383.5     712.25    5644.0  \n",
       "BsmtFinSF2          0.0       0.00    1474.0  \n",
       "BsmtUnfSF         477.5     808.00    2336.0  \n",
       "TotalBsmtSF       991.5    1298.25    6110.0  \n",
       "1stFlrSF         1087.0    1391.25    4692.0  \n",
       "2ndFlrSF            0.0     728.00    2065.0  \n",
       "LowQualFinSF        0.0       0.00     572.0  \n",
       "GrLivArea        1464.0    1776.75    5642.0  \n",
       "BsmtFullBath        0.0       1.00       3.0  \n",
       "BsmtHalfBath        0.0       0.00       2.0  \n",
       "FullBath            2.0       2.00       3.0  \n",
       "HalfBath            0.0       1.00       2.0  \n",
       "BedroomAbvGr        3.0       3.00       8.0  \n",
       "KitchenAbvGr        1.0       1.00       3.0  \n",
       "TotRmsAbvGrd        6.0       7.00      14.0  \n",
       "Fireplaces          1.0       1.00       3.0  \n",
       "GarageYrBlt      1980.0    2002.00    2010.0  \n",
       "GarageCars          2.0       2.00       4.0  \n",
       "GarageArea        480.0     576.00    1418.0  \n",
       "WoodDeckSF          0.0     168.00     857.0  \n",
       "OpenPorchSF        25.0      68.00     547.0  \n",
       "EnclosedPorch       0.0       0.00     552.0  \n",
       "3SsnPorch           0.0       0.00     508.0  \n",
       "ScreenPorch         0.0       0.00     480.0  \n",
       "PoolArea            0.0       0.00     738.0  \n",
       "MiscVal             0.0       0.00   15500.0  \n",
       "MoSold              6.0       8.00      12.0  \n",
       "YrSold           2008.0    2009.00    2010.0  \n",
       "SalePrice      163000.0  214000.00  755000.0  "
      ]
     },
     "execution_count": 5,
     "metadata": {},
     "output_type": "execute_result"
    }
   ],
   "source": [
    "num_feat = df.select_dtypes(include=[np.number])\n",
    "num_feat.describe().T"
   ]
  },
  {
   "cell_type": "code",
   "execution_count": 6,
   "metadata": {},
   "outputs": [
    {
     "data": {
      "text/html": [
       "<div>\n",
       "<style scoped>\n",
       "    .dataframe tbody tr th:only-of-type {\n",
       "        vertical-align: middle;\n",
       "    }\n",
       "\n",
       "    .dataframe tbody tr th {\n",
       "        vertical-align: top;\n",
       "    }\n",
       "\n",
       "    .dataframe thead th {\n",
       "        text-align: right;\n",
       "    }\n",
       "</style>\n",
       "<table border=\"1\" class=\"dataframe\">\n",
       "  <thead>\n",
       "    <tr style=\"text-align: right;\">\n",
       "      <th></th>\n",
       "      <th>count</th>\n",
       "      <th>unique</th>\n",
       "      <th>top</th>\n",
       "      <th>freq</th>\n",
       "    </tr>\n",
       "  </thead>\n",
       "  <tbody>\n",
       "    <tr>\n",
       "      <th>MSZoning</th>\n",
       "      <td>1460</td>\n",
       "      <td>5</td>\n",
       "      <td>RL</td>\n",
       "      <td>1151</td>\n",
       "    </tr>\n",
       "    <tr>\n",
       "      <th>Street</th>\n",
       "      <td>1460</td>\n",
       "      <td>2</td>\n",
       "      <td>Pave</td>\n",
       "      <td>1454</td>\n",
       "    </tr>\n",
       "    <tr>\n",
       "      <th>Alley</th>\n",
       "      <td>91</td>\n",
       "      <td>2</td>\n",
       "      <td>Grvl</td>\n",
       "      <td>50</td>\n",
       "    </tr>\n",
       "    <tr>\n",
       "      <th>LotShape</th>\n",
       "      <td>1460</td>\n",
       "      <td>4</td>\n",
       "      <td>Reg</td>\n",
       "      <td>925</td>\n",
       "    </tr>\n",
       "    <tr>\n",
       "      <th>LandContour</th>\n",
       "      <td>1460</td>\n",
       "      <td>4</td>\n",
       "      <td>Lvl</td>\n",
       "      <td>1311</td>\n",
       "    </tr>\n",
       "    <tr>\n",
       "      <th>Utilities</th>\n",
       "      <td>1460</td>\n",
       "      <td>2</td>\n",
       "      <td>AllPub</td>\n",
       "      <td>1459</td>\n",
       "    </tr>\n",
       "    <tr>\n",
       "      <th>LotConfig</th>\n",
       "      <td>1460</td>\n",
       "      <td>5</td>\n",
       "      <td>Inside</td>\n",
       "      <td>1052</td>\n",
       "    </tr>\n",
       "    <tr>\n",
       "      <th>LandSlope</th>\n",
       "      <td>1460</td>\n",
       "      <td>3</td>\n",
       "      <td>Gtl</td>\n",
       "      <td>1382</td>\n",
       "    </tr>\n",
       "    <tr>\n",
       "      <th>Neighborhood</th>\n",
       "      <td>1460</td>\n",
       "      <td>25</td>\n",
       "      <td>NAmes</td>\n",
       "      <td>225</td>\n",
       "    </tr>\n",
       "    <tr>\n",
       "      <th>Condition1</th>\n",
       "      <td>1460</td>\n",
       "      <td>9</td>\n",
       "      <td>Norm</td>\n",
       "      <td>1260</td>\n",
       "    </tr>\n",
       "    <tr>\n",
       "      <th>Condition2</th>\n",
       "      <td>1460</td>\n",
       "      <td>8</td>\n",
       "      <td>Norm</td>\n",
       "      <td>1445</td>\n",
       "    </tr>\n",
       "    <tr>\n",
       "      <th>BldgType</th>\n",
       "      <td>1460</td>\n",
       "      <td>5</td>\n",
       "      <td>1Fam</td>\n",
       "      <td>1220</td>\n",
       "    </tr>\n",
       "    <tr>\n",
       "      <th>HouseStyle</th>\n",
       "      <td>1460</td>\n",
       "      <td>8</td>\n",
       "      <td>1Story</td>\n",
       "      <td>726</td>\n",
       "    </tr>\n",
       "    <tr>\n",
       "      <th>RoofStyle</th>\n",
       "      <td>1460</td>\n",
       "      <td>6</td>\n",
       "      <td>Gable</td>\n",
       "      <td>1141</td>\n",
       "    </tr>\n",
       "    <tr>\n",
       "      <th>RoofMatl</th>\n",
       "      <td>1460</td>\n",
       "      <td>8</td>\n",
       "      <td>CompShg</td>\n",
       "      <td>1434</td>\n",
       "    </tr>\n",
       "    <tr>\n",
       "      <th>Exterior1st</th>\n",
       "      <td>1460</td>\n",
       "      <td>15</td>\n",
       "      <td>VinylSd</td>\n",
       "      <td>515</td>\n",
       "    </tr>\n",
       "    <tr>\n",
       "      <th>Exterior2nd</th>\n",
       "      <td>1460</td>\n",
       "      <td>16</td>\n",
       "      <td>VinylSd</td>\n",
       "      <td>504</td>\n",
       "    </tr>\n",
       "    <tr>\n",
       "      <th>MasVnrType</th>\n",
       "      <td>588</td>\n",
       "      <td>3</td>\n",
       "      <td>BrkFace</td>\n",
       "      <td>445</td>\n",
       "    </tr>\n",
       "    <tr>\n",
       "      <th>ExterQual</th>\n",
       "      <td>1460</td>\n",
       "      <td>4</td>\n",
       "      <td>TA</td>\n",
       "      <td>906</td>\n",
       "    </tr>\n",
       "    <tr>\n",
       "      <th>ExterCond</th>\n",
       "      <td>1460</td>\n",
       "      <td>5</td>\n",
       "      <td>TA</td>\n",
       "      <td>1282</td>\n",
       "    </tr>\n",
       "    <tr>\n",
       "      <th>Foundation</th>\n",
       "      <td>1460</td>\n",
       "      <td>6</td>\n",
       "      <td>PConc</td>\n",
       "      <td>647</td>\n",
       "    </tr>\n",
       "    <tr>\n",
       "      <th>BsmtQual</th>\n",
       "      <td>1423</td>\n",
       "      <td>4</td>\n",
       "      <td>TA</td>\n",
       "      <td>649</td>\n",
       "    </tr>\n",
       "    <tr>\n",
       "      <th>BsmtCond</th>\n",
       "      <td>1423</td>\n",
       "      <td>4</td>\n",
       "      <td>TA</td>\n",
       "      <td>1311</td>\n",
       "    </tr>\n",
       "    <tr>\n",
       "      <th>BsmtExposure</th>\n",
       "      <td>1422</td>\n",
       "      <td>4</td>\n",
       "      <td>No</td>\n",
       "      <td>953</td>\n",
       "    </tr>\n",
       "    <tr>\n",
       "      <th>BsmtFinType1</th>\n",
       "      <td>1423</td>\n",
       "      <td>6</td>\n",
       "      <td>Unf</td>\n",
       "      <td>430</td>\n",
       "    </tr>\n",
       "    <tr>\n",
       "      <th>BsmtFinType2</th>\n",
       "      <td>1422</td>\n",
       "      <td>6</td>\n",
       "      <td>Unf</td>\n",
       "      <td>1256</td>\n",
       "    </tr>\n",
       "    <tr>\n",
       "      <th>Heating</th>\n",
       "      <td>1460</td>\n",
       "      <td>6</td>\n",
       "      <td>GasA</td>\n",
       "      <td>1428</td>\n",
       "    </tr>\n",
       "    <tr>\n",
       "      <th>HeatingQC</th>\n",
       "      <td>1460</td>\n",
       "      <td>5</td>\n",
       "      <td>Ex</td>\n",
       "      <td>741</td>\n",
       "    </tr>\n",
       "    <tr>\n",
       "      <th>CentralAir</th>\n",
       "      <td>1460</td>\n",
       "      <td>2</td>\n",
       "      <td>Y</td>\n",
       "      <td>1365</td>\n",
       "    </tr>\n",
       "    <tr>\n",
       "      <th>Electrical</th>\n",
       "      <td>1459</td>\n",
       "      <td>5</td>\n",
       "      <td>SBrkr</td>\n",
       "      <td>1334</td>\n",
       "    </tr>\n",
       "    <tr>\n",
       "      <th>KitchenQual</th>\n",
       "      <td>1460</td>\n",
       "      <td>4</td>\n",
       "      <td>TA</td>\n",
       "      <td>735</td>\n",
       "    </tr>\n",
       "    <tr>\n",
       "      <th>Functional</th>\n",
       "      <td>1460</td>\n",
       "      <td>7</td>\n",
       "      <td>Typ</td>\n",
       "      <td>1360</td>\n",
       "    </tr>\n",
       "    <tr>\n",
       "      <th>FireplaceQu</th>\n",
       "      <td>770</td>\n",
       "      <td>5</td>\n",
       "      <td>Gd</td>\n",
       "      <td>380</td>\n",
       "    </tr>\n",
       "    <tr>\n",
       "      <th>GarageType</th>\n",
       "      <td>1379</td>\n",
       "      <td>6</td>\n",
       "      <td>Attchd</td>\n",
       "      <td>870</td>\n",
       "    </tr>\n",
       "    <tr>\n",
       "      <th>GarageFinish</th>\n",
       "      <td>1379</td>\n",
       "      <td>3</td>\n",
       "      <td>Unf</td>\n",
       "      <td>605</td>\n",
       "    </tr>\n",
       "    <tr>\n",
       "      <th>GarageQual</th>\n",
       "      <td>1379</td>\n",
       "      <td>5</td>\n",
       "      <td>TA</td>\n",
       "      <td>1311</td>\n",
       "    </tr>\n",
       "    <tr>\n",
       "      <th>GarageCond</th>\n",
       "      <td>1379</td>\n",
       "      <td>5</td>\n",
       "      <td>TA</td>\n",
       "      <td>1326</td>\n",
       "    </tr>\n",
       "    <tr>\n",
       "      <th>PavedDrive</th>\n",
       "      <td>1460</td>\n",
       "      <td>3</td>\n",
       "      <td>Y</td>\n",
       "      <td>1340</td>\n",
       "    </tr>\n",
       "    <tr>\n",
       "      <th>PoolQC</th>\n",
       "      <td>7</td>\n",
       "      <td>3</td>\n",
       "      <td>Gd</td>\n",
       "      <td>3</td>\n",
       "    </tr>\n",
       "    <tr>\n",
       "      <th>Fence</th>\n",
       "      <td>281</td>\n",
       "      <td>4</td>\n",
       "      <td>MnPrv</td>\n",
       "      <td>157</td>\n",
       "    </tr>\n",
       "    <tr>\n",
       "      <th>MiscFeature</th>\n",
       "      <td>54</td>\n",
       "      <td>4</td>\n",
       "      <td>Shed</td>\n",
       "      <td>49</td>\n",
       "    </tr>\n",
       "    <tr>\n",
       "      <th>SaleType</th>\n",
       "      <td>1460</td>\n",
       "      <td>9</td>\n",
       "      <td>WD</td>\n",
       "      <td>1267</td>\n",
       "    </tr>\n",
       "    <tr>\n",
       "      <th>SaleCondition</th>\n",
       "      <td>1460</td>\n",
       "      <td>6</td>\n",
       "      <td>Normal</td>\n",
       "      <td>1198</td>\n",
       "    </tr>\n",
       "  </tbody>\n",
       "</table>\n",
       "</div>"
      ],
      "text/plain": [
       "              count unique      top  freq\n",
       "MSZoning       1460      5       RL  1151\n",
       "Street         1460      2     Pave  1454\n",
       "Alley            91      2     Grvl    50\n",
       "LotShape       1460      4      Reg   925\n",
       "LandContour    1460      4      Lvl  1311\n",
       "Utilities      1460      2   AllPub  1459\n",
       "LotConfig      1460      5   Inside  1052\n",
       "LandSlope      1460      3      Gtl  1382\n",
       "Neighborhood   1460     25    NAmes   225\n",
       "Condition1     1460      9     Norm  1260\n",
       "Condition2     1460      8     Norm  1445\n",
       "BldgType       1460      5     1Fam  1220\n",
       "HouseStyle     1460      8   1Story   726\n",
       "RoofStyle      1460      6    Gable  1141\n",
       "RoofMatl       1460      8  CompShg  1434\n",
       "Exterior1st    1460     15  VinylSd   515\n",
       "Exterior2nd    1460     16  VinylSd   504\n",
       "MasVnrType      588      3  BrkFace   445\n",
       "ExterQual      1460      4       TA   906\n",
       "ExterCond      1460      5       TA  1282\n",
       "Foundation     1460      6    PConc   647\n",
       "BsmtQual       1423      4       TA   649\n",
       "BsmtCond       1423      4       TA  1311\n",
       "BsmtExposure   1422      4       No   953\n",
       "BsmtFinType1   1423      6      Unf   430\n",
       "BsmtFinType2   1422      6      Unf  1256\n",
       "Heating        1460      6     GasA  1428\n",
       "HeatingQC      1460      5       Ex   741\n",
       "CentralAir     1460      2        Y  1365\n",
       "Electrical     1459      5    SBrkr  1334\n",
       "KitchenQual    1460      4       TA   735\n",
       "Functional     1460      7      Typ  1360\n",
       "FireplaceQu     770      5       Gd   380\n",
       "GarageType     1379      6   Attchd   870\n",
       "GarageFinish   1379      3      Unf   605\n",
       "GarageQual     1379      5       TA  1311\n",
       "GarageCond     1379      5       TA  1326\n",
       "PavedDrive     1460      3        Y  1340\n",
       "PoolQC            7      3       Gd     3\n",
       "Fence           281      4    MnPrv   157\n",
       "MiscFeature      54      4     Shed    49\n",
       "SaleType       1460      9       WD  1267\n",
       "SaleCondition  1460      6   Normal  1198"
      ]
     },
     "execution_count": 6,
     "metadata": {},
     "output_type": "execute_result"
    }
   ],
   "source": [
    "car_feat = df.select_dtypes(include=[ object])\n",
    "car_feat.describe().T"
   ]
  },
  {
   "cell_type": "code",
   "execution_count": 9,
   "metadata": {},
   "outputs": [
    {
     "data": {
      "text/plain": [
       "PoolQC          1453\n",
       "MiscFeature     1406\n",
       "Alley           1369\n",
       "Fence           1179\n",
       "MasVnrType       872\n",
       "FireplaceQu      690\n",
       "LotFrontage      259\n",
       "GarageYrBlt       81\n",
       "GarageCond        81\n",
       "GarageType        81\n",
       "GarageFinish      81\n",
       "GarageQual        81\n",
       "BsmtFinType2      38\n",
       "BsmtExposure      38\n",
       "BsmtQual          37\n",
       "BsmtCond          37\n",
       "BsmtFinType1      37\n",
       "MasVnrArea         8\n",
       "Electrical         1\n",
       "Id                 0\n",
       "dtype: int64"
      ]
     },
     "execution_count": 9,
     "metadata": {},
     "output_type": "execute_result"
    }
   ],
   "source": [
    "df.isnull().sum().sort_values(ascending=False).head(20)"
   ]
  },
  {
   "cell_type": "code",
   "execution_count": 11,
   "metadata": {},
   "outputs": [],
   "source": [
    "rows_with_missing_value = df[df.isnull().any(axis=1)]"
   ]
  },
  {
   "cell_type": "code",
   "execution_count": 12,
   "metadata": {},
   "outputs": [
    {
     "data": {
      "text/html": [
       "<div>\n",
       "<style scoped>\n",
       "    .dataframe tbody tr th:only-of-type {\n",
       "        vertical-align: middle;\n",
       "    }\n",
       "\n",
       "    .dataframe tbody tr th {\n",
       "        vertical-align: top;\n",
       "    }\n",
       "\n",
       "    .dataframe thead th {\n",
       "        text-align: right;\n",
       "    }\n",
       "</style>\n",
       "<table border=\"1\" class=\"dataframe\">\n",
       "  <thead>\n",
       "    <tr style=\"text-align: right;\">\n",
       "      <th></th>\n",
       "      <th>Id</th>\n",
       "      <th>MSSubClass</th>\n",
       "      <th>MSZoning</th>\n",
       "      <th>LotFrontage</th>\n",
       "      <th>LotArea</th>\n",
       "      <th>Street</th>\n",
       "      <th>Alley</th>\n",
       "      <th>LotShape</th>\n",
       "      <th>LandContour</th>\n",
       "      <th>Utilities</th>\n",
       "      <th>...</th>\n",
       "      <th>PoolArea</th>\n",
       "      <th>PoolQC</th>\n",
       "      <th>Fence</th>\n",
       "      <th>MiscFeature</th>\n",
       "      <th>MiscVal</th>\n",
       "      <th>MoSold</th>\n",
       "      <th>YrSold</th>\n",
       "      <th>SaleType</th>\n",
       "      <th>SaleCondition</th>\n",
       "      <th>SalePrice</th>\n",
       "    </tr>\n",
       "  </thead>\n",
       "  <tbody>\n",
       "    <tr>\n",
       "      <th>0</th>\n",
       "      <td>1</td>\n",
       "      <td>60</td>\n",
       "      <td>RL</td>\n",
       "      <td>65.0</td>\n",
       "      <td>8450</td>\n",
       "      <td>Pave</td>\n",
       "      <td>NaN</td>\n",
       "      <td>Reg</td>\n",
       "      <td>Lvl</td>\n",
       "      <td>AllPub</td>\n",
       "      <td>...</td>\n",
       "      <td>0</td>\n",
       "      <td>NaN</td>\n",
       "      <td>NaN</td>\n",
       "      <td>NaN</td>\n",
       "      <td>0</td>\n",
       "      <td>2</td>\n",
       "      <td>2008</td>\n",
       "      <td>WD</td>\n",
       "      <td>Normal</td>\n",
       "      <td>208500</td>\n",
       "    </tr>\n",
       "    <tr>\n",
       "      <th>1</th>\n",
       "      <td>2</td>\n",
       "      <td>20</td>\n",
       "      <td>RL</td>\n",
       "      <td>80.0</td>\n",
       "      <td>9600</td>\n",
       "      <td>Pave</td>\n",
       "      <td>NaN</td>\n",
       "      <td>Reg</td>\n",
       "      <td>Lvl</td>\n",
       "      <td>AllPub</td>\n",
       "      <td>...</td>\n",
       "      <td>0</td>\n",
       "      <td>NaN</td>\n",
       "      <td>NaN</td>\n",
       "      <td>NaN</td>\n",
       "      <td>0</td>\n",
       "      <td>5</td>\n",
       "      <td>2007</td>\n",
       "      <td>WD</td>\n",
       "      <td>Normal</td>\n",
       "      <td>181500</td>\n",
       "    </tr>\n",
       "    <tr>\n",
       "      <th>2</th>\n",
       "      <td>3</td>\n",
       "      <td>60</td>\n",
       "      <td>RL</td>\n",
       "      <td>68.0</td>\n",
       "      <td>11250</td>\n",
       "      <td>Pave</td>\n",
       "      <td>NaN</td>\n",
       "      <td>IR1</td>\n",
       "      <td>Lvl</td>\n",
       "      <td>AllPub</td>\n",
       "      <td>...</td>\n",
       "      <td>0</td>\n",
       "      <td>NaN</td>\n",
       "      <td>NaN</td>\n",
       "      <td>NaN</td>\n",
       "      <td>0</td>\n",
       "      <td>9</td>\n",
       "      <td>2008</td>\n",
       "      <td>WD</td>\n",
       "      <td>Normal</td>\n",
       "      <td>223500</td>\n",
       "    </tr>\n",
       "    <tr>\n",
       "      <th>3</th>\n",
       "      <td>4</td>\n",
       "      <td>70</td>\n",
       "      <td>RL</td>\n",
       "      <td>60.0</td>\n",
       "      <td>9550</td>\n",
       "      <td>Pave</td>\n",
       "      <td>NaN</td>\n",
       "      <td>IR1</td>\n",
       "      <td>Lvl</td>\n",
       "      <td>AllPub</td>\n",
       "      <td>...</td>\n",
       "      <td>0</td>\n",
       "      <td>NaN</td>\n",
       "      <td>NaN</td>\n",
       "      <td>NaN</td>\n",
       "      <td>0</td>\n",
       "      <td>2</td>\n",
       "      <td>2006</td>\n",
       "      <td>WD</td>\n",
       "      <td>Abnorml</td>\n",
       "      <td>140000</td>\n",
       "    </tr>\n",
       "    <tr>\n",
       "      <th>4</th>\n",
       "      <td>5</td>\n",
       "      <td>60</td>\n",
       "      <td>RL</td>\n",
       "      <td>84.0</td>\n",
       "      <td>14260</td>\n",
       "      <td>Pave</td>\n",
       "      <td>NaN</td>\n",
       "      <td>IR1</td>\n",
       "      <td>Lvl</td>\n",
       "      <td>AllPub</td>\n",
       "      <td>...</td>\n",
       "      <td>0</td>\n",
       "      <td>NaN</td>\n",
       "      <td>NaN</td>\n",
       "      <td>NaN</td>\n",
       "      <td>0</td>\n",
       "      <td>12</td>\n",
       "      <td>2008</td>\n",
       "      <td>WD</td>\n",
       "      <td>Normal</td>\n",
       "      <td>250000</td>\n",
       "    </tr>\n",
       "    <tr>\n",
       "      <th>...</th>\n",
       "      <td>...</td>\n",
       "      <td>...</td>\n",
       "      <td>...</td>\n",
       "      <td>...</td>\n",
       "      <td>...</td>\n",
       "      <td>...</td>\n",
       "      <td>...</td>\n",
       "      <td>...</td>\n",
       "      <td>...</td>\n",
       "      <td>...</td>\n",
       "      <td>...</td>\n",
       "      <td>...</td>\n",
       "      <td>...</td>\n",
       "      <td>...</td>\n",
       "      <td>...</td>\n",
       "      <td>...</td>\n",
       "      <td>...</td>\n",
       "      <td>...</td>\n",
       "      <td>...</td>\n",
       "      <td>...</td>\n",
       "      <td>...</td>\n",
       "    </tr>\n",
       "    <tr>\n",
       "      <th>1455</th>\n",
       "      <td>1456</td>\n",
       "      <td>60</td>\n",
       "      <td>RL</td>\n",
       "      <td>62.0</td>\n",
       "      <td>7917</td>\n",
       "      <td>Pave</td>\n",
       "      <td>NaN</td>\n",
       "      <td>Reg</td>\n",
       "      <td>Lvl</td>\n",
       "      <td>AllPub</td>\n",
       "      <td>...</td>\n",
       "      <td>0</td>\n",
       "      <td>NaN</td>\n",
       "      <td>NaN</td>\n",
       "      <td>NaN</td>\n",
       "      <td>0</td>\n",
       "      <td>8</td>\n",
       "      <td>2007</td>\n",
       "      <td>WD</td>\n",
       "      <td>Normal</td>\n",
       "      <td>175000</td>\n",
       "    </tr>\n",
       "    <tr>\n",
       "      <th>1456</th>\n",
       "      <td>1457</td>\n",
       "      <td>20</td>\n",
       "      <td>RL</td>\n",
       "      <td>85.0</td>\n",
       "      <td>13175</td>\n",
       "      <td>Pave</td>\n",
       "      <td>NaN</td>\n",
       "      <td>Reg</td>\n",
       "      <td>Lvl</td>\n",
       "      <td>AllPub</td>\n",
       "      <td>...</td>\n",
       "      <td>0</td>\n",
       "      <td>NaN</td>\n",
       "      <td>MnPrv</td>\n",
       "      <td>NaN</td>\n",
       "      <td>0</td>\n",
       "      <td>2</td>\n",
       "      <td>2010</td>\n",
       "      <td>WD</td>\n",
       "      <td>Normal</td>\n",
       "      <td>210000</td>\n",
       "    </tr>\n",
       "    <tr>\n",
       "      <th>1457</th>\n",
       "      <td>1458</td>\n",
       "      <td>70</td>\n",
       "      <td>RL</td>\n",
       "      <td>66.0</td>\n",
       "      <td>9042</td>\n",
       "      <td>Pave</td>\n",
       "      <td>NaN</td>\n",
       "      <td>Reg</td>\n",
       "      <td>Lvl</td>\n",
       "      <td>AllPub</td>\n",
       "      <td>...</td>\n",
       "      <td>0</td>\n",
       "      <td>NaN</td>\n",
       "      <td>GdPrv</td>\n",
       "      <td>Shed</td>\n",
       "      <td>2500</td>\n",
       "      <td>5</td>\n",
       "      <td>2010</td>\n",
       "      <td>WD</td>\n",
       "      <td>Normal</td>\n",
       "      <td>266500</td>\n",
       "    </tr>\n",
       "    <tr>\n",
       "      <th>1458</th>\n",
       "      <td>1459</td>\n",
       "      <td>20</td>\n",
       "      <td>RL</td>\n",
       "      <td>68.0</td>\n",
       "      <td>9717</td>\n",
       "      <td>Pave</td>\n",
       "      <td>NaN</td>\n",
       "      <td>Reg</td>\n",
       "      <td>Lvl</td>\n",
       "      <td>AllPub</td>\n",
       "      <td>...</td>\n",
       "      <td>0</td>\n",
       "      <td>NaN</td>\n",
       "      <td>NaN</td>\n",
       "      <td>NaN</td>\n",
       "      <td>0</td>\n",
       "      <td>4</td>\n",
       "      <td>2010</td>\n",
       "      <td>WD</td>\n",
       "      <td>Normal</td>\n",
       "      <td>142125</td>\n",
       "    </tr>\n",
       "    <tr>\n",
       "      <th>1459</th>\n",
       "      <td>1460</td>\n",
       "      <td>20</td>\n",
       "      <td>RL</td>\n",
       "      <td>75.0</td>\n",
       "      <td>9937</td>\n",
       "      <td>Pave</td>\n",
       "      <td>NaN</td>\n",
       "      <td>Reg</td>\n",
       "      <td>Lvl</td>\n",
       "      <td>AllPub</td>\n",
       "      <td>...</td>\n",
       "      <td>0</td>\n",
       "      <td>NaN</td>\n",
       "      <td>NaN</td>\n",
       "      <td>NaN</td>\n",
       "      <td>0</td>\n",
       "      <td>6</td>\n",
       "      <td>2008</td>\n",
       "      <td>WD</td>\n",
       "      <td>Normal</td>\n",
       "      <td>147500</td>\n",
       "    </tr>\n",
       "  </tbody>\n",
       "</table>\n",
       "<p>1460 rows × 81 columns</p>\n",
       "</div>"
      ],
      "text/plain": [
       "        Id  MSSubClass MSZoning  LotFrontage  LotArea Street Alley LotShape  \\\n",
       "0        1          60       RL         65.0     8450   Pave   NaN      Reg   \n",
       "1        2          20       RL         80.0     9600   Pave   NaN      Reg   \n",
       "2        3          60       RL         68.0    11250   Pave   NaN      IR1   \n",
       "3        4          70       RL         60.0     9550   Pave   NaN      IR1   \n",
       "4        5          60       RL         84.0    14260   Pave   NaN      IR1   \n",
       "...    ...         ...      ...          ...      ...    ...   ...      ...   \n",
       "1455  1456          60       RL         62.0     7917   Pave   NaN      Reg   \n",
       "1456  1457          20       RL         85.0    13175   Pave   NaN      Reg   \n",
       "1457  1458          70       RL         66.0     9042   Pave   NaN      Reg   \n",
       "1458  1459          20       RL         68.0     9717   Pave   NaN      Reg   \n",
       "1459  1460          20       RL         75.0     9937   Pave   NaN      Reg   \n",
       "\n",
       "     LandContour Utilities  ... PoolArea PoolQC  Fence MiscFeature MiscVal  \\\n",
       "0            Lvl    AllPub  ...        0    NaN    NaN         NaN       0   \n",
       "1            Lvl    AllPub  ...        0    NaN    NaN         NaN       0   \n",
       "2            Lvl    AllPub  ...        0    NaN    NaN         NaN       0   \n",
       "3            Lvl    AllPub  ...        0    NaN    NaN         NaN       0   \n",
       "4            Lvl    AllPub  ...        0    NaN    NaN         NaN       0   \n",
       "...          ...       ...  ...      ...    ...    ...         ...     ...   \n",
       "1455         Lvl    AllPub  ...        0    NaN    NaN         NaN       0   \n",
       "1456         Lvl    AllPub  ...        0    NaN  MnPrv         NaN       0   \n",
       "1457         Lvl    AllPub  ...        0    NaN  GdPrv        Shed    2500   \n",
       "1458         Lvl    AllPub  ...        0    NaN    NaN         NaN       0   \n",
       "1459         Lvl    AllPub  ...        0    NaN    NaN         NaN       0   \n",
       "\n",
       "     MoSold YrSold  SaleType  SaleCondition  SalePrice  \n",
       "0         2   2008        WD         Normal     208500  \n",
       "1         5   2007        WD         Normal     181500  \n",
       "2         9   2008        WD         Normal     223500  \n",
       "3         2   2006        WD        Abnorml     140000  \n",
       "4        12   2008        WD         Normal     250000  \n",
       "...     ...    ...       ...            ...        ...  \n",
       "1455      8   2007        WD         Normal     175000  \n",
       "1456      2   2010        WD         Normal     210000  \n",
       "1457      5   2010        WD         Normal     266500  \n",
       "1458      4   2010        WD         Normal     142125  \n",
       "1459      6   2008        WD         Normal     147500  \n",
       "\n",
       "[1460 rows x 81 columns]"
      ]
     },
     "execution_count": 12,
     "metadata": {},
     "output_type": "execute_result"
    }
   ],
   "source": [
    "rows_with_missing_value"
   ]
  },
  {
   "cell_type": "code",
   "execution_count": 13,
   "metadata": {},
   "outputs": [
    {
     "data": {
      "text/plain": [
       "Index(['Id', 'MSSubClass', 'MSZoning', 'LotFrontage', 'LotArea', 'Street',\n",
       "       'Alley', 'LotShape', 'LandContour', 'Utilities', 'LotConfig',\n",
       "       'LandSlope', 'Neighborhood', 'Condition1', 'Condition2', 'BldgType',\n",
       "       'HouseStyle', 'OverallQual', 'OverallCond', 'YearBuilt', 'YearRemodAdd',\n",
       "       'RoofStyle', 'RoofMatl', 'Exterior1st', 'Exterior2nd', 'MasVnrType',\n",
       "       'MasVnrArea', 'ExterQual', 'ExterCond', 'Foundation', 'BsmtQual',\n",
       "       'BsmtCond', 'BsmtExposure', 'BsmtFinType1', 'BsmtFinSF1',\n",
       "       'BsmtFinType2', 'BsmtFinSF2', 'BsmtUnfSF', 'TotalBsmtSF', 'Heating',\n",
       "       'HeatingQC', 'CentralAir', 'Electrical', '1stFlrSF', '2ndFlrSF',\n",
       "       'LowQualFinSF', 'GrLivArea', 'BsmtFullBath', 'BsmtHalfBath', 'FullBath',\n",
       "       'HalfBath', 'BedroomAbvGr', 'KitchenAbvGr', 'KitchenQual',\n",
       "       'TotRmsAbvGrd', 'Functional', 'Fireplaces', 'FireplaceQu', 'GarageType',\n",
       "       'GarageYrBlt', 'GarageFinish', 'GarageCars', 'GarageArea', 'GarageQual',\n",
       "       'GarageCond', 'PavedDrive', 'WoodDeckSF', 'OpenPorchSF',\n",
       "       'EnclosedPorch', '3SsnPorch', 'ScreenPorch', 'PoolArea', 'PoolQC',\n",
       "       'Fence', 'MiscFeature', 'MiscVal', 'MoSold', 'YrSold', 'SaleType',\n",
       "       'SaleCondition', 'SalePrice'],\n",
       "      dtype='object')"
      ]
     },
     "execution_count": 13,
     "metadata": {},
     "output_type": "execute_result"
    }
   ],
   "source": [
    "df.columns"
   ]
  },
  {
   "cell_type": "code",
   "execution_count": 18,
   "metadata": {},
   "outputs": [],
   "source": [
    "mu , sigma = stats.norm.fit(df['SalePrice'])\n",
    "hist_data = go.Histogram(x=df['SalePrice'], nbinsx=50, name=\"Histogram\", opacity=0.75, histnorm='probability density', marker=dict(color='purple'))"
   ]
  },
  {
   "cell_type": "code",
   "execution_count": 20,
   "metadata": {},
   "outputs": [],
   "source": [
    "x_norm = np.linspace(df['SalePrice'].min(), df['SalePrice'].max(), 100)\n",
    "y_norm = stats.norm.pdf(x_norm, mu, sigma)"
   ]
  },
  {
   "cell_type": "code",
   "execution_count": 25,
   "metadata": {},
   "outputs": [],
   "source": [
    "norm_data = go.Scatter(x=x_norm, y=y_norm, mode='lines', name='Normal dist')"
   ]
  },
  {
   "cell_type": "code",
   "execution_count": 26,
   "metadata": {},
   "outputs": [
    {
     "data": {
      "application/vnd.plotly.v1+json": {
       "config": {
        "plotlyServerURL": "https://plot.ly"
       },
       "data": [
        {
         "histnorm": "probability density",
         "marker": {
          "color": "purple"
         },
         "name": "Histogram",
         "nbinsx": 50,
         "opacity": 0.75,
         "type": "histogram",
         "x": {
          "bdata": "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",
          "dtype": "i4"
         }
        },
        {
         "mode": "lines",
         "name": "Normal dist",
         "type": "scatter",
         "x": {
          "bdata": "AAAAAIAK4UDezpCYt5fkQL2dITHvJOhAm2yyySay60B6O0NiXj/vQCwFav1KZvFAm2yyyeYs80AK1PqVgvP0QHo7Q2IeuvZA6KKLLrqA+EBYCtT6VUf6QMdxHMfxDfxANtlkk43U/UClQK1fKZv/QArU+pXisABBwgcffDCUAUF6O0NifncCQTFvZ0jMWgNB6KKLLho+BEGg1q8UaCEFQVgK1Pq1BAZBDz744APoBkHHcRzHUcsHQX+lQK2frghBNtlkk+2RCUHuDIl5O3UKQaVArV+JWAtBXXTRRdc7DEEVqPUrJR8NQczbGRJzAg5BhA8++MDlDkE7Q2LeDskPQXo7Q2IuVhBBVlVVVdXHEEExb2dIfDkRQQ2JeTsjqxFB6KKLLsocEkHEvJ0hcY4SQaDWrxQYABNBfPDBB79xE0FYCtT6ZeMTQTQk5u0MVRRBDz744LPGFEHrVwrUWjgVQcdxHMcBqhVBo4suuqgbFkF/pUCtT40WQVq/UqD2/hZBNtlkk51wF0ES83aGROIXQe4MiXnrUxhByiabbJLFGEGlQK1fOTcZQYFav1LgqBlBXXTRRYcaGkE5juM4LowaQRWo9SvV/RpB8MEHH3xvG0HM2xkSI+EbQaj1KwXKUhxBhA8++HDEHEFgKVDrFzYdQTtDYt6+px1BF1100WUZHkHzdobEDIseQc+QmLez/B5Bq6qqqlpuH0GGxLydAeAfQTFvZ0jUKCBBH3zwwadhIEENiXk7e5ogQfuVArVO0yBB6KKLLiIMIUHXrxSo9UQhQcS8nSHJfSFBsskmm5y2IUGg1q8UcO8hQY7jOI5DKCJBfPDBBxdhIkFq/UqB6pkiQVgK1Pq90iJBRhdddJELI0E0JObtZEQjQSIxb2c4fSNBDz744Au2I0H9SoFa3+4jQetXCtSyJyRB2WSTTYZgJEHHcRzHWZkkQbV+pUAt0iRBo4suugALJUGRmLcz1EMlQX+lQK2nfCVBbbLJJnu1JUFav1KgTu4lQUjM2xkiJyZBNtlkk/VfJkEk5u0MyZgmQRLzdoac0SZBAAAAAHAKJ0E=",
          "dtype": "f8"
         },
         "y": {
          "bdata": "iOJ1hPsWrz4QuSkOs1GyPrCKjNB8aLU+Zm7B8x3PuD5/GbLZkYK8PkU3bdilPsA+RAvNboRbwj5XT8XeXZLEPouKW6RJ3MY+OKD5chExyT5nvtIaVofLPkMxRFrF1M0+rsG8wC8H0D69+lxeZRTRPlurk2pYDNI+X23jqpHp0j6oFtGrAKfTPoiAVeosQNQ+wu7jqGKx1D6kC0r92PfUPraij/XOEdU+0nIPKp7+1D7zOzyqwb7UPgkpE93QU9Q+Y8t2oW7A0z6xoTmoLQjTPtlGppxrL9I+gPOrLSU70T4QEf1gxTDQPln9dIrlK84+qXOJLrrgyz6atW+GG4vJPjuW9rF6Ncc+SGCwPV/pxD7us07YLq/CPiAJENsFjsA+FSqZtkEXvT4sedcKrVi5PhXgr2NA5rU+gSyqCl7Dsj76F6ATLOKvPl1glEvl3Ko+SqBTLJtxpj5URkKAUZiiPreff1QXjp4+yxndDeTkmD79Heg2zxyUPlX88icYHZA+iSi4Wp+aiT7tZBIHBiyEPhiIwc/rhH8+QxqEkElreD61CYVFpMJyPmSgFErAlWw+fMiLGG6YZT5IANAzvS1gPjTAWTDmCVg+NOBlwJ21UT7rWAeaFeBJPmICzMDPvkI+FYzRkOfuOj6ubTKF5i8zPuGYX0j4Gys+rj0XNL/9Ij7PWTQg0mIaPvYbe4xPLRI+Fq+S2qfVCD4cqlvp1tIAPi2CrcdhmvY9eeDvfkAd7j2RPGBBp+TjPZhHAkUaENo96nT36jDu0D0Y6nWV7s/FPd3oNF/u3bs9ifL7mAWnsT1DZyEMXS2mPdJG/nMIoZs9A+vRHBgRkT2IdB2nluiEPUPfNJSwZnk9dAQCp+qZbj3ABvVPakdiPSo6F5OWp1U9zyBzaX1wST3KbGxu0qI9PYnOX/lFHjE9/t/ZN0GcIz3hgpAvEkcWPYT4cdqiGAk94C81yQgJ/DxQ5LzMkQ7vPB+QICHzDuE8pbSC3CCV0jyo/Qiv4BLEPMp+fxvjgLU80SLQ6LPXpjwZ7Xxj+Q+YPE0cDbC2Iok8O4I79o0Jejw=",
          "dtype": "f8"
         }
        }
       ],
       "layout": {
        "template": {
         "data": {
          "bar": [
           {
            "error_x": {
             "color": "#2a3f5f"
            },
            "error_y": {
             "color": "#2a3f5f"
            },
            "marker": {
             "line": {
              "color": "#E5ECF6",
              "width": 0.5
             },
             "pattern": {
              "fillmode": "overlay",
              "size": 10,
              "solidity": 0.2
             }
            },
            "type": "bar"
           }
          ],
          "barpolar": [
           {
            "marker": {
             "line": {
              "color": "#E5ECF6",
              "width": 0.5
             },
             "pattern": {
              "fillmode": "overlay",
              "size": 10,
              "solidity": 0.2
             }
            },
            "type": "barpolar"
           }
          ],
          "carpet": [
           {
            "aaxis": {
             "endlinecolor": "#2a3f5f",
             "gridcolor": "white",
             "linecolor": "white",
             "minorgridcolor": "white",
             "startlinecolor": "#2a3f5f"
            },
            "baxis": {
             "endlinecolor": "#2a3f5f",
             "gridcolor": "white",
             "linecolor": "white",
             "minorgridcolor": "white",
             "startlinecolor": "#2a3f5f"
            },
            "type": "carpet"
           }
          ],
          "choropleth": [
           {
            "colorbar": {
             "outlinewidth": 0,
             "ticks": ""
            },
            "type": "choropleth"
           }
          ],
          "contour": [
           {
            "colorbar": {
             "outlinewidth": 0,
             "ticks": ""
            },
            "colorscale": [
             [
              0,
              "#0d0887"
             ],
             [
              0.1111111111111111,
              "#46039f"
             ],
             [
              0.2222222222222222,
              "#7201a8"
             ],
             [
              0.3333333333333333,
              "#9c179e"
             ],
             [
              0.4444444444444444,
              "#bd3786"
             ],
             [
              0.5555555555555556,
              "#d8576b"
             ],
             [
              0.6666666666666666,
              "#ed7953"
             ],
             [
              0.7777777777777778,
              "#fb9f3a"
             ],
             [
              0.8888888888888888,
              "#fdca26"
             ],
             [
              1,
              "#f0f921"
             ]
            ],
            "type": "contour"
           }
          ],
          "contourcarpet": [
           {
            "colorbar": {
             "outlinewidth": 0,
             "ticks": ""
            },
            "type": "contourcarpet"
           }
          ],
          "heatmap": [
           {
            "colorbar": {
             "outlinewidth": 0,
             "ticks": ""
            },
            "colorscale": [
             [
              0,
              "#0d0887"
             ],
             [
              0.1111111111111111,
              "#46039f"
             ],
             [
              0.2222222222222222,
              "#7201a8"
             ],
             [
              0.3333333333333333,
              "#9c179e"
             ],
             [
              0.4444444444444444,
              "#bd3786"
             ],
             [
              0.5555555555555556,
              "#d8576b"
             ],
             [
              0.6666666666666666,
              "#ed7953"
             ],
             [
              0.7777777777777778,
              "#fb9f3a"
             ],
             [
              0.8888888888888888,
              "#fdca26"
             ],
             [
              1,
              "#f0f921"
             ]
            ],
            "type": "heatmap"
           }
          ],
          "histogram": [
           {
            "marker": {
             "pattern": {
              "fillmode": "overlay",
              "size": 10,
              "solidity": 0.2
             }
            },
            "type": "histogram"
           }
          ],
          "histogram2d": [
           {
            "colorbar": {
             "outlinewidth": 0,
             "ticks": ""
            },
            "colorscale": [
             [
              0,
              "#0d0887"
             ],
             [
              0.1111111111111111,
              "#46039f"
             ],
             [
              0.2222222222222222,
              "#7201a8"
             ],
             [
              0.3333333333333333,
              "#9c179e"
             ],
             [
              0.4444444444444444,
              "#bd3786"
             ],
             [
              0.5555555555555556,
              "#d8576b"
             ],
             [
              0.6666666666666666,
              "#ed7953"
             ],
             [
              0.7777777777777778,
              "#fb9f3a"
             ],
             [
              0.8888888888888888,
              "#fdca26"
             ],
             [
              1,
              "#f0f921"
             ]
            ],
            "type": "histogram2d"
           }
          ],
          "histogram2dcontour": [
           {
            "colorbar": {
             "outlinewidth": 0,
             "ticks": ""
            },
            "colorscale": [
             [
              0,
              "#0d0887"
             ],
             [
              0.1111111111111111,
              "#46039f"
             ],
             [
              0.2222222222222222,
              "#7201a8"
             ],
             [
              0.3333333333333333,
              "#9c179e"
             ],
             [
              0.4444444444444444,
              "#bd3786"
             ],
             [
              0.5555555555555556,
              "#d8576b"
             ],
             [
              0.6666666666666666,
              "#ed7953"
             ],
             [
              0.7777777777777778,
              "#fb9f3a"
             ],
             [
              0.8888888888888888,
              "#fdca26"
             ],
             [
              1,
              "#f0f921"
             ]
            ],
            "type": "histogram2dcontour"
           }
          ],
          "mesh3d": [
           {
            "colorbar": {
             "outlinewidth": 0,
             "ticks": ""
            },
            "type": "mesh3d"
           }
          ],
          "parcoords": [
           {
            "line": {
             "colorbar": {
              "outlinewidth": 0,
              "ticks": ""
             }
            },
            "type": "parcoords"
           }
          ],
          "pie": [
           {
            "automargin": true,
            "type": "pie"
           }
          ],
          "scatter": [
           {
            "fillpattern": {
             "fillmode": "overlay",
             "size": 10,
             "solidity": 0.2
            },
            "type": "scatter"
           }
          ],
          "scatter3d": [
           {
            "line": {
             "colorbar": {
              "outlinewidth": 0,
              "ticks": ""
             }
            },
            "marker": {
             "colorbar": {
              "outlinewidth": 0,
              "ticks": ""
             }
            },
            "type": "scatter3d"
           }
          ],
          "scattercarpet": [
           {
            "marker": {
             "colorbar": {
              "outlinewidth": 0,
              "ticks": ""
             }
            },
            "type": "scattercarpet"
           }
          ],
          "scattergeo": [
           {
            "marker": {
             "colorbar": {
              "outlinewidth": 0,
              "ticks": ""
             }
            },
            "type": "scattergeo"
           }
          ],
          "scattergl": [
           {
            "marker": {
             "colorbar": {
              "outlinewidth": 0,
              "ticks": ""
             }
            },
            "type": "scattergl"
           }
          ],
          "scattermap": [
           {
            "marker": {
             "colorbar": {
              "outlinewidth": 0,
              "ticks": ""
             }
            },
            "type": "scattermap"
           }
          ],
          "scattermapbox": [
           {
            "marker": {
             "colorbar": {
              "outlinewidth": 0,
              "ticks": ""
             }
            },
            "type": "scattermapbox"
           }
          ],
          "scatterpolar": [
           {
            "marker": {
             "colorbar": {
              "outlinewidth": 0,
              "ticks": ""
             }
            },
            "type": "scatterpolar"
           }
          ],
          "scatterpolargl": [
           {
            "marker": {
             "colorbar": {
              "outlinewidth": 0,
              "ticks": ""
             }
            },
            "type": "scatterpolargl"
           }
          ],
          "scatterternary": [
           {
            "marker": {
             "colorbar": {
              "outlinewidth": 0,
              "ticks": ""
             }
            },
            "type": "scatterternary"
           }
          ],
          "surface": [
           {
            "colorbar": {
             "outlinewidth": 0,
             "ticks": ""
            },
            "colorscale": [
             [
              0,
              "#0d0887"
             ],
             [
              0.1111111111111111,
              "#46039f"
             ],
             [
              0.2222222222222222,
              "#7201a8"
             ],
             [
              0.3333333333333333,
              "#9c179e"
             ],
             [
              0.4444444444444444,
              "#bd3786"
             ],
             [
              0.5555555555555556,
              "#d8576b"
             ],
             [
              0.6666666666666666,
              "#ed7953"
             ],
             [
              0.7777777777777778,
              "#fb9f3a"
             ],
             [
              0.8888888888888888,
              "#fdca26"
             ],
             [
              1,
              "#f0f921"
             ]
            ],
            "type": "surface"
           }
          ],
          "table": [
           {
            "cells": {
             "fill": {
              "color": "#EBF0F8"
             },
             "line": {
              "color": "white"
             }
            },
            "header": {
             "fill": {
              "color": "#C8D4E3"
             },
             "line": {
              "color": "white"
             }
            },
            "type": "table"
           }
          ]
         },
         "layout": {
          "annotationdefaults": {
           "arrowcolor": "#2a3f5f",
           "arrowhead": 0,
           "arrowwidth": 1
          },
          "autotypenumbers": "strict",
          "coloraxis": {
           "colorbar": {
            "outlinewidth": 0,
            "ticks": ""
           }
          },
          "colorscale": {
           "diverging": [
            [
             0,
             "#8e0152"
            ],
            [
             0.1,
             "#c51b7d"
            ],
            [
             0.2,
             "#de77ae"
            ],
            [
             0.3,
             "#f1b6da"
            ],
            [
             0.4,
             "#fde0ef"
            ],
            [
             0.5,
             "#f7f7f7"
            ],
            [
             0.6,
             "#e6f5d0"
            ],
            [
             0.7,
             "#b8e186"
            ],
            [
             0.8,
             "#7fbc41"
            ],
            [
             0.9,
             "#4d9221"
            ],
            [
             1,
             "#276419"
            ]
           ],
           "sequential": [
            [
             0,
             "#0d0887"
            ],
            [
             0.1111111111111111,
             "#46039f"
            ],
            [
             0.2222222222222222,
             "#7201a8"
            ],
            [
             0.3333333333333333,
             "#9c179e"
            ],
            [
             0.4444444444444444,
             "#bd3786"
            ],
            [
             0.5555555555555556,
             "#d8576b"
            ],
            [
             0.6666666666666666,
             "#ed7953"
            ],
            [
             0.7777777777777778,
             "#fb9f3a"
            ],
            [
             0.8888888888888888,
             "#fdca26"
            ],
            [
             1,
             "#f0f921"
            ]
           ],
           "sequentialminus": [
            [
             0,
             "#0d0887"
            ],
            [
             0.1111111111111111,
             "#46039f"
            ],
            [
             0.2222222222222222,
             "#7201a8"
            ],
            [
             0.3333333333333333,
             "#9c179e"
            ],
            [
             0.4444444444444444,
             "#bd3786"
            ],
            [
             0.5555555555555556,
             "#d8576b"
            ],
            [
             0.6666666666666666,
             "#ed7953"
            ],
            [
             0.7777777777777778,
             "#fb9f3a"
            ],
            [
             0.8888888888888888,
             "#fdca26"
            ],
            [
             1,
             "#f0f921"
            ]
           ]
          },
          "colorway": [
           "#636efa",
           "#EF553B",
           "#00cc96",
           "#ab63fa",
           "#FFA15A",
           "#19d3f3",
           "#FF6692",
           "#B6E880",
           "#FF97FF",
           "#FECB52"
          ],
          "font": {
           "color": "#2a3f5f"
          },
          "geo": {
           "bgcolor": "white",
           "lakecolor": "white",
           "landcolor": "#E5ECF6",
           "showlakes": true,
           "showland": true,
           "subunitcolor": "white"
          },
          "hoverlabel": {
           "align": "left"
          },
          "hovermode": "closest",
          "mapbox": {
           "style": "light"
          },
          "paper_bgcolor": "white",
          "plot_bgcolor": "#E5ECF6",
          "polar": {
           "angularaxis": {
            "gridcolor": "white",
            "linecolor": "white",
            "ticks": ""
           },
           "bgcolor": "#E5ECF6",
           "radialaxis": {
            "gridcolor": "white",
            "linecolor": "white",
            "ticks": ""
           }
          },
          "scene": {
           "xaxis": {
            "backgroundcolor": "#E5ECF6",
            "gridcolor": "white",
            "gridwidth": 2,
            "linecolor": "white",
            "showbackground": true,
            "ticks": "",
            "zerolinecolor": "white"
           },
           "yaxis": {
            "backgroundcolor": "#E5ECF6",
            "gridcolor": "white",
            "gridwidth": 2,
            "linecolor": "white",
            "showbackground": true,
            "ticks": "",
            "zerolinecolor": "white"
           },
           "zaxis": {
            "backgroundcolor": "#E5ECF6",
            "gridcolor": "white",
            "gridwidth": 2,
            "linecolor": "white",
            "showbackground": true,
            "ticks": "",
            "zerolinecolor": "white"
           }
          },
          "shapedefaults": {
           "line": {
            "color": "#2a3f5f"
           }
          },
          "ternary": {
           "aaxis": {
            "gridcolor": "white",
            "linecolor": "white",
            "ticks": ""
           },
           "baxis": {
            "gridcolor": "white",
            "linecolor": "white",
            "ticks": ""
           },
           "bgcolor": "#E5ECF6",
           "caxis": {
            "gridcolor": "white",
            "linecolor": "white",
            "ticks": ""
           }
          },
          "title": {
           "x": 0.05
          },
          "xaxis": {
           "automargin": true,
           "gridcolor": "white",
           "linecolor": "white",
           "ticks": "",
           "title": {
            "standoff": 15
           },
           "zerolinecolor": "white",
           "zerolinewidth": 2
          },
          "yaxis": {
           "automargin": true,
           "gridcolor": "white",
           "linecolor": "white",
           "ticks": "",
           "title": {
            "standoff": 15
           },
           "zerolinecolor": "white",
           "zerolinewidth": 2
          }
         }
        }
       }
      }
     },
     "metadata": {},
     "output_type": "display_data"
    }
   ],
   "source": [
    "go.Figure(data=[hist_data, norm_data])"
   ]
  },
  {
   "cell_type": "code",
   "execution_count": 27,
   "metadata": {},
   "outputs": [],
   "source": [
    "qq_data = stats.probplot(df['SalePrice'], dist=\"norm\")\n",
    "qq_fig = px.scatter(x=qq_data[0][0], y=qq_data[0][1], labels={'x': 'Theoretical Quantiles', 'y': 'Ordered Values'}, color_discrete_sequence=[\"purple\"])"
   ]
  },
  {
   "cell_type": "code",
   "execution_count": 29,
   "metadata": {},
   "outputs": [
    {
     "data": {
      "application/vnd.plotly.v1+json": {
       "config": {
        "plotlyServerURL": "https://plot.ly"
       },
       "data": [
        {
         "hovertemplate": "Theoretical Quantiles=%{x}<br>Ordered Values=%{y}<extra></extra>",
         "legendgroup": "",
         "marker": {
          "color": "purple",
          "symbol": "circle"
         },
         "mode": "markers",
         "name": "",
         "showlegend": false,
         "type": "scattergl",
         "x": {
          "bdata": "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",
          "dtype": "f8"
         },
         "xaxis": "x",
         "y": {
          "bdata": "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",
          "dtype": "i4"
         },
         "yaxis": "y"
        },
        {
         "line": {
          "color": "green"
         },
         "mode": "lines",
         "name": "Normal Line",
         "type": "scatter",
         "x": {
          "bdata": "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",
          "dtype": "f8"
         },
         "y": {
          "bdata": "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",
          "dtype": "f8"
         }
        }
       ],
       "layout": {
        "legend": {
         "tracegroupgap": 0
        },
        "margin": {
         "t": 60
        },
        "template": {
         "data": {
          "bar": [
           {
            "error_x": {
             "color": "#2a3f5f"
            },
            "error_y": {
             "color": "#2a3f5f"
            },
            "marker": {
             "line": {
              "color": "#E5ECF6",
              "width": 0.5
             },
             "pattern": {
              "fillmode": "overlay",
              "size": 10,
              "solidity": 0.2
             }
            },
            "type": "bar"
           }
          ],
          "barpolar": [
           {
            "marker": {
             "line": {
              "color": "#E5ECF6",
              "width": 0.5
             },
             "pattern": {
              "fillmode": "overlay",
              "size": 10,
              "solidity": 0.2
             }
            },
            "type": "barpolar"
           }
          ],
          "carpet": [
           {
            "aaxis": {
             "endlinecolor": "#2a3f5f",
             "gridcolor": "white",
             "linecolor": "white",
             "minorgridcolor": "white",
             "startlinecolor": "#2a3f5f"
            },
            "baxis": {
             "endlinecolor": "#2a3f5f",
             "gridcolor": "white",
             "linecolor": "white",
             "minorgridcolor": "white",
             "startlinecolor": "#2a3f5f"
            },
            "type": "carpet"
           }
          ],
          "choropleth": [
           {
            "colorbar": {
             "outlinewidth": 0,
             "ticks": ""
            },
            "type": "choropleth"
           }
          ],
          "contour": [
           {
            "colorbar": {
             "outlinewidth": 0,
             "ticks": ""
            },
            "colorscale": [
             [
              0,
              "#0d0887"
             ],
             [
              0.1111111111111111,
              "#46039f"
             ],
             [
              0.2222222222222222,
              "#7201a8"
             ],
             [
              0.3333333333333333,
              "#9c179e"
             ],
             [
              0.4444444444444444,
              "#bd3786"
             ],
             [
              0.5555555555555556,
              "#d8576b"
             ],
             [
              0.6666666666666666,
              "#ed7953"
             ],
             [
              0.7777777777777778,
              "#fb9f3a"
             ],
             [
              0.8888888888888888,
              "#fdca26"
             ],
             [
              1,
              "#f0f921"
             ]
            ],
            "type": "contour"
           }
          ],
          "contourcarpet": [
           {
            "colorbar": {
             "outlinewidth": 0,
             "ticks": ""
            },
            "type": "contourcarpet"
           }
          ],
          "heatmap": [
           {
            "colorbar": {
             "outlinewidth": 0,
             "ticks": ""
            },
            "colorscale": [
             [
              0,
              "#0d0887"
             ],
             [
              0.1111111111111111,
              "#46039f"
             ],
             [
              0.2222222222222222,
              "#7201a8"
             ],
             [
              0.3333333333333333,
              "#9c179e"
             ],
             [
              0.4444444444444444,
              "#bd3786"
             ],
             [
              0.5555555555555556,
              "#d8576b"
             ],
             [
              0.6666666666666666,
              "#ed7953"
             ],
             [
              0.7777777777777778,
              "#fb9f3a"
             ],
             [
              0.8888888888888888,
              "#fdca26"
             ],
             [
              1,
              "#f0f921"
             ]
            ],
            "type": "heatmap"
           }
          ],
          "histogram": [
           {
            "marker": {
             "pattern": {
              "fillmode": "overlay",
              "size": 10,
              "solidity": 0.2
             }
            },
            "type": "histogram"
           }
          ],
          "histogram2d": [
           {
            "colorbar": {
             "outlinewidth": 0,
             "ticks": ""
            },
            "colorscale": [
             [
              0,
              "#0d0887"
             ],
             [
              0.1111111111111111,
              "#46039f"
             ],
             [
              0.2222222222222222,
              "#7201a8"
             ],
             [
              0.3333333333333333,
              "#9c179e"
             ],
             [
              0.4444444444444444,
              "#bd3786"
             ],
             [
              0.5555555555555556,
              "#d8576b"
             ],
             [
              0.6666666666666666,
              "#ed7953"
             ],
             [
              0.7777777777777778,
              "#fb9f3a"
             ],
             [
              0.8888888888888888,
              "#fdca26"
             ],
             [
              1,
              "#f0f921"
             ]
            ],
            "type": "histogram2d"
           }
          ],
          "histogram2dcontour": [
           {
            "colorbar": {
             "outlinewidth": 0,
             "ticks": ""
            },
            "colorscale": [
             [
              0,
              "#0d0887"
             ],
             [
              0.1111111111111111,
              "#46039f"
             ],
             [
              0.2222222222222222,
              "#7201a8"
             ],
             [
              0.3333333333333333,
              "#9c179e"
             ],
             [
              0.4444444444444444,
              "#bd3786"
             ],
             [
              0.5555555555555556,
              "#d8576b"
             ],
             [
              0.6666666666666666,
              "#ed7953"
             ],
             [
              0.7777777777777778,
              "#fb9f3a"
             ],
             [
              0.8888888888888888,
              "#fdca26"
             ],
             [
              1,
              "#f0f921"
             ]
            ],
            "type": "histogram2dcontour"
           }
          ],
          "mesh3d": [
           {
            "colorbar": {
             "outlinewidth": 0,
             "ticks": ""
            },
            "type": "mesh3d"
           }
          ],
          "parcoords": [
           {
            "line": {
             "colorbar": {
              "outlinewidth": 0,
              "ticks": ""
             }
            },
            "type": "parcoords"
           }
          ],
          "pie": [
           {
            "automargin": true,
            "type": "pie"
           }
          ],
          "scatter": [
           {
            "fillpattern": {
             "fillmode": "overlay",
             "size": 10,
             "solidity": 0.2
            },
            "type": "scatter"
           }
          ],
          "scatter3d": [
           {
            "line": {
             "colorbar": {
              "outlinewidth": 0,
              "ticks": ""
             }
            },
            "marker": {
             "colorbar": {
              "outlinewidth": 0,
              "ticks": ""
             }
            },
            "type": "scatter3d"
           }
          ],
          "scattercarpet": [
           {
            "marker": {
             "colorbar": {
              "outlinewidth": 0,
              "ticks": ""
             }
            },
            "type": "scattercarpet"
           }
          ],
          "scattergeo": [
           {
            "marker": {
             "colorbar": {
              "outlinewidth": 0,
              "ticks": ""
             }
            },
            "type": "scattergeo"
           }
          ],
          "scattergl": [
           {
            "marker": {
             "colorbar": {
              "outlinewidth": 0,
              "ticks": ""
             }
            },
            "type": "scattergl"
           }
          ],
          "scattermap": [
           {
            "marker": {
             "colorbar": {
              "outlinewidth": 0,
              "ticks": ""
             }
            },
            "type": "scattermap"
           }
          ],
          "scattermapbox": [
           {
            "marker": {
             "colorbar": {
              "outlinewidth": 0,
              "ticks": ""
             }
            },
            "type": "scattermapbox"
           }
          ],
          "scatterpolar": [
           {
            "marker": {
             "colorbar": {
              "outlinewidth": 0,
              "ticks": ""
             }
            },
            "type": "scatterpolar"
           }
          ],
          "scatterpolargl": [
           {
            "marker": {
             "colorbar": {
              "outlinewidth": 0,
              "ticks": ""
             }
            },
            "type": "scatterpolargl"
           }
          ],
          "scatterternary": [
           {
            "marker": {
             "colorbar": {
              "outlinewidth": 0,
              "ticks": ""
             }
            },
            "type": "scatterternary"
           }
          ],
          "surface": [
           {
            "colorbar": {
             "outlinewidth": 0,
             "ticks": ""
            },
            "colorscale": [
             [
              0,
              "#0d0887"
             ],
             [
              0.1111111111111111,
              "#46039f"
             ],
             [
              0.2222222222222222,
              "#7201a8"
             ],
             [
              0.3333333333333333,
              "#9c179e"
             ],
             [
              0.4444444444444444,
              "#bd3786"
             ],
             [
              0.5555555555555556,
              "#d8576b"
             ],
             [
              0.6666666666666666,
              "#ed7953"
             ],
             [
              0.7777777777777778,
              "#fb9f3a"
             ],
             [
              0.8888888888888888,
              "#fdca26"
             ],
             [
              1,
              "#f0f921"
             ]
            ],
            "type": "surface"
           }
          ],
          "table": [
           {
            "cells": {
             "fill": {
              "color": "#EBF0F8"
             },
             "line": {
              "color": "white"
             }
            },
            "header": {
             "fill": {
              "color": "#C8D4E3"
             },
             "line": {
              "color": "white"
             }
            },
            "type": "table"
           }
          ]
         },
         "layout": {
          "annotationdefaults": {
           "arrowcolor": "#2a3f5f",
           "arrowhead": 0,
           "arrowwidth": 1
          },
          "autotypenumbers": "strict",
          "coloraxis": {
           "colorbar": {
            "outlinewidth": 0,
            "ticks": ""
           }
          },
          "colorscale": {
           "diverging": [
            [
             0,
             "#8e0152"
            ],
            [
             0.1,
             "#c51b7d"
            ],
            [
             0.2,
             "#de77ae"
            ],
            [
             0.3,
             "#f1b6da"
            ],
            [
             0.4,
             "#fde0ef"
            ],
            [
             0.5,
             "#f7f7f7"
            ],
            [
             0.6,
             "#e6f5d0"
            ],
            [
             0.7,
             "#b8e186"
            ],
            [
             0.8,
             "#7fbc41"
            ],
            [
             0.9,
             "#4d9221"
            ],
            [
             1,
             "#276419"
            ]
           ],
           "sequential": [
            [
             0,
             "#0d0887"
            ],
            [
             0.1111111111111111,
             "#46039f"
            ],
            [
             0.2222222222222222,
             "#7201a8"
            ],
            [
             0.3333333333333333,
             "#9c179e"
            ],
            [
             0.4444444444444444,
             "#bd3786"
            ],
            [
             0.5555555555555556,
             "#d8576b"
            ],
            [
             0.6666666666666666,
             "#ed7953"
            ],
            [
             0.7777777777777778,
             "#fb9f3a"
            ],
            [
             0.8888888888888888,
             "#fdca26"
            ],
            [
             1,
             "#f0f921"
            ]
           ],
           "sequentialminus": [
            [
             0,
             "#0d0887"
            ],
            [
             0.1111111111111111,
             "#46039f"
            ],
            [
             0.2222222222222222,
             "#7201a8"
            ],
            [
             0.3333333333333333,
             "#9c179e"
            ],
            [
             0.4444444444444444,
             "#bd3786"
            ],
            [
             0.5555555555555556,
             "#d8576b"
            ],
            [
             0.6666666666666666,
             "#ed7953"
            ],
            [
             0.7777777777777778,
             "#fb9f3a"
            ],
            [
             0.8888888888888888,
             "#fdca26"
            ],
            [
             1,
             "#f0f921"
            ]
           ]
          },
          "colorway": [
           "#636efa",
           "#EF553B",
           "#00cc96",
           "#ab63fa",
           "#FFA15A",
           "#19d3f3",
           "#FF6692",
           "#B6E880",
           "#FF97FF",
           "#FECB52"
          ],
          "font": {
           "color": "#2a3f5f"
          },
          "geo": {
           "bgcolor": "white",
           "lakecolor": "white",
           "landcolor": "#E5ECF6",
           "showlakes": true,
           "showland": true,
           "subunitcolor": "white"
          },
          "hoverlabel": {
           "align": "left"
          },
          "hovermode": "closest",
          "mapbox": {
           "style": "light"
          },
          "paper_bgcolor": "white",
          "plot_bgcolor": "#E5ECF6",
          "polar": {
           "angularaxis": {
            "gridcolor": "white",
            "linecolor": "white",
            "ticks": ""
           },
           "bgcolor": "#E5ECF6",
           "radialaxis": {
            "gridcolor": "white",
            "linecolor": "white",
            "ticks": ""
           }
          },
          "scene": {
           "xaxis": {
            "backgroundcolor": "#E5ECF6",
            "gridcolor": "white",
            "gridwidth": 2,
            "linecolor": "white",
            "showbackground": true,
            "ticks": "",
            "zerolinecolor": "white"
           },
           "yaxis": {
            "backgroundcolor": "#E5ECF6",
            "gridcolor": "white",
            "gridwidth": 2,
            "linecolor": "white",
            "showbackground": true,
            "ticks": "",
            "zerolinecolor": "white"
           },
           "zaxis": {
            "backgroundcolor": "#E5ECF6",
            "gridcolor": "white",
            "gridwidth": 2,
            "linecolor": "white",
            "showbackground": true,
            "ticks": "",
            "zerolinecolor": "white"
           }
          },
          "shapedefaults": {
           "line": {
            "color": "#2a3f5f"
           }
          },
          "ternary": {
           "aaxis": {
            "gridcolor": "white",
            "linecolor": "white",
            "ticks": ""
           },
           "baxis": {
            "gridcolor": "white",
            "linecolor": "white",
            "ticks": ""
           },
           "bgcolor": "#E5ECF6",
           "caxis": {
            "gridcolor": "white",
            "linecolor": "white",
            "ticks": ""
           }
          },
          "title": {
           "x": 0.05
          },
          "xaxis": {
           "automargin": true,
           "gridcolor": "white",
           "linecolor": "white",
           "ticks": "",
           "title": {
            "standoff": 15
           },
           "zerolinecolor": "white",
           "zerolinewidth": 2
          },
          "yaxis": {
           "automargin": true,
           "gridcolor": "white",
           "linecolor": "white",
           "ticks": "",
           "title": {
            "standoff": 15
           },
           "zerolinecolor": "white",
           "zerolinewidth": 2
          }
         }
        },
        "xaxis": {
         "anchor": "y",
         "domain": [
          0,
          1
         ],
         "title": {
          "text": "Theoretical Quantiles"
         }
        },
        "yaxis": {
         "anchor": "x",
         "domain": [
          0,
          1
         ],
         "title": {
          "text": "Ordered Values"
         }
        }
       }
      }
     },
     "metadata": {},
     "output_type": "display_data"
    }
   ],
   "source": [
    "slope, intercept, r_value, p_value, std_err = stats.linregress(qq_data[0][0], qq_data[0][1])\n",
    "line_x = np.array(qq_data[0][0])\n",
    "line_y = intercept + slope * line_x\n",
    "line_data = go.Scatter(x=line_x, y=line_y, mode=\"lines\", name=\"Normal Line\", line=dict(color=\"green\"))\n",
    "qq_fig.add_trace(line_data)\n",
    "qq_fig.show()"
   ]
  },
  {
   "cell_type": "markdown",
   "metadata": {},
   "source": [
    "<iframe src=\"https://www.kaggle.com/embed/kenjee/housing-prices-example-with-video-walkthrough?cellIds=15&kernelSessionId=134409344\" height=\"300\" style=\"margin: 0 auto; width: 100%; max-width: 950px;\" frameborder=\"0\" scrolling=\"auto\" title=\"Housing Prices Example (With Video Walkthrough)\"></iframe>"
   ]
  },
  {
   "cell_type": "code",
   "execution_count": 30,
   "metadata": {},
   "outputs": [],
   "source": [
    "dwelling_types = df['BldgType'].value_counts()\n",
    "dwelling_prices = df.groupby('BldgType')['SalePrice'].mean()"
   ]
  },
  {
   "cell_type": "code",
   "execution_count": 31,
   "metadata": {},
   "outputs": [
    {
     "data": {
      "application/vnd.plotly.v1+json": {
       "config": {
        "plotlyServerURL": "https://plot.ly"
       },
       "data": [
        {
         "marker": {
          "color": "rgb(76, 175, 80)",
          "line": {
           "color": "rgba(0,0,0,1)",
           "width": 2
          },
          "opacity": 1
         },
         "text": {
          "bdata": "AAAAAAAQk0AAAAAAAIBcQAAAAAAAAEpAAAAAAACARUAAAAAAAAA/QA==",
          "dtype": "f8"
         },
         "textposition": "outside",
         "type": "bar",
         "width": 0.4,
         "x": [
          "1Fam",
          "TwnhsE",
          "Duplex",
          "Twnhs",
          "2fmCon"
         ],
         "y": {
          "bdata": "xARyADQAKwAfAA==",
          "dtype": "i2"
         }
        }
       ],
       "layout": {
        "template": {
         "data": {
          "bar": [
           {
            "error_x": {
             "color": "#2a3f5f"
            },
            "error_y": {
             "color": "#2a3f5f"
            },
            "marker": {
             "line": {
              "color": "#E5ECF6",
              "width": 0.5
             },
             "pattern": {
              "fillmode": "overlay",
              "size": 10,
              "solidity": 0.2
             }
            },
            "type": "bar"
           }
          ],
          "barpolar": [
           {
            "marker": {
             "line": {
              "color": "#E5ECF6",
              "width": 0.5
             },
             "pattern": {
              "fillmode": "overlay",
              "size": 10,
              "solidity": 0.2
             }
            },
            "type": "barpolar"
           }
          ],
          "carpet": [
           {
            "aaxis": {
             "endlinecolor": "#2a3f5f",
             "gridcolor": "white",
             "linecolor": "white",
             "minorgridcolor": "white",
             "startlinecolor": "#2a3f5f"
            },
            "baxis": {
             "endlinecolor": "#2a3f5f",
             "gridcolor": "white",
             "linecolor": "white",
             "minorgridcolor": "white",
             "startlinecolor": "#2a3f5f"
            },
            "type": "carpet"
           }
          ],
          "choropleth": [
           {
            "colorbar": {
             "outlinewidth": 0,
             "ticks": ""
            },
            "type": "choropleth"
           }
          ],
          "contour": [
           {
            "colorbar": {
             "outlinewidth": 0,
             "ticks": ""
            },
            "colorscale": [
             [
              0,
              "#0d0887"
             ],
             [
              0.1111111111111111,
              "#46039f"
             ],
             [
              0.2222222222222222,
              "#7201a8"
             ],
             [
              0.3333333333333333,
              "#9c179e"
             ],
             [
              0.4444444444444444,
              "#bd3786"
             ],
             [
              0.5555555555555556,
              "#d8576b"
             ],
             [
              0.6666666666666666,
              "#ed7953"
             ],
             [
              0.7777777777777778,
              "#fb9f3a"
             ],
             [
              0.8888888888888888,
              "#fdca26"
             ],
             [
              1,
              "#f0f921"
             ]
            ],
            "type": "contour"
           }
          ],
          "contourcarpet": [
           {
            "colorbar": {
             "outlinewidth": 0,
             "ticks": ""
            },
            "type": "contourcarpet"
           }
          ],
          "heatmap": [
           {
            "colorbar": {
             "outlinewidth": 0,
             "ticks": ""
            },
            "colorscale": [
             [
              0,
              "#0d0887"
             ],
             [
              0.1111111111111111,
              "#46039f"
             ],
             [
              0.2222222222222222,
              "#7201a8"
             ],
             [
              0.3333333333333333,
              "#9c179e"
             ],
             [
              0.4444444444444444,
              "#bd3786"
             ],
             [
              0.5555555555555556,
              "#d8576b"
             ],
             [
              0.6666666666666666,
              "#ed7953"
             ],
             [
              0.7777777777777778,
              "#fb9f3a"
             ],
             [
              0.8888888888888888,
              "#fdca26"
             ],
             [
              1,
              "#f0f921"
             ]
            ],
            "type": "heatmap"
           }
          ],
          "histogram": [
           {
            "marker": {
             "pattern": {
              "fillmode": "overlay",
              "size": 10,
              "solidity": 0.2
             }
            },
            "type": "histogram"
           }
          ],
          "histogram2d": [
           {
            "colorbar": {
             "outlinewidth": 0,
             "ticks": ""
            },
            "colorscale": [
             [
              0,
              "#0d0887"
             ],
             [
              0.1111111111111111,
              "#46039f"
             ],
             [
              0.2222222222222222,
              "#7201a8"
             ],
             [
              0.3333333333333333,
              "#9c179e"
             ],
             [
              0.4444444444444444,
              "#bd3786"
             ],
             [
              0.5555555555555556,
              "#d8576b"
             ],
             [
              0.6666666666666666,
              "#ed7953"
             ],
             [
              0.7777777777777778,
              "#fb9f3a"
             ],
             [
              0.8888888888888888,
              "#fdca26"
             ],
             [
              1,
              "#f0f921"
             ]
            ],
            "type": "histogram2d"
           }
          ],
          "histogram2dcontour": [
           {
            "colorbar": {
             "outlinewidth": 0,
             "ticks": ""
            },
            "colorscale": [
             [
              0,
              "#0d0887"
             ],
             [
              0.1111111111111111,
              "#46039f"
             ],
             [
              0.2222222222222222,
              "#7201a8"
             ],
             [
              0.3333333333333333,
              "#9c179e"
             ],
             [
              0.4444444444444444,
              "#bd3786"
             ],
             [
              0.5555555555555556,
              "#d8576b"
             ],
             [
              0.6666666666666666,
              "#ed7953"
             ],
             [
              0.7777777777777778,
              "#fb9f3a"
             ],
             [
              0.8888888888888888,
              "#fdca26"
             ],
             [
              1,
              "#f0f921"
             ]
            ],
            "type": "histogram2dcontour"
           }
          ],
          "mesh3d": [
           {
            "colorbar": {
             "outlinewidth": 0,
             "ticks": ""
            },
            "type": "mesh3d"
           }
          ],
          "parcoords": [
           {
            "line": {
             "colorbar": {
              "outlinewidth": 0,
              "ticks": ""
             }
            },
            "type": "parcoords"
           }
          ],
          "pie": [
           {
            "automargin": true,
            "type": "pie"
           }
          ],
          "scatter": [
           {
            "fillpattern": {
             "fillmode": "overlay",
             "size": 10,
             "solidity": 0.2
            },
            "type": "scatter"
           }
          ],
          "scatter3d": [
           {
            "line": {
             "colorbar": {
              "outlinewidth": 0,
              "ticks": ""
             }
            },
            "marker": {
             "colorbar": {
              "outlinewidth": 0,
              "ticks": ""
             }
            },
            "type": "scatter3d"
           }
          ],
          "scattercarpet": [
           {
            "marker": {
             "colorbar": {
              "outlinewidth": 0,
              "ticks": ""
             }
            },
            "type": "scattercarpet"
           }
          ],
          "scattergeo": [
           {
            "marker": {
             "colorbar": {
              "outlinewidth": 0,
              "ticks": ""
             }
            },
            "type": "scattergeo"
           }
          ],
          "scattergl": [
           {
            "marker": {
             "colorbar": {
              "outlinewidth": 0,
              "ticks": ""
             }
            },
            "type": "scattergl"
           }
          ],
          "scattermap": [
           {
            "marker": {
             "colorbar": {
              "outlinewidth": 0,
              "ticks": ""
             }
            },
            "type": "scattermap"
           }
          ],
          "scattermapbox": [
           {
            "marker": {
             "colorbar": {
              "outlinewidth": 0,
              "ticks": ""
             }
            },
            "type": "scattermapbox"
           }
          ],
          "scatterpolar": [
           {
            "marker": {
             "colorbar": {
              "outlinewidth": 0,
              "ticks": ""
             }
            },
            "type": "scatterpolar"
           }
          ],
          "scatterpolargl": [
           {
            "marker": {
             "colorbar": {
              "outlinewidth": 0,
              "ticks": ""
             }
            },
            "type": "scatterpolargl"
           }
          ],
          "scatterternary": [
           {
            "marker": {
             "colorbar": {
              "outlinewidth": 0,
              "ticks": ""
             }
            },
            "type": "scatterternary"
           }
          ],
          "surface": [
           {
            "colorbar": {
             "outlinewidth": 0,
             "ticks": ""
            },
            "colorscale": [
             [
              0,
              "#0d0887"
             ],
             [
              0.1111111111111111,
              "#46039f"
             ],
             [
              0.2222222222222222,
              "#7201a8"
             ],
             [
              0.3333333333333333,
              "#9c179e"
             ],
             [
              0.4444444444444444,
              "#bd3786"
             ],
             [
              0.5555555555555556,
              "#d8576b"
             ],
             [
              0.6666666666666666,
              "#ed7953"
             ],
             [
              0.7777777777777778,
              "#fb9f3a"
             ],
             [
              0.8888888888888888,
              "#fdca26"
             ],
             [
              1,
              "#f0f921"
             ]
            ],
            "type": "surface"
           }
          ],
          "table": [
           {
            "cells": {
             "fill": {
              "color": "#EBF0F8"
             },
             "line": {
              "color": "white"
             }
            },
            "header": {
             "fill": {
              "color": "#C8D4E3"
             },
             "line": {
              "color": "white"
             }
            },
            "type": "table"
           }
          ]
         },
         "layout": {
          "annotationdefaults": {
           "arrowcolor": "#2a3f5f",
           "arrowhead": 0,
           "arrowwidth": 1
          },
          "autotypenumbers": "strict",
          "coloraxis": {
           "colorbar": {
            "outlinewidth": 0,
            "ticks": ""
           }
          },
          "colorscale": {
           "diverging": [
            [
             0,
             "#8e0152"
            ],
            [
             0.1,
             "#c51b7d"
            ],
            [
             0.2,
             "#de77ae"
            ],
            [
             0.3,
             "#f1b6da"
            ],
            [
             0.4,
             "#fde0ef"
            ],
            [
             0.5,
             "#f7f7f7"
            ],
            [
             0.6,
             "#e6f5d0"
            ],
            [
             0.7,
             "#b8e186"
            ],
            [
             0.8,
             "#7fbc41"
            ],
            [
             0.9,
             "#4d9221"
            ],
            [
             1,
             "#276419"
            ]
           ],
           "sequential": [
            [
             0,
             "#0d0887"
            ],
            [
             0.1111111111111111,
             "#46039f"
            ],
            [
             0.2222222222222222,
             "#7201a8"
            ],
            [
             0.3333333333333333,
             "#9c179e"
            ],
            [
             0.4444444444444444,
             "#bd3786"
            ],
            [
             0.5555555555555556,
             "#d8576b"
            ],
            [
             0.6666666666666666,
             "#ed7953"
            ],
            [
             0.7777777777777778,
             "#fb9f3a"
            ],
            [
             0.8888888888888888,
             "#fdca26"
            ],
            [
             1,
             "#f0f921"
            ]
           ],
           "sequentialminus": [
            [
             0,
             "#0d0887"
            ],
            [
             0.1111111111111111,
             "#46039f"
            ],
            [
             0.2222222222222222,
             "#7201a8"
            ],
            [
             0.3333333333333333,
             "#9c179e"
            ],
            [
             0.4444444444444444,
             "#bd3786"
            ],
            [
             0.5555555555555556,
             "#d8576b"
            ],
            [
             0.6666666666666666,
             "#ed7953"
            ],
            [
             0.7777777777777778,
             "#fb9f3a"
            ],
            [
             0.8888888888888888,
             "#fdca26"
            ],
            [
             1,
             "#f0f921"
            ]
           ]
          },
          "colorway": [
           "#636efa",
           "#EF553B",
           "#00cc96",
           "#ab63fa",
           "#FFA15A",
           "#19d3f3",
           "#FF6692",
           "#B6E880",
           "#FF97FF",
           "#FECB52"
          ],
          "font": {
           "color": "#2a3f5f"
          },
          "geo": {
           "bgcolor": "white",
           "lakecolor": "white",
           "landcolor": "#E5ECF6",
           "showlakes": true,
           "showland": true,
           "subunitcolor": "white"
          },
          "hoverlabel": {
           "align": "left"
          },
          "hovermode": "closest",
          "mapbox": {
           "style": "light"
          },
          "paper_bgcolor": "white",
          "plot_bgcolor": "#E5ECF6",
          "polar": {
           "angularaxis": {
            "gridcolor": "white",
            "linecolor": "white",
            "ticks": ""
           },
           "bgcolor": "#E5ECF6",
           "radialaxis": {
            "gridcolor": "white",
            "linecolor": "white",
            "ticks": ""
           }
          },
          "scene": {
           "xaxis": {
            "backgroundcolor": "#E5ECF6",
            "gridcolor": "white",
            "gridwidth": 2,
            "linecolor": "white",
            "showbackground": true,
            "ticks": "",
            "zerolinecolor": "white"
           },
           "yaxis": {
            "backgroundcolor": "#E5ECF6",
            "gridcolor": "white",
            "gridwidth": 2,
            "linecolor": "white",
            "showbackground": true,
            "ticks": "",
            "zerolinecolor": "white"
           },
           "zaxis": {
            "backgroundcolor": "#E5ECF6",
            "gridcolor": "white",
            "gridwidth": 2,
            "linecolor": "white",
            "showbackground": true,
            "ticks": "",
            "zerolinecolor": "white"
           }
          },
          "shapedefaults": {
           "line": {
            "color": "#2a3f5f"
           }
          },
          "ternary": {
           "aaxis": {
            "gridcolor": "white",
            "linecolor": "white",
            "ticks": ""
           },
           "baxis": {
            "gridcolor": "white",
            "linecolor": "white",
            "ticks": ""
           },
           "bgcolor": "#E5ECF6",
           "caxis": {
            "gridcolor": "white",
            "linecolor": "white",
            "ticks": ""
           }
          },
          "title": {
           "x": 0.05
          },
          "xaxis": {
           "automargin": true,
           "gridcolor": "white",
           "linecolor": "white",
           "ticks": "",
           "title": {
            "standoff": 15
           },
           "zerolinecolor": "white",
           "zerolinewidth": 2
          },
          "yaxis": {
           "automargin": true,
           "gridcolor": "white",
           "linecolor": "white",
           "ticks": "",
           "title": {
            "standoff": 15
           },
           "zerolinecolor": "white",
           "zerolinewidth": 2
          }
         }
        }
       }
      }
     },
     "metadata": {},
     "output_type": "display_data"
    }
   ],
   "source": [
    "formatted_dwelling_prices = ['$' + f'{value:,.2f}' for value in dwelling_prices.values]\n",
    "go.Figure(data=[go.Bar(\n",
    "    x=dwelling_types.index,\n",
    "    y=dwelling_types.values,\n",
    "    marker_color='rgb(76, 175, 80)',\n",
    "    text=dwelling_types.values,\n",
    "    textposition='outside',\n",
    "    width=0.4,\n",
    "    marker=dict(line=dict(width=2, color='rgba(0,0,0,1)'), opacity=1)\n",
    ")])"
   ]
  },
  {
   "cell_type": "code",
   "execution_count": 32,
   "metadata": {},
   "outputs": [
    {
     "data": {
      "application/vnd.plotly.v1+json": {
       "config": {
        "plotlyServerURL": "https://plot.ly"
       },
       "data": [
        {
         "marker": {
          "color": "rgb(156, 39, 176)",
          "line": {
           "color": "rgba(0,0,0,1)",
           "width": 2
          },
          "opacity": 1
         },
         "text": [
          "$185,763.81",
          "$128,432.26",
          "$133,541.08",
          "$135,911.63",
          "$181,959.34"
         ],
         "textposition": "outside",
         "type": "bar",
         "width": 0.4,
         "x": [
          "1Fam",
          "2fmCon",
          "Duplex",
          "Twnhs",
          "TwnhsE"
         ],
         "y": {
          "bdata": "LhmCdR6tBkERQgghBFv/QJ7YiZ0oTQBB0Bf0BT2XAEEor6G8OjYGQQ==",
          "dtype": "f8"
         }
        }
       ],
       "layout": {
        "template": {
         "data": {
          "bar": [
           {
            "error_x": {
             "color": "#2a3f5f"
            },
            "error_y": {
             "color": "#2a3f5f"
            },
            "marker": {
             "line": {
              "color": "#E5ECF6",
              "width": 0.5
             },
             "pattern": {
              "fillmode": "overlay",
              "size": 10,
              "solidity": 0.2
             }
            },
            "type": "bar"
           }
          ],
          "barpolar": [
           {
            "marker": {
             "line": {
              "color": "#E5ECF6",
              "width": 0.5
             },
             "pattern": {
              "fillmode": "overlay",
              "size": 10,
              "solidity": 0.2
             }
            },
            "type": "barpolar"
           }
          ],
          "carpet": [
           {
            "aaxis": {
             "endlinecolor": "#2a3f5f",
             "gridcolor": "white",
             "linecolor": "white",
             "minorgridcolor": "white",
             "startlinecolor": "#2a3f5f"
            },
            "baxis": {
             "endlinecolor": "#2a3f5f",
             "gridcolor": "white",
             "linecolor": "white",
             "minorgridcolor": "white",
             "startlinecolor": "#2a3f5f"
            },
            "type": "carpet"
           }
          ],
          "choropleth": [
           {
            "colorbar": {
             "outlinewidth": 0,
             "ticks": ""
            },
            "type": "choropleth"
           }
          ],
          "contour": [
           {
            "colorbar": {
             "outlinewidth": 0,
             "ticks": ""
            },
            "colorscale": [
             [
              0,
              "#0d0887"
             ],
             [
              0.1111111111111111,
              "#46039f"
             ],
             [
              0.2222222222222222,
              "#7201a8"
             ],
             [
              0.3333333333333333,
              "#9c179e"
             ],
             [
              0.4444444444444444,
              "#bd3786"
             ],
             [
              0.5555555555555556,
              "#d8576b"
             ],
             [
              0.6666666666666666,
              "#ed7953"
             ],
             [
              0.7777777777777778,
              "#fb9f3a"
             ],
             [
              0.8888888888888888,
              "#fdca26"
             ],
             [
              1,
              "#f0f921"
             ]
            ],
            "type": "contour"
           }
          ],
          "contourcarpet": [
           {
            "colorbar": {
             "outlinewidth": 0,
             "ticks": ""
            },
            "type": "contourcarpet"
           }
          ],
          "heatmap": [
           {
            "colorbar": {
             "outlinewidth": 0,
             "ticks": ""
            },
            "colorscale": [
             [
              0,
              "#0d0887"
             ],
             [
              0.1111111111111111,
              "#46039f"
             ],
             [
              0.2222222222222222,
              "#7201a8"
             ],
             [
              0.3333333333333333,
              "#9c179e"
             ],
             [
              0.4444444444444444,
              "#bd3786"
             ],
             [
              0.5555555555555556,
              "#d8576b"
             ],
             [
              0.6666666666666666,
              "#ed7953"
             ],
             [
              0.7777777777777778,
              "#fb9f3a"
             ],
             [
              0.8888888888888888,
              "#fdca26"
             ],
             [
              1,
              "#f0f921"
             ]
            ],
            "type": "heatmap"
           }
          ],
          "histogram": [
           {
            "marker": {
             "pattern": {
              "fillmode": "overlay",
              "size": 10,
              "solidity": 0.2
             }
            },
            "type": "histogram"
           }
          ],
          "histogram2d": [
           {
            "colorbar": {
             "outlinewidth": 0,
             "ticks": ""
            },
            "colorscale": [
             [
              0,
              "#0d0887"
             ],
             [
              0.1111111111111111,
              "#46039f"
             ],
             [
              0.2222222222222222,
              "#7201a8"
             ],
             [
              0.3333333333333333,
              "#9c179e"
             ],
             [
              0.4444444444444444,
              "#bd3786"
             ],
             [
              0.5555555555555556,
              "#d8576b"
             ],
             [
              0.6666666666666666,
              "#ed7953"
             ],
             [
              0.7777777777777778,
              "#fb9f3a"
             ],
             [
              0.8888888888888888,
              "#fdca26"
             ],
             [
              1,
              "#f0f921"
             ]
            ],
            "type": "histogram2d"
           }
          ],
          "histogram2dcontour": [
           {
            "colorbar": {
             "outlinewidth": 0,
             "ticks": ""
            },
            "colorscale": [
             [
              0,
              "#0d0887"
             ],
             [
              0.1111111111111111,
              "#46039f"
             ],
             [
              0.2222222222222222,
              "#7201a8"
             ],
             [
              0.3333333333333333,
              "#9c179e"
             ],
             [
              0.4444444444444444,
              "#bd3786"
             ],
             [
              0.5555555555555556,
              "#d8576b"
             ],
             [
              0.6666666666666666,
              "#ed7953"
             ],
             [
              0.7777777777777778,
              "#fb9f3a"
             ],
             [
              0.8888888888888888,
              "#fdca26"
             ],
             [
              1,
              "#f0f921"
             ]
            ],
            "type": "histogram2dcontour"
           }
          ],
          "mesh3d": [
           {
            "colorbar": {
             "outlinewidth": 0,
             "ticks": ""
            },
            "type": "mesh3d"
           }
          ],
          "parcoords": [
           {
            "line": {
             "colorbar": {
              "outlinewidth": 0,
              "ticks": ""
             }
            },
            "type": "parcoords"
           }
          ],
          "pie": [
           {
            "automargin": true,
            "type": "pie"
           }
          ],
          "scatter": [
           {
            "fillpattern": {
             "fillmode": "overlay",
             "size": 10,
             "solidity": 0.2
            },
            "type": "scatter"
           }
          ],
          "scatter3d": [
           {
            "line": {
             "colorbar": {
              "outlinewidth": 0,
              "ticks": ""
             }
            },
            "marker": {
             "colorbar": {
              "outlinewidth": 0,
              "ticks": ""
             }
            },
            "type": "scatter3d"
           }
          ],
          "scattercarpet": [
           {
            "marker": {
             "colorbar": {
              "outlinewidth": 0,
              "ticks": ""
             }
            },
            "type": "scattercarpet"
           }
          ],
          "scattergeo": [
           {
            "marker": {
             "colorbar": {
              "outlinewidth": 0,
              "ticks": ""
             }
            },
            "type": "scattergeo"
           }
          ],
          "scattergl": [
           {
            "marker": {
             "colorbar": {
              "outlinewidth": 0,
              "ticks": ""
             }
            },
            "type": "scattergl"
           }
          ],
          "scattermap": [
           {
            "marker": {
             "colorbar": {
              "outlinewidth": 0,
              "ticks": ""
             }
            },
            "type": "scattermap"
           }
          ],
          "scattermapbox": [
           {
            "marker": {
             "colorbar": {
              "outlinewidth": 0,
              "ticks": ""
             }
            },
            "type": "scattermapbox"
           }
          ],
          "scatterpolar": [
           {
            "marker": {
             "colorbar": {
              "outlinewidth": 0,
              "ticks": ""
             }
            },
            "type": "scatterpolar"
           }
          ],
          "scatterpolargl": [
           {
            "marker": {
             "colorbar": {
              "outlinewidth": 0,
              "ticks": ""
             }
            },
            "type": "scatterpolargl"
           }
          ],
          "scatterternary": [
           {
            "marker": {
             "colorbar": {
              "outlinewidth": 0,
              "ticks": ""
             }
            },
            "type": "scatterternary"
           }
          ],
          "surface": [
           {
            "colorbar": {
             "outlinewidth": 0,
             "ticks": ""
            },
            "colorscale": [
             [
              0,
              "#0d0887"
             ],
             [
              0.1111111111111111,
              "#46039f"
             ],
             [
              0.2222222222222222,
              "#7201a8"
             ],
             [
              0.3333333333333333,
              "#9c179e"
             ],
             [
              0.4444444444444444,
              "#bd3786"
             ],
             [
              0.5555555555555556,
              "#d8576b"
             ],
             [
              0.6666666666666666,
              "#ed7953"
             ],
             [
              0.7777777777777778,
              "#fb9f3a"
             ],
             [
              0.8888888888888888,
              "#fdca26"
             ],
             [
              1,
              "#f0f921"
             ]
            ],
            "type": "surface"
           }
          ],
          "table": [
           {
            "cells": {
             "fill": {
              "color": "#EBF0F8"
             },
             "line": {
              "color": "white"
             }
            },
            "header": {
             "fill": {
              "color": "#C8D4E3"
             },
             "line": {
              "color": "white"
             }
            },
            "type": "table"
           }
          ]
         },
         "layout": {
          "annotationdefaults": {
           "arrowcolor": "#2a3f5f",
           "arrowhead": 0,
           "arrowwidth": 1
          },
          "autotypenumbers": "strict",
          "coloraxis": {
           "colorbar": {
            "outlinewidth": 0,
            "ticks": ""
           }
          },
          "colorscale": {
           "diverging": [
            [
             0,
             "#8e0152"
            ],
            [
             0.1,
             "#c51b7d"
            ],
            [
             0.2,
             "#de77ae"
            ],
            [
             0.3,
             "#f1b6da"
            ],
            [
             0.4,
             "#fde0ef"
            ],
            [
             0.5,
             "#f7f7f7"
            ],
            [
             0.6,
             "#e6f5d0"
            ],
            [
             0.7,
             "#b8e186"
            ],
            [
             0.8,
             "#7fbc41"
            ],
            [
             0.9,
             "#4d9221"
            ],
            [
             1,
             "#276419"
            ]
           ],
           "sequential": [
            [
             0,
             "#0d0887"
            ],
            [
             0.1111111111111111,
             "#46039f"
            ],
            [
             0.2222222222222222,
             "#7201a8"
            ],
            [
             0.3333333333333333,
             "#9c179e"
            ],
            [
             0.4444444444444444,
             "#bd3786"
            ],
            [
             0.5555555555555556,
             "#d8576b"
            ],
            [
             0.6666666666666666,
             "#ed7953"
            ],
            [
             0.7777777777777778,
             "#fb9f3a"
            ],
            [
             0.8888888888888888,
             "#fdca26"
            ],
            [
             1,
             "#f0f921"
            ]
           ],
           "sequentialminus": [
            [
             0,
             "#0d0887"
            ],
            [
             0.1111111111111111,
             "#46039f"
            ],
            [
             0.2222222222222222,
             "#7201a8"
            ],
            [
             0.3333333333333333,
             "#9c179e"
            ],
            [
             0.4444444444444444,
             "#bd3786"
            ],
            [
             0.5555555555555556,
             "#d8576b"
            ],
            [
             0.6666666666666666,
             "#ed7953"
            ],
            [
             0.7777777777777778,
             "#fb9f3a"
            ],
            [
             0.8888888888888888,
             "#fdca26"
            ],
            [
             1,
             "#f0f921"
            ]
           ]
          },
          "colorway": [
           "#636efa",
           "#EF553B",
           "#00cc96",
           "#ab63fa",
           "#FFA15A",
           "#19d3f3",
           "#FF6692",
           "#B6E880",
           "#FF97FF",
           "#FECB52"
          ],
          "font": {
           "color": "#2a3f5f"
          },
          "geo": {
           "bgcolor": "white",
           "lakecolor": "white",
           "landcolor": "#E5ECF6",
           "showlakes": true,
           "showland": true,
           "subunitcolor": "white"
          },
          "hoverlabel": {
           "align": "left"
          },
          "hovermode": "closest",
          "mapbox": {
           "style": "light"
          },
          "paper_bgcolor": "white",
          "plot_bgcolor": "#E5ECF6",
          "polar": {
           "angularaxis": {
            "gridcolor": "white",
            "linecolor": "white",
            "ticks": ""
           },
           "bgcolor": "#E5ECF6",
           "radialaxis": {
            "gridcolor": "white",
            "linecolor": "white",
            "ticks": ""
           }
          },
          "scene": {
           "xaxis": {
            "backgroundcolor": "#E5ECF6",
            "gridcolor": "white",
            "gridwidth": 2,
            "linecolor": "white",
            "showbackground": true,
            "ticks": "",
            "zerolinecolor": "white"
           },
           "yaxis": {
            "backgroundcolor": "#E5ECF6",
            "gridcolor": "white",
            "gridwidth": 2,
            "linecolor": "white",
            "showbackground": true,
            "ticks": "",
            "zerolinecolor": "white"
           },
           "zaxis": {
            "backgroundcolor": "#E5ECF6",
            "gridcolor": "white",
            "gridwidth": 2,
            "linecolor": "white",
            "showbackground": true,
            "ticks": "",
            "zerolinecolor": "white"
           }
          },
          "shapedefaults": {
           "line": {
            "color": "#2a3f5f"
           }
          },
          "ternary": {
           "aaxis": {
            "gridcolor": "white",
            "linecolor": "white",
            "ticks": ""
           },
           "baxis": {
            "gridcolor": "white",
            "linecolor": "white",
            "ticks": ""
           },
           "bgcolor": "#E5ECF6",
           "caxis": {
            "gridcolor": "white",
            "linecolor": "white",
            "ticks": ""
           }
          },
          "title": {
           "x": 0.05
          },
          "xaxis": {
           "automargin": true,
           "gridcolor": "white",
           "linecolor": "white",
           "ticks": "",
           "title": {
            "standoff": 15
           },
           "zerolinecolor": "white",
           "zerolinewidth": 2
          },
          "yaxis": {
           "automargin": true,
           "gridcolor": "white",
           "linecolor": "white",
           "ticks": "",
           "title": {
            "standoff": 15
           },
           "zerolinecolor": "white",
           "zerolinewidth": 2
          }
         }
        }
       }
      }
     },
     "metadata": {},
     "output_type": "display_data"
    }
   ],
   "source": [
    "go.Figure(data=[go.Bar(\n",
    "    x=dwelling_prices.index,\n",
    "    y=dwelling_prices.values,\n",
    "    marker_color='rgb(156, 39, 176)',\n",
    "    text=formatted_dwelling_prices,\n",
    "    textposition='outside',\n",
    "    width=0.4,\n",
    "    marker=dict(line=dict(width=2, color='rgba(0,0,0,1)'), opacity=1)\n",
    ")])"
   ]
  },
  {
   "cell_type": "code",
   "execution_count": null,
   "metadata": {},
   "outputs": [
    {
     "data": {
      "application/vnd.plotly.v1+json": {
       "config": {
        "plotlyServerURL": "https://plot.ly"
       },
       "data": [
        {
         "hovertemplate": "x=%{x}<br>y=%{y}<br>text=%{text}<extra></extra>",
         "legendgroup": "",
         "marker": {
          "color": "purple",
          "pattern": {
           "shape": ""
          }
         },
         "name": "",
         "orientation": "v",
         "showlegend": false,
         "text": {
          "bdata": "AAAAAAAy8kB+4Ad+8B8KQQAAAAAzDwBB/vVS9edQB0HMrc5Izdb+QA==",
          "dtype": "f8"
         },
         "textposition": "auto",
         "type": "bar",
         "x": [
          "C (all)",
          "FV",
          "RH",
          "RL",
          "RM"
         ],
         "xaxis": "x",
         "y": {
          "bdata": "AAAAAAAy8kB+4Ad+8B8KQQAAAAAzDwBB/vVS9edQB0HMrc5Izdb+QA==",
          "dtype": "f8"
         },
         "yaxis": "y"
        }
       ],
       "layout": {
        "barmode": "relative",
        "legend": {
         "tracegroupgap": 0
        },
        "template": {
         "data": {
          "bar": [
           {
            "error_x": {
             "color": "#f2f5fa"
            },
            "error_y": {
             "color": "#f2f5fa"
            },
            "marker": {
             "line": {
              "color": "rgb(17,17,17)",
              "width": 0.5
             },
             "pattern": {
              "fillmode": "overlay",
              "size": 10,
              "solidity": 0.2
             }
            },
            "type": "bar"
           }
          ],
          "barpolar": [
           {
            "marker": {
             "line": {
              "color": "rgb(17,17,17)",
              "width": 0.5
             },
             "pattern": {
              "fillmode": "overlay",
              "size": 10,
              "solidity": 0.2
             }
            },
            "type": "barpolar"
           }
          ],
          "carpet": [
           {
            "aaxis": {
             "endlinecolor": "#A2B1C6",
             "gridcolor": "#506784",
             "linecolor": "#506784",
             "minorgridcolor": "#506784",
             "startlinecolor": "#A2B1C6"
            },
            "baxis": {
             "endlinecolor": "#A2B1C6",
             "gridcolor": "#506784",
             "linecolor": "#506784",
             "minorgridcolor": "#506784",
             "startlinecolor": "#A2B1C6"
            },
            "type": "carpet"
           }
          ],
          "choropleth": [
           {
            "colorbar": {
             "outlinewidth": 0,
             "ticks": ""
            },
            "type": "choropleth"
           }
          ],
          "contour": [
           {
            "colorbar": {
             "outlinewidth": 0,
             "ticks": ""
            },
            "colorscale": [
             [
              0,
              "#0d0887"
             ],
             [
              0.1111111111111111,
              "#46039f"
             ],
             [
              0.2222222222222222,
              "#7201a8"
             ],
             [
              0.3333333333333333,
              "#9c179e"
             ],
             [
              0.4444444444444444,
              "#bd3786"
             ],
             [
              0.5555555555555556,
              "#d8576b"
             ],
             [
              0.6666666666666666,
              "#ed7953"
             ],
             [
              0.7777777777777778,
              "#fb9f3a"
             ],
             [
              0.8888888888888888,
              "#fdca26"
             ],
             [
              1,
              "#f0f921"
             ]
            ],
            "type": "contour"
           }
          ],
          "contourcarpet": [
           {
            "colorbar": {
             "outlinewidth": 0,
             "ticks": ""
            },
            "type": "contourcarpet"
           }
          ],
          "heatmap": [
           {
            "colorbar": {
             "outlinewidth": 0,
             "ticks": ""
            },
            "colorscale": [
             [
              0,
              "#0d0887"
             ],
             [
              0.1111111111111111,
              "#46039f"
             ],
             [
              0.2222222222222222,
              "#7201a8"
             ],
             [
              0.3333333333333333,
              "#9c179e"
             ],
             [
              0.4444444444444444,
              "#bd3786"
             ],
             [
              0.5555555555555556,
              "#d8576b"
             ],
             [
              0.6666666666666666,
              "#ed7953"
             ],
             [
              0.7777777777777778,
              "#fb9f3a"
             ],
             [
              0.8888888888888888,
              "#fdca26"
             ],
             [
              1,
              "#f0f921"
             ]
            ],
            "type": "heatmap"
           }
          ],
          "histogram": [
           {
            "marker": {
             "pattern": {
              "fillmode": "overlay",
              "size": 10,
              "solidity": 0.2
             }
            },
            "type": "histogram"
           }
          ],
          "histogram2d": [
           {
            "colorbar": {
             "outlinewidth": 0,
             "ticks": ""
            },
            "colorscale": [
             [
              0,
              "#0d0887"
             ],
             [
              0.1111111111111111,
              "#46039f"
             ],
             [
              0.2222222222222222,
              "#7201a8"
             ],
             [
              0.3333333333333333,
              "#9c179e"
             ],
             [
              0.4444444444444444,
              "#bd3786"
             ],
             [
              0.5555555555555556,
              "#d8576b"
             ],
             [
              0.6666666666666666,
              "#ed7953"
             ],
             [
              0.7777777777777778,
              "#fb9f3a"
             ],
             [
              0.8888888888888888,
              "#fdca26"
             ],
             [
              1,
              "#f0f921"
             ]
            ],
            "type": "histogram2d"
           }
          ],
          "histogram2dcontour": [
           {
            "colorbar": {
             "outlinewidth": 0,
             "ticks": ""
            },
            "colorscale": [
             [
              0,
              "#0d0887"
             ],
             [
              0.1111111111111111,
              "#46039f"
             ],
             [
              0.2222222222222222,
              "#7201a8"
             ],
             [
              0.3333333333333333,
              "#9c179e"
             ],
             [
              0.4444444444444444,
              "#bd3786"
             ],
             [
              0.5555555555555556,
              "#d8576b"
             ],
             [
              0.6666666666666666,
              "#ed7953"
             ],
             [
              0.7777777777777778,
              "#fb9f3a"
             ],
             [
              0.8888888888888888,
              "#fdca26"
             ],
             [
              1,
              "#f0f921"
             ]
            ],
            "type": "histogram2dcontour"
           }
          ],
          "mesh3d": [
           {
            "colorbar": {
             "outlinewidth": 0,
             "ticks": ""
            },
            "type": "mesh3d"
           }
          ],
          "parcoords": [
           {
            "line": {
             "colorbar": {
              "outlinewidth": 0,
              "ticks": ""
             }
            },
            "type": "parcoords"
           }
          ],
          "pie": [
           {
            "automargin": true,
            "type": "pie"
           }
          ],
          "scatter": [
           {
            "marker": {
             "line": {
              "color": "#283442"
             }
            },
            "type": "scatter"
           }
          ],
          "scatter3d": [
           {
            "line": {
             "colorbar": {
              "outlinewidth": 0,
              "ticks": ""
             }
            },
            "marker": {
             "colorbar": {
              "outlinewidth": 0,
              "ticks": ""
             }
            },
            "type": "scatter3d"
           }
          ],
          "scattercarpet": [
           {
            "marker": {
             "colorbar": {
              "outlinewidth": 0,
              "ticks": ""
             }
            },
            "type": "scattercarpet"
           }
          ],
          "scattergeo": [
           {
            "marker": {
             "colorbar": {
              "outlinewidth": 0,
              "ticks": ""
             }
            },
            "type": "scattergeo"
           }
          ],
          "scattergl": [
           {
            "marker": {
             "line": {
              "color": "#283442"
             }
            },
            "type": "scattergl"
           }
          ],
          "scattermap": [
           {
            "marker": {
             "colorbar": {
              "outlinewidth": 0,
              "ticks": ""
             }
            },
            "type": "scattermap"
           }
          ],
          "scattermapbox": [
           {
            "marker": {
             "colorbar": {
              "outlinewidth": 0,
              "ticks": ""
             }
            },
            "type": "scattermapbox"
           }
          ],
          "scatterpolar": [
           {
            "marker": {
             "colorbar": {
              "outlinewidth": 0,
              "ticks": ""
             }
            },
            "type": "scatterpolar"
           }
          ],
          "scatterpolargl": [
           {
            "marker": {
             "colorbar": {
              "outlinewidth": 0,
              "ticks": ""
             }
            },
            "type": "scatterpolargl"
           }
          ],
          "scatterternary": [
           {
            "marker": {
             "colorbar": {
              "outlinewidth": 0,
              "ticks": ""
             }
            },
            "type": "scatterternary"
           }
          ],
          "surface": [
           {
            "colorbar": {
             "outlinewidth": 0,
             "ticks": ""
            },
            "colorscale": [
             [
              0,
              "#0d0887"
             ],
             [
              0.1111111111111111,
              "#46039f"
             ],
             [
              0.2222222222222222,
              "#7201a8"
             ],
             [
              0.3333333333333333,
              "#9c179e"
             ],
             [
              0.4444444444444444,
              "#bd3786"
             ],
             [
              0.5555555555555556,
              "#d8576b"
             ],
             [
              0.6666666666666666,
              "#ed7953"
             ],
             [
              0.7777777777777778,
              "#fb9f3a"
             ],
             [
              0.8888888888888888,
              "#fdca26"
             ],
             [
              1,
              "#f0f921"
             ]
            ],
            "type": "surface"
           }
          ],
          "table": [
           {
            "cells": {
             "fill": {
              "color": "#506784"
             },
             "line": {
              "color": "rgb(17,17,17)"
             }
            },
            "header": {
             "fill": {
              "color": "#2a3f5f"
             },
             "line": {
              "color": "rgb(17,17,17)"
             }
            },
            "type": "table"
           }
          ]
         },
         "layout": {
          "annotationdefaults": {
           "arrowcolor": "#f2f5fa",
           "arrowhead": 0,
           "arrowwidth": 1
          },
          "autotypenumbers": "strict",
          "coloraxis": {
           "colorbar": {
            "outlinewidth": 0,
            "ticks": ""
           }
          },
          "colorscale": {
           "diverging": [
            [
             0,
             "#8e0152"
            ],
            [
             0.1,
             "#c51b7d"
            ],
            [
             0.2,
             "#de77ae"
            ],
            [
             0.3,
             "#f1b6da"
            ],
            [
             0.4,
             "#fde0ef"
            ],
            [
             0.5,
             "#f7f7f7"
            ],
            [
             0.6,
             "#e6f5d0"
            ],
            [
             0.7,
             "#b8e186"
            ],
            [
             0.8,
             "#7fbc41"
            ],
            [
             0.9,
             "#4d9221"
            ],
            [
             1,
             "#276419"
            ]
           ],
           "sequential": [
            [
             0,
             "#0d0887"
            ],
            [
             0.1111111111111111,
             "#46039f"
            ],
            [
             0.2222222222222222,
             "#7201a8"
            ],
            [
             0.3333333333333333,
             "#9c179e"
            ],
            [
             0.4444444444444444,
             "#bd3786"
            ],
            [
             0.5555555555555556,
             "#d8576b"
            ],
            [
             0.6666666666666666,
             "#ed7953"
            ],
            [
             0.7777777777777778,
             "#fb9f3a"
            ],
            [
             0.8888888888888888,
             "#fdca26"
            ],
            [
             1,
             "#f0f921"
            ]
           ],
           "sequentialminus": [
            [
             0,
             "#0d0887"
            ],
            [
             0.1111111111111111,
             "#46039f"
            ],
            [
             0.2222222222222222,
             "#7201a8"
            ],
            [
             0.3333333333333333,
             "#9c179e"
            ],
            [
             0.4444444444444444,
             "#bd3786"
            ],
            [
             0.5555555555555556,
             "#d8576b"
            ],
            [
             0.6666666666666666,
             "#ed7953"
            ],
            [
             0.7777777777777778,
             "#fb9f3a"
            ],
            [
             0.8888888888888888,
             "#fdca26"
            ],
            [
             1,
             "#f0f921"
            ]
           ]
          },
          "colorway": [
           "#636efa",
           "#EF553B",
           "#00cc96",
           "#ab63fa",
           "#FFA15A",
           "#19d3f3",
           "#FF6692",
           "#B6E880",
           "#FF97FF",
           "#FECB52"
          ],
          "font": {
           "color": "#f2f5fa"
          },
          "geo": {
           "bgcolor": "rgb(17,17,17)",
           "lakecolor": "rgb(17,17,17)",
           "landcolor": "rgb(17,17,17)",
           "showlakes": true,
           "showland": true,
           "subunitcolor": "#506784"
          },
          "hoverlabel": {
           "align": "left"
          },
          "hovermode": "closest",
          "mapbox": {
           "style": "dark"
          },
          "paper_bgcolor": "rgb(17,17,17)",
          "plot_bgcolor": "rgb(17,17,17)",
          "polar": {
           "angularaxis": {
            "gridcolor": "#506784",
            "linecolor": "#506784",
            "ticks": ""
           },
           "bgcolor": "rgb(17,17,17)",
           "radialaxis": {
            "gridcolor": "#506784",
            "linecolor": "#506784",
            "ticks": ""
           }
          },
          "scene": {
           "xaxis": {
            "backgroundcolor": "rgb(17,17,17)",
            "gridcolor": "#506784",
            "gridwidth": 2,
            "linecolor": "#506784",
            "showbackground": true,
            "ticks": "",
            "zerolinecolor": "#C8D4E3"
           },
           "yaxis": {
            "backgroundcolor": "rgb(17,17,17)",
            "gridcolor": "#506784",
            "gridwidth": 2,
            "linecolor": "#506784",
            "showbackground": true,
            "ticks": "",
            "zerolinecolor": "#C8D4E3"
           },
           "zaxis": {
            "backgroundcolor": "rgb(17,17,17)",
            "gridcolor": "#506784",
            "gridwidth": 2,
            "linecolor": "#506784",
            "showbackground": true,
            "ticks": "",
            "zerolinecolor": "#C8D4E3"
           }
          },
          "shapedefaults": {
           "line": {
            "color": "#f2f5fa"
           }
          },
          "sliderdefaults": {
           "bgcolor": "#C8D4E3",
           "bordercolor": "rgb(17,17,17)",
           "borderwidth": 1,
           "tickwidth": 0
          },
          "ternary": {
           "aaxis": {
            "gridcolor": "#506784",
            "linecolor": "#506784",
            "ticks": ""
           },
           "baxis": {
            "gridcolor": "#506784",
            "linecolor": "#506784",
            "ticks": ""
           },
           "bgcolor": "rgb(17,17,17)",
           "caxis": {
            "gridcolor": "#506784",
            "linecolor": "#506784",
            "ticks": ""
           }
          },
          "title": {
           "x": 0.05
          },
          "updatemenudefaults": {
           "bgcolor": "#506784",
           "borderwidth": 0
          },
          "xaxis": {
           "automargin": true,
           "gridcolor": "#283442",
           "linecolor": "#506784",
           "ticks": "",
           "title": {
            "standoff": 15
           },
           "zerolinecolor": "#283442",
           "zerolinewidth": 2
          },
          "yaxis": {
           "automargin": true,
           "gridcolor": "#283442",
           "linecolor": "#506784",
           "ticks": "",
           "title": {
            "standoff": 15
           },
           "zerolinecolor": "#283442",
           "zerolinewidth": 2
          }
         }
        },
        "title": {
         "text": "Average Sale Price by Zoning"
        },
        "xaxis": {
         "anchor": "y",
         "domain": [
          0,
          1
         ],
         "title": {
          "text": "x"
         }
        },
        "yaxis": {
         "anchor": "x",
         "domain": [
          0,
          1
         ],
         "title": {
          "text": "y"
         }
        }
       }
      }
     },
     "metadata": {},
     "output_type": "display_data"
    }
   ],
   "source": [
    "#Zoning price\n",
    "zoning_prices = df.groupby('MSZoning')['SalePrice'].mean()\n",
    "px.bar(x=zoning_prices.index, y=zoning_prices.values, title='Average Sale Price by Zoning',\n",
    "              color_discrete_sequence=['purple', 'green'], text=zoning_prices.values,\n",
    "              template='plotly_dark')\n"
   ]
  },
  {
   "cell_type": "code",
   "execution_count": 35,
   "metadata": {},
   "outputs": [
    {
     "data": {
      "application/vnd.plotly.v1+json": {
       "config": {
        "plotlyServerURL": "https://plot.ly"
       },
       "data": [
        {
         "hovertemplate": "x=%{x}<br>y=%{y}<br>text=%{text}<extra></extra>",
         "legendgroup": "",
         "marker": {
          "color": "purple",
          "pattern": {
           "shape": ""
          }
         },
         "name": "",
         "orientation": "v",
         "showlegend": false,
         "text": {
          "bdata": "AAAAAOjI/0AGqeBOVBwGQQ==",
          "dtype": "f8"
         },
         "textposition": "auto",
         "type": "bar",
         "x": [
          "Grvl",
          "Pave"
         ],
         "xaxis": "x",
         "y": {
          "bdata": "AAAAAOjI/0AGqeBOVBwGQQ==",
          "dtype": "f8"
         },
         "yaxis": "y"
        }
       ],
       "layout": {
        "barmode": "relative",
        "legend": {
         "tracegroupgap": 0
        },
        "template": {
         "data": {
          "bar": [
           {
            "error_x": {
             "color": "#f2f5fa"
            },
            "error_y": {
             "color": "#f2f5fa"
            },
            "marker": {
             "line": {
              "color": "rgb(17,17,17)",
              "width": 0.5
             },
             "pattern": {
              "fillmode": "overlay",
              "size": 10,
              "solidity": 0.2
             }
            },
            "type": "bar"
           }
          ],
          "barpolar": [
           {
            "marker": {
             "line": {
              "color": "rgb(17,17,17)",
              "width": 0.5
             },
             "pattern": {
              "fillmode": "overlay",
              "size": 10,
              "solidity": 0.2
             }
            },
            "type": "barpolar"
           }
          ],
          "carpet": [
           {
            "aaxis": {
             "endlinecolor": "#A2B1C6",
             "gridcolor": "#506784",
             "linecolor": "#506784",
             "minorgridcolor": "#506784",
             "startlinecolor": "#A2B1C6"
            },
            "baxis": {
             "endlinecolor": "#A2B1C6",
             "gridcolor": "#506784",
             "linecolor": "#506784",
             "minorgridcolor": "#506784",
             "startlinecolor": "#A2B1C6"
            },
            "type": "carpet"
           }
          ],
          "choropleth": [
           {
            "colorbar": {
             "outlinewidth": 0,
             "ticks": ""
            },
            "type": "choropleth"
           }
          ],
          "contour": [
           {
            "colorbar": {
             "outlinewidth": 0,
             "ticks": ""
            },
            "colorscale": [
             [
              0,
              "#0d0887"
             ],
             [
              0.1111111111111111,
              "#46039f"
             ],
             [
              0.2222222222222222,
              "#7201a8"
             ],
             [
              0.3333333333333333,
              "#9c179e"
             ],
             [
              0.4444444444444444,
              "#bd3786"
             ],
             [
              0.5555555555555556,
              "#d8576b"
             ],
             [
              0.6666666666666666,
              "#ed7953"
             ],
             [
              0.7777777777777778,
              "#fb9f3a"
             ],
             [
              0.8888888888888888,
              "#fdca26"
             ],
             [
              1,
              "#f0f921"
             ]
            ],
            "type": "contour"
           }
          ],
          "contourcarpet": [
           {
            "colorbar": {
             "outlinewidth": 0,
             "ticks": ""
            },
            "type": "contourcarpet"
           }
          ],
          "heatmap": [
           {
            "colorbar": {
             "outlinewidth": 0,
             "ticks": ""
            },
            "colorscale": [
             [
              0,
              "#0d0887"
             ],
             [
              0.1111111111111111,
              "#46039f"
             ],
             [
              0.2222222222222222,
              "#7201a8"
             ],
             [
              0.3333333333333333,
              "#9c179e"
             ],
             [
              0.4444444444444444,
              "#bd3786"
             ],
             [
              0.5555555555555556,
              "#d8576b"
             ],
             [
              0.6666666666666666,
              "#ed7953"
             ],
             [
              0.7777777777777778,
              "#fb9f3a"
             ],
             [
              0.8888888888888888,
              "#fdca26"
             ],
             [
              1,
              "#f0f921"
             ]
            ],
            "type": "heatmap"
           }
          ],
          "histogram": [
           {
            "marker": {
             "pattern": {
              "fillmode": "overlay",
              "size": 10,
              "solidity": 0.2
             }
            },
            "type": "histogram"
           }
          ],
          "histogram2d": [
           {
            "colorbar": {
             "outlinewidth": 0,
             "ticks": ""
            },
            "colorscale": [
             [
              0,
              "#0d0887"
             ],
             [
              0.1111111111111111,
              "#46039f"
             ],
             [
              0.2222222222222222,
              "#7201a8"
             ],
             [
              0.3333333333333333,
              "#9c179e"
             ],
             [
              0.4444444444444444,
              "#bd3786"
             ],
             [
              0.5555555555555556,
              "#d8576b"
             ],
             [
              0.6666666666666666,
              "#ed7953"
             ],
             [
              0.7777777777777778,
              "#fb9f3a"
             ],
             [
              0.8888888888888888,
              "#fdca26"
             ],
             [
              1,
              "#f0f921"
             ]
            ],
            "type": "histogram2d"
           }
          ],
          "histogram2dcontour": [
           {
            "colorbar": {
             "outlinewidth": 0,
             "ticks": ""
            },
            "colorscale": [
             [
              0,
              "#0d0887"
             ],
             [
              0.1111111111111111,
              "#46039f"
             ],
             [
              0.2222222222222222,
              "#7201a8"
             ],
             [
              0.3333333333333333,
              "#9c179e"
             ],
             [
              0.4444444444444444,
              "#bd3786"
             ],
             [
              0.5555555555555556,
              "#d8576b"
             ],
             [
              0.6666666666666666,
              "#ed7953"
             ],
             [
              0.7777777777777778,
              "#fb9f3a"
             ],
             [
              0.8888888888888888,
              "#fdca26"
             ],
             [
              1,
              "#f0f921"
             ]
            ],
            "type": "histogram2dcontour"
           }
          ],
          "mesh3d": [
           {
            "colorbar": {
             "outlinewidth": 0,
             "ticks": ""
            },
            "type": "mesh3d"
           }
          ],
          "parcoords": [
           {
            "line": {
             "colorbar": {
              "outlinewidth": 0,
              "ticks": ""
             }
            },
            "type": "parcoords"
           }
          ],
          "pie": [
           {
            "automargin": true,
            "type": "pie"
           }
          ],
          "scatter": [
           {
            "marker": {
             "line": {
              "color": "#283442"
             }
            },
            "type": "scatter"
           }
          ],
          "scatter3d": [
           {
            "line": {
             "colorbar": {
              "outlinewidth": 0,
              "ticks": ""
             }
            },
            "marker": {
             "colorbar": {
              "outlinewidth": 0,
              "ticks": ""
             }
            },
            "type": "scatter3d"
           }
          ],
          "scattercarpet": [
           {
            "marker": {
             "colorbar": {
              "outlinewidth": 0,
              "ticks": ""
             }
            },
            "type": "scattercarpet"
           }
          ],
          "scattergeo": [
           {
            "marker": {
             "colorbar": {
              "outlinewidth": 0,
              "ticks": ""
             }
            },
            "type": "scattergeo"
           }
          ],
          "scattergl": [
           {
            "marker": {
             "line": {
              "color": "#283442"
             }
            },
            "type": "scattergl"
           }
          ],
          "scattermap": [
           {
            "marker": {
             "colorbar": {
              "outlinewidth": 0,
              "ticks": ""
             }
            },
            "type": "scattermap"
           }
          ],
          "scattermapbox": [
           {
            "marker": {
             "colorbar": {
              "outlinewidth": 0,
              "ticks": ""
             }
            },
            "type": "scattermapbox"
           }
          ],
          "scatterpolar": [
           {
            "marker": {
             "colorbar": {
              "outlinewidth": 0,
              "ticks": ""
             }
            },
            "type": "scatterpolar"
           }
          ],
          "scatterpolargl": [
           {
            "marker": {
             "colorbar": {
              "outlinewidth": 0,
              "ticks": ""
             }
            },
            "type": "scatterpolargl"
           }
          ],
          "scatterternary": [
           {
            "marker": {
             "colorbar": {
              "outlinewidth": 0,
              "ticks": ""
             }
            },
            "type": "scatterternary"
           }
          ],
          "surface": [
           {
            "colorbar": {
             "outlinewidth": 0,
             "ticks": ""
            },
            "colorscale": [
             [
              0,
              "#0d0887"
             ],
             [
              0.1111111111111111,
              "#46039f"
             ],
             [
              0.2222222222222222,
              "#7201a8"
             ],
             [
              0.3333333333333333,
              "#9c179e"
             ],
             [
              0.4444444444444444,
              "#bd3786"
             ],
             [
              0.5555555555555556,
              "#d8576b"
             ],
             [
              0.6666666666666666,
              "#ed7953"
             ],
             [
              0.7777777777777778,
              "#fb9f3a"
             ],
             [
              0.8888888888888888,
              "#fdca26"
             ],
             [
              1,
              "#f0f921"
             ]
            ],
            "type": "surface"
           }
          ],
          "table": [
           {
            "cells": {
             "fill": {
              "color": "#506784"
             },
             "line": {
              "color": "rgb(17,17,17)"
             }
            },
            "header": {
             "fill": {
              "color": "#2a3f5f"
             },
             "line": {
              "color": "rgb(17,17,17)"
             }
            },
            "type": "table"
           }
          ]
         },
         "layout": {
          "annotationdefaults": {
           "arrowcolor": "#f2f5fa",
           "arrowhead": 0,
           "arrowwidth": 1
          },
          "autotypenumbers": "strict",
          "coloraxis": {
           "colorbar": {
            "outlinewidth": 0,
            "ticks": ""
           }
          },
          "colorscale": {
           "diverging": [
            [
             0,
             "#8e0152"
            ],
            [
             0.1,
             "#c51b7d"
            ],
            [
             0.2,
             "#de77ae"
            ],
            [
             0.3,
             "#f1b6da"
            ],
            [
             0.4,
             "#fde0ef"
            ],
            [
             0.5,
             "#f7f7f7"
            ],
            [
             0.6,
             "#e6f5d0"
            ],
            [
             0.7,
             "#b8e186"
            ],
            [
             0.8,
             "#7fbc41"
            ],
            [
             0.9,
             "#4d9221"
            ],
            [
             1,
             "#276419"
            ]
           ],
           "sequential": [
            [
             0,
             "#0d0887"
            ],
            [
             0.1111111111111111,
             "#46039f"
            ],
            [
             0.2222222222222222,
             "#7201a8"
            ],
            [
             0.3333333333333333,
             "#9c179e"
            ],
            [
             0.4444444444444444,
             "#bd3786"
            ],
            [
             0.5555555555555556,
             "#d8576b"
            ],
            [
             0.6666666666666666,
             "#ed7953"
            ],
            [
             0.7777777777777778,
             "#fb9f3a"
            ],
            [
             0.8888888888888888,
             "#fdca26"
            ],
            [
             1,
             "#f0f921"
            ]
           ],
           "sequentialminus": [
            [
             0,
             "#0d0887"
            ],
            [
             0.1111111111111111,
             "#46039f"
            ],
            [
             0.2222222222222222,
             "#7201a8"
            ],
            [
             0.3333333333333333,
             "#9c179e"
            ],
            [
             0.4444444444444444,
             "#bd3786"
            ],
            [
             0.5555555555555556,
             "#d8576b"
            ],
            [
             0.6666666666666666,
             "#ed7953"
            ],
            [
             0.7777777777777778,
             "#fb9f3a"
            ],
            [
             0.8888888888888888,
             "#fdca26"
            ],
            [
             1,
             "#f0f921"
            ]
           ]
          },
          "colorway": [
           "#636efa",
           "#EF553B",
           "#00cc96",
           "#ab63fa",
           "#FFA15A",
           "#19d3f3",
           "#FF6692",
           "#B6E880",
           "#FF97FF",
           "#FECB52"
          ],
          "font": {
           "color": "#f2f5fa"
          },
          "geo": {
           "bgcolor": "rgb(17,17,17)",
           "lakecolor": "rgb(17,17,17)",
           "landcolor": "rgb(17,17,17)",
           "showlakes": true,
           "showland": true,
           "subunitcolor": "#506784"
          },
          "hoverlabel": {
           "align": "left"
          },
          "hovermode": "closest",
          "mapbox": {
           "style": "dark"
          },
          "paper_bgcolor": "rgb(17,17,17)",
          "plot_bgcolor": "rgb(17,17,17)",
          "polar": {
           "angularaxis": {
            "gridcolor": "#506784",
            "linecolor": "#506784",
            "ticks": ""
           },
           "bgcolor": "rgb(17,17,17)",
           "radialaxis": {
            "gridcolor": "#506784",
            "linecolor": "#506784",
            "ticks": ""
           }
          },
          "scene": {
           "xaxis": {
            "backgroundcolor": "rgb(17,17,17)",
            "gridcolor": "#506784",
            "gridwidth": 2,
            "linecolor": "#506784",
            "showbackground": true,
            "ticks": "",
            "zerolinecolor": "#C8D4E3"
           },
           "yaxis": {
            "backgroundcolor": "rgb(17,17,17)",
            "gridcolor": "#506784",
            "gridwidth": 2,
            "linecolor": "#506784",
            "showbackground": true,
            "ticks": "",
            "zerolinecolor": "#C8D4E3"
           },
           "zaxis": {
            "backgroundcolor": "rgb(17,17,17)",
            "gridcolor": "#506784",
            "gridwidth": 2,
            "linecolor": "#506784",
            "showbackground": true,
            "ticks": "",
            "zerolinecolor": "#C8D4E3"
           }
          },
          "shapedefaults": {
           "line": {
            "color": "#f2f5fa"
           }
          },
          "sliderdefaults": {
           "bgcolor": "#C8D4E3",
           "bordercolor": "rgb(17,17,17)",
           "borderwidth": 1,
           "tickwidth": 0
          },
          "ternary": {
           "aaxis": {
            "gridcolor": "#506784",
            "linecolor": "#506784",
            "ticks": ""
           },
           "baxis": {
            "gridcolor": "#506784",
            "linecolor": "#506784",
            "ticks": ""
           },
           "bgcolor": "rgb(17,17,17)",
           "caxis": {
            "gridcolor": "#506784",
            "linecolor": "#506784",
            "ticks": ""
           }
          },
          "title": {
           "x": 0.05
          },
          "updatemenudefaults": {
           "bgcolor": "#506784",
           "borderwidth": 0
          },
          "xaxis": {
           "automargin": true,
           "gridcolor": "#283442",
           "linecolor": "#506784",
           "ticks": "",
           "title": {
            "standoff": 15
           },
           "zerolinecolor": "#283442",
           "zerolinewidth": 2
          },
          "yaxis": {
           "automargin": true,
           "gridcolor": "#283442",
           "linecolor": "#506784",
           "ticks": "",
           "title": {
            "standoff": 15
           },
           "zerolinecolor": "#283442",
           "zerolinewidth": 2
          }
         }
        },
        "title": {
         "text": "Average Sale Price by Street Type"
        },
        "xaxis": {
         "anchor": "y",
         "domain": [
          0,
          1
         ],
         "title": {
          "text": "x"
         }
        },
        "yaxis": {
         "anchor": "x",
         "domain": [
          0,
          1
         ],
         "title": {
          "text": "y"
         }
        }
       }
      }
     },
     "metadata": {},
     "output_type": "display_data"
    }
   ],
   "source": [
    "street_prices = df.groupby('Street')['SalePrice'].mean()\n",
    "alley_prices = df.groupby('Alley')['SalePrice'].mean()\n",
    "\n",
    "# Street Prices\n",
    "px.bar(x=street_prices.index, y=street_prices.values, title='Average Sale Price by Street Type',\n",
    "              template='plotly_dark', text=street_prices.values,\n",
    "              color_discrete_sequence=['purple', 'green'])"
   ]
  },
  {
   "cell_type": "code",
   "execution_count": 37,
   "metadata": {},
   "outputs": [
    {
     "data": {
      "application/vnd.plotly.v1+json": {
       "config": {
        "plotlyServerURL": "https://plot.ly"
       },
       "data": [
        {
         "hovertemplate": "color=green<br>x=%{x}<br>y=%{y}<br>text=%{text}<extra></extra>",
         "legendgroup": "green",
         "marker": {
          "color": "purple",
          "pattern": {
           "shape": ""
          }
         },
         "name": "green",
         "orientation": "v",
         "showlegend": true,
         "text": {
          "bdata": "exSuR7HW/UA=",
          "dtype": "f8"
         },
         "textposition": "auto",
         "type": "bar",
         "x": [
          "Grvl"
         ],
         "xaxis": "x",
         "y": {
          "bdata": "exSuR7HW/UA=",
          "dtype": "f8"
         },
         "yaxis": "y"
        },
        {
         "hovertemplate": "color=purple<br>x=%{x}<br>y=%{y}<br>text=%{text}<extra></extra>",
         "legendgroup": "purple",
         "marker": {
          "color": "green",
          "pattern": {
           "shape": ""
          }
         },
         "name": "purple",
         "orientation": "v",
         "showlegend": true,
         "text": {
          "bdata": "7UrUrgSCBEE=",
          "dtype": "f8"
         },
         "textposition": "auto",
         "type": "bar",
         "x": [
          "Pave"
         ],
         "xaxis": "x",
         "y": {
          "bdata": "7UrUrgSCBEE=",
          "dtype": "f8"
         },
         "yaxis": "y"
        }
       ],
       "layout": {
        "barmode": "relative",
        "legend": {
         "title": {
          "text": "color"
         },
         "tracegroupgap": 0
        },
        "template": {
         "data": {
          "bar": [
           {
            "error_x": {
             "color": "#f2f5fa"
            },
            "error_y": {
             "color": "#f2f5fa"
            },
            "marker": {
             "line": {
              "color": "rgb(17,17,17)",
              "width": 0.5
             },
             "pattern": {
              "fillmode": "overlay",
              "size": 10,
              "solidity": 0.2
             }
            },
            "type": "bar"
           }
          ],
          "barpolar": [
           {
            "marker": {
             "line": {
              "color": "rgb(17,17,17)",
              "width": 0.5
             },
             "pattern": {
              "fillmode": "overlay",
              "size": 10,
              "solidity": 0.2
             }
            },
            "type": "barpolar"
           }
          ],
          "carpet": [
           {
            "aaxis": {
             "endlinecolor": "#A2B1C6",
             "gridcolor": "#506784",
             "linecolor": "#506784",
             "minorgridcolor": "#506784",
             "startlinecolor": "#A2B1C6"
            },
            "baxis": {
             "endlinecolor": "#A2B1C6",
             "gridcolor": "#506784",
             "linecolor": "#506784",
             "minorgridcolor": "#506784",
             "startlinecolor": "#A2B1C6"
            },
            "type": "carpet"
           }
          ],
          "choropleth": [
           {
            "colorbar": {
             "outlinewidth": 0,
             "ticks": ""
            },
            "type": "choropleth"
           }
          ],
          "contour": [
           {
            "colorbar": {
             "outlinewidth": 0,
             "ticks": ""
            },
            "colorscale": [
             [
              0,
              "#0d0887"
             ],
             [
              0.1111111111111111,
              "#46039f"
             ],
             [
              0.2222222222222222,
              "#7201a8"
             ],
             [
              0.3333333333333333,
              "#9c179e"
             ],
             [
              0.4444444444444444,
              "#bd3786"
             ],
             [
              0.5555555555555556,
              "#d8576b"
             ],
             [
              0.6666666666666666,
              "#ed7953"
             ],
             [
              0.7777777777777778,
              "#fb9f3a"
             ],
             [
              0.8888888888888888,
              "#fdca26"
             ],
             [
              1,
              "#f0f921"
             ]
            ],
            "type": "contour"
           }
          ],
          "contourcarpet": [
           {
            "colorbar": {
             "outlinewidth": 0,
             "ticks": ""
            },
            "type": "contourcarpet"
           }
          ],
          "heatmap": [
           {
            "colorbar": {
             "outlinewidth": 0,
             "ticks": ""
            },
            "colorscale": [
             [
              0,
              "#0d0887"
             ],
             [
              0.1111111111111111,
              "#46039f"
             ],
             [
              0.2222222222222222,
              "#7201a8"
             ],
             [
              0.3333333333333333,
              "#9c179e"
             ],
             [
              0.4444444444444444,
              "#bd3786"
             ],
             [
              0.5555555555555556,
              "#d8576b"
             ],
             [
              0.6666666666666666,
              "#ed7953"
             ],
             [
              0.7777777777777778,
              "#fb9f3a"
             ],
             [
              0.8888888888888888,
              "#fdca26"
             ],
             [
              1,
              "#f0f921"
             ]
            ],
            "type": "heatmap"
           }
          ],
          "histogram": [
           {
            "marker": {
             "pattern": {
              "fillmode": "overlay",
              "size": 10,
              "solidity": 0.2
             }
            },
            "type": "histogram"
           }
          ],
          "histogram2d": [
           {
            "colorbar": {
             "outlinewidth": 0,
             "ticks": ""
            },
            "colorscale": [
             [
              0,
              "#0d0887"
             ],
             [
              0.1111111111111111,
              "#46039f"
             ],
             [
              0.2222222222222222,
              "#7201a8"
             ],
             [
              0.3333333333333333,
              "#9c179e"
             ],
             [
              0.4444444444444444,
              "#bd3786"
             ],
             [
              0.5555555555555556,
              "#d8576b"
             ],
             [
              0.6666666666666666,
              "#ed7953"
             ],
             [
              0.7777777777777778,
              "#fb9f3a"
             ],
             [
              0.8888888888888888,
              "#fdca26"
             ],
             [
              1,
              "#f0f921"
             ]
            ],
            "type": "histogram2d"
           }
          ],
          "histogram2dcontour": [
           {
            "colorbar": {
             "outlinewidth": 0,
             "ticks": ""
            },
            "colorscale": [
             [
              0,
              "#0d0887"
             ],
             [
              0.1111111111111111,
              "#46039f"
             ],
             [
              0.2222222222222222,
              "#7201a8"
             ],
             [
              0.3333333333333333,
              "#9c179e"
             ],
             [
              0.4444444444444444,
              "#bd3786"
             ],
             [
              0.5555555555555556,
              "#d8576b"
             ],
             [
              0.6666666666666666,
              "#ed7953"
             ],
             [
              0.7777777777777778,
              "#fb9f3a"
             ],
             [
              0.8888888888888888,
              "#fdca26"
             ],
             [
              1,
              "#f0f921"
             ]
            ],
            "type": "histogram2dcontour"
           }
          ],
          "mesh3d": [
           {
            "colorbar": {
             "outlinewidth": 0,
             "ticks": ""
            },
            "type": "mesh3d"
           }
          ],
          "parcoords": [
           {
            "line": {
             "colorbar": {
              "outlinewidth": 0,
              "ticks": ""
             }
            },
            "type": "parcoords"
           }
          ],
          "pie": [
           {
            "automargin": true,
            "type": "pie"
           }
          ],
          "scatter": [
           {
            "marker": {
             "line": {
              "color": "#283442"
             }
            },
            "type": "scatter"
           }
          ],
          "scatter3d": [
           {
            "line": {
             "colorbar": {
              "outlinewidth": 0,
              "ticks": ""
             }
            },
            "marker": {
             "colorbar": {
              "outlinewidth": 0,
              "ticks": ""
             }
            },
            "type": "scatter3d"
           }
          ],
          "scattercarpet": [
           {
            "marker": {
             "colorbar": {
              "outlinewidth": 0,
              "ticks": ""
             }
            },
            "type": "scattercarpet"
           }
          ],
          "scattergeo": [
           {
            "marker": {
             "colorbar": {
              "outlinewidth": 0,
              "ticks": ""
             }
            },
            "type": "scattergeo"
           }
          ],
          "scattergl": [
           {
            "marker": {
             "line": {
              "color": "#283442"
             }
            },
            "type": "scattergl"
           }
          ],
          "scattermap": [
           {
            "marker": {
             "colorbar": {
              "outlinewidth": 0,
              "ticks": ""
             }
            },
            "type": "scattermap"
           }
          ],
          "scattermapbox": [
           {
            "marker": {
             "colorbar": {
              "outlinewidth": 0,
              "ticks": ""
             }
            },
            "type": "scattermapbox"
           }
          ],
          "scatterpolar": [
           {
            "marker": {
             "colorbar": {
              "outlinewidth": 0,
              "ticks": ""
             }
            },
            "type": "scatterpolar"
           }
          ],
          "scatterpolargl": [
           {
            "marker": {
             "colorbar": {
              "outlinewidth": 0,
              "ticks": ""
             }
            },
            "type": "scatterpolargl"
           }
          ],
          "scatterternary": [
           {
            "marker": {
             "colorbar": {
              "outlinewidth": 0,
              "ticks": ""
             }
            },
            "type": "scatterternary"
           }
          ],
          "surface": [
           {
            "colorbar": {
             "outlinewidth": 0,
             "ticks": ""
            },
            "colorscale": [
             [
              0,
              "#0d0887"
             ],
             [
              0.1111111111111111,
              "#46039f"
             ],
             [
              0.2222222222222222,
              "#7201a8"
             ],
             [
              0.3333333333333333,
              "#9c179e"
             ],
             [
              0.4444444444444444,
              "#bd3786"
             ],
             [
              0.5555555555555556,
              "#d8576b"
             ],
             [
              0.6666666666666666,
              "#ed7953"
             ],
             [
              0.7777777777777778,
              "#fb9f3a"
             ],
             [
              0.8888888888888888,
              "#fdca26"
             ],
             [
              1,
              "#f0f921"
             ]
            ],
            "type": "surface"
           }
          ],
          "table": [
           {
            "cells": {
             "fill": {
              "color": "#506784"
             },
             "line": {
              "color": "rgb(17,17,17)"
             }
            },
            "header": {
             "fill": {
              "color": "#2a3f5f"
             },
             "line": {
              "color": "rgb(17,17,17)"
             }
            },
            "type": "table"
           }
          ]
         },
         "layout": {
          "annotationdefaults": {
           "arrowcolor": "#f2f5fa",
           "arrowhead": 0,
           "arrowwidth": 1
          },
          "autotypenumbers": "strict",
          "coloraxis": {
           "colorbar": {
            "outlinewidth": 0,
            "ticks": ""
           }
          },
          "colorscale": {
           "diverging": [
            [
             0,
             "#8e0152"
            ],
            [
             0.1,
             "#c51b7d"
            ],
            [
             0.2,
             "#de77ae"
            ],
            [
             0.3,
             "#f1b6da"
            ],
            [
             0.4,
             "#fde0ef"
            ],
            [
             0.5,
             "#f7f7f7"
            ],
            [
             0.6,
             "#e6f5d0"
            ],
            [
             0.7,
             "#b8e186"
            ],
            [
             0.8,
             "#7fbc41"
            ],
            [
             0.9,
             "#4d9221"
            ],
            [
             1,
             "#276419"
            ]
           ],
           "sequential": [
            [
             0,
             "#0d0887"
            ],
            [
             0.1111111111111111,
             "#46039f"
            ],
            [
             0.2222222222222222,
             "#7201a8"
            ],
            [
             0.3333333333333333,
             "#9c179e"
            ],
            [
             0.4444444444444444,
             "#bd3786"
            ],
            [
             0.5555555555555556,
             "#d8576b"
            ],
            [
             0.6666666666666666,
             "#ed7953"
            ],
            [
             0.7777777777777778,
             "#fb9f3a"
            ],
            [
             0.8888888888888888,
             "#fdca26"
            ],
            [
             1,
             "#f0f921"
            ]
           ],
           "sequentialminus": [
            [
             0,
             "#0d0887"
            ],
            [
             0.1111111111111111,
             "#46039f"
            ],
            [
             0.2222222222222222,
             "#7201a8"
            ],
            [
             0.3333333333333333,
             "#9c179e"
            ],
            [
             0.4444444444444444,
             "#bd3786"
            ],
            [
             0.5555555555555556,
             "#d8576b"
            ],
            [
             0.6666666666666666,
             "#ed7953"
            ],
            [
             0.7777777777777778,
             "#fb9f3a"
            ],
            [
             0.8888888888888888,
             "#fdca26"
            ],
            [
             1,
             "#f0f921"
            ]
           ]
          },
          "colorway": [
           "#636efa",
           "#EF553B",
           "#00cc96",
           "#ab63fa",
           "#FFA15A",
           "#19d3f3",
           "#FF6692",
           "#B6E880",
           "#FF97FF",
           "#FECB52"
          ],
          "font": {
           "color": "#f2f5fa"
          },
          "geo": {
           "bgcolor": "rgb(17,17,17)",
           "lakecolor": "rgb(17,17,17)",
           "landcolor": "rgb(17,17,17)",
           "showlakes": true,
           "showland": true,
           "subunitcolor": "#506784"
          },
          "hoverlabel": {
           "align": "left"
          },
          "hovermode": "closest",
          "mapbox": {
           "style": "dark"
          },
          "paper_bgcolor": "rgb(17,17,17)",
          "plot_bgcolor": "rgb(17,17,17)",
          "polar": {
           "angularaxis": {
            "gridcolor": "#506784",
            "linecolor": "#506784",
            "ticks": ""
           },
           "bgcolor": "rgb(17,17,17)",
           "radialaxis": {
            "gridcolor": "#506784",
            "linecolor": "#506784",
            "ticks": ""
           }
          },
          "scene": {
           "xaxis": {
            "backgroundcolor": "rgb(17,17,17)",
            "gridcolor": "#506784",
            "gridwidth": 2,
            "linecolor": "#506784",
            "showbackground": true,
            "ticks": "",
            "zerolinecolor": "#C8D4E3"
           },
           "yaxis": {
            "backgroundcolor": "rgb(17,17,17)",
            "gridcolor": "#506784",
            "gridwidth": 2,
            "linecolor": "#506784",
            "showbackground": true,
            "ticks": "",
            "zerolinecolor": "#C8D4E3"
           },
           "zaxis": {
            "backgroundcolor": "rgb(17,17,17)",
            "gridcolor": "#506784",
            "gridwidth": 2,
            "linecolor": "#506784",
            "showbackground": true,
            "ticks": "",
            "zerolinecolor": "#C8D4E3"
           }
          },
          "shapedefaults": {
           "line": {
            "color": "#f2f5fa"
           }
          },
          "sliderdefaults": {
           "bgcolor": "#C8D4E3",
           "bordercolor": "rgb(17,17,17)",
           "borderwidth": 1,
           "tickwidth": 0
          },
          "ternary": {
           "aaxis": {
            "gridcolor": "#506784",
            "linecolor": "#506784",
            "ticks": ""
           },
           "baxis": {
            "gridcolor": "#506784",
            "linecolor": "#506784",
            "ticks": ""
           },
           "bgcolor": "rgb(17,17,17)",
           "caxis": {
            "gridcolor": "#506784",
            "linecolor": "#506784",
            "ticks": ""
           }
          },
          "title": {
           "x": 0.05
          },
          "updatemenudefaults": {
           "bgcolor": "#506784",
           "borderwidth": 0
          },
          "xaxis": {
           "automargin": true,
           "gridcolor": "#283442",
           "linecolor": "#506784",
           "ticks": "",
           "title": {
            "standoff": 15
           },
           "zerolinecolor": "#283442",
           "zerolinewidth": 2
          },
          "yaxis": {
           "automargin": true,
           "gridcolor": "#283442",
           "linecolor": "#506784",
           "ticks": "",
           "title": {
            "standoff": 15
           },
           "zerolinecolor": "#283442",
           "zerolinewidth": 2
          }
         }
        },
        "title": {
         "text": "Average Sale Price by Alley Type"
        },
        "xaxis": {
         "anchor": "y",
         "domain": [
          0,
          1
         ],
         "title": {
          "text": "x"
         }
        },
        "yaxis": {
         "anchor": "x",
         "domain": [
          0,
          1
         ],
         "title": {
          "text": "y"
         }
        }
       }
      }
     },
     "metadata": {},
     "output_type": "display_data"
    }
   ],
   "source": [
    "# Alley Prices\n",
    "colors_alley = np.where(alley_prices.index == 'Pave', 'purple', 'green')\n",
    "px.bar(x=alley_prices.index, y=alley_prices.values, title='Average Sale Price by Alley Type',\n",
    "              template='plotly_dark', text=alley_prices.values,\n",
    "              color=colors_alley, color_discrete_sequence=['purple', 'green'])"
   ]
  },
  {
   "cell_type": "code",
   "execution_count": 39,
   "metadata": {},
   "outputs": [
    {
     "data": {
      "application/vnd.plotly.v1+json": {
       "config": {
        "plotlyServerURL": "https://plot.ly"
       },
       "data": [
        {
         "hovertemplate": "x=%{x}<br>y=%{y}<br>text=%{text}<extra></extra>",
         "legendgroup": "",
         "marker": {
          "color": "#636efa",
          "pattern": {
           "shape": ""
          }
         },
         "name": "",
         "orientation": "v",
         "showlegend": false,
         "text": {
          "bdata": "biyDUq0oCUHUrkTtykYNQQAAAAAkXwpBl/YJjJYcBEE=",
          "dtype": "f8"
         },
         "textposition": "auto",
         "type": "bar",
         "x": [
          "IR1",
          "IR2",
          "IR3",
          "Reg"
         ],
         "xaxis": "x",
         "y": {
          "bdata": "biyDUq0oCUHUrkTtykYNQQAAAAAkXwpBl/YJjJYcBEE=",
          "dtype": "f8"
         },
         "yaxis": "y"
        }
       ],
       "layout": {
        "barmode": "relative",
        "legend": {
         "tracegroupgap": 0
        },
        "template": {
         "data": {
          "bar": [
           {
            "error_x": {
             "color": "#f2f5fa"
            },
            "error_y": {
             "color": "#f2f5fa"
            },
            "marker": {
             "line": {
              "color": "rgb(17,17,17)",
              "width": 0.5
             },
             "pattern": {
              "fillmode": "overlay",
              "size": 10,
              "solidity": 0.2
             }
            },
            "type": "bar"
           }
          ],
          "barpolar": [
           {
            "marker": {
             "line": {
              "color": "rgb(17,17,17)",
              "width": 0.5
             },
             "pattern": {
              "fillmode": "overlay",
              "size": 10,
              "solidity": 0.2
             }
            },
            "type": "barpolar"
           }
          ],
          "carpet": [
           {
            "aaxis": {
             "endlinecolor": "#A2B1C6",
             "gridcolor": "#506784",
             "linecolor": "#506784",
             "minorgridcolor": "#506784",
             "startlinecolor": "#A2B1C6"
            },
            "baxis": {
             "endlinecolor": "#A2B1C6",
             "gridcolor": "#506784",
             "linecolor": "#506784",
             "minorgridcolor": "#506784",
             "startlinecolor": "#A2B1C6"
            },
            "type": "carpet"
           }
          ],
          "choropleth": [
           {
            "colorbar": {
             "outlinewidth": 0,
             "ticks": ""
            },
            "type": "choropleth"
           }
          ],
          "contour": [
           {
            "colorbar": {
             "outlinewidth": 0,
             "ticks": ""
            },
            "colorscale": [
             [
              0,
              "#0d0887"
             ],
             [
              0.1111111111111111,
              "#46039f"
             ],
             [
              0.2222222222222222,
              "#7201a8"
             ],
             [
              0.3333333333333333,
              "#9c179e"
             ],
             [
              0.4444444444444444,
              "#bd3786"
             ],
             [
              0.5555555555555556,
              "#d8576b"
             ],
             [
              0.6666666666666666,
              "#ed7953"
             ],
             [
              0.7777777777777778,
              "#fb9f3a"
             ],
             [
              0.8888888888888888,
              "#fdca26"
             ],
             [
              1,
              "#f0f921"
             ]
            ],
            "type": "contour"
           }
          ],
          "contourcarpet": [
           {
            "colorbar": {
             "outlinewidth": 0,
             "ticks": ""
            },
            "type": "contourcarpet"
           }
          ],
          "heatmap": [
           {
            "colorbar": {
             "outlinewidth": 0,
             "ticks": ""
            },
            "colorscale": [
             [
              0,
              "#0d0887"
             ],
             [
              0.1111111111111111,
              "#46039f"
             ],
             [
              0.2222222222222222,
              "#7201a8"
             ],
             [
              0.3333333333333333,
              "#9c179e"
             ],
             [
              0.4444444444444444,
              "#bd3786"
             ],
             [
              0.5555555555555556,
              "#d8576b"
             ],
             [
              0.6666666666666666,
              "#ed7953"
             ],
             [
              0.7777777777777778,
              "#fb9f3a"
             ],
             [
              0.8888888888888888,
              "#fdca26"
             ],
             [
              1,
              "#f0f921"
             ]
            ],
            "type": "heatmap"
           }
          ],
          "histogram": [
           {
            "marker": {
             "pattern": {
              "fillmode": "overlay",
              "size": 10,
              "solidity": 0.2
             }
            },
            "type": "histogram"
           }
          ],
          "histogram2d": [
           {
            "colorbar": {
             "outlinewidth": 0,
             "ticks": ""
            },
            "colorscale": [
             [
              0,
              "#0d0887"
             ],
             [
              0.1111111111111111,
              "#46039f"
             ],
             [
              0.2222222222222222,
              "#7201a8"
             ],
             [
              0.3333333333333333,
              "#9c179e"
             ],
             [
              0.4444444444444444,
              "#bd3786"
             ],
             [
              0.5555555555555556,
              "#d8576b"
             ],
             [
              0.6666666666666666,
              "#ed7953"
             ],
             [
              0.7777777777777778,
              "#fb9f3a"
             ],
             [
              0.8888888888888888,
              "#fdca26"
             ],
             [
              1,
              "#f0f921"
             ]
            ],
            "type": "histogram2d"
           }
          ],
          "histogram2dcontour": [
           {
            "colorbar": {
             "outlinewidth": 0,
             "ticks": ""
            },
            "colorscale": [
             [
              0,
              "#0d0887"
             ],
             [
              0.1111111111111111,
              "#46039f"
             ],
             [
              0.2222222222222222,
              "#7201a8"
             ],
             [
              0.3333333333333333,
              "#9c179e"
             ],
             [
              0.4444444444444444,
              "#bd3786"
             ],
             [
              0.5555555555555556,
              "#d8576b"
             ],
             [
              0.6666666666666666,
              "#ed7953"
             ],
             [
              0.7777777777777778,
              "#fb9f3a"
             ],
             [
              0.8888888888888888,
              "#fdca26"
             ],
             [
              1,
              "#f0f921"
             ]
            ],
            "type": "histogram2dcontour"
           }
          ],
          "mesh3d": [
           {
            "colorbar": {
             "outlinewidth": 0,
             "ticks": ""
            },
            "type": "mesh3d"
           }
          ],
          "parcoords": [
           {
            "line": {
             "colorbar": {
              "outlinewidth": 0,
              "ticks": ""
             }
            },
            "type": "parcoords"
           }
          ],
          "pie": [
           {
            "automargin": true,
            "type": "pie"
           }
          ],
          "scatter": [
           {
            "marker": {
             "line": {
              "color": "#283442"
             }
            },
            "type": "scatter"
           }
          ],
          "scatter3d": [
           {
            "line": {
             "colorbar": {
              "outlinewidth": 0,
              "ticks": ""
             }
            },
            "marker": {
             "colorbar": {
              "outlinewidth": 0,
              "ticks": ""
             }
            },
            "type": "scatter3d"
           }
          ],
          "scattercarpet": [
           {
            "marker": {
             "colorbar": {
              "outlinewidth": 0,
              "ticks": ""
             }
            },
            "type": "scattercarpet"
           }
          ],
          "scattergeo": [
           {
            "marker": {
             "colorbar": {
              "outlinewidth": 0,
              "ticks": ""
             }
            },
            "type": "scattergeo"
           }
          ],
          "scattergl": [
           {
            "marker": {
             "line": {
              "color": "#283442"
             }
            },
            "type": "scattergl"
           }
          ],
          "scattermap": [
           {
            "marker": {
             "colorbar": {
              "outlinewidth": 0,
              "ticks": ""
             }
            },
            "type": "scattermap"
           }
          ],
          "scattermapbox": [
           {
            "marker": {
             "colorbar": {
              "outlinewidth": 0,
              "ticks": ""
             }
            },
            "type": "scattermapbox"
           }
          ],
          "scatterpolar": [
           {
            "marker": {
             "colorbar": {
              "outlinewidth": 0,
              "ticks": ""
             }
            },
            "type": "scatterpolar"
           }
          ],
          "scatterpolargl": [
           {
            "marker": {
             "colorbar": {
              "outlinewidth": 0,
              "ticks": ""
             }
            },
            "type": "scatterpolargl"
           }
          ],
          "scatterternary": [
           {
            "marker": {
             "colorbar": {
              "outlinewidth": 0,
              "ticks": ""
             }
            },
            "type": "scatterternary"
           }
          ],
          "surface": [
           {
            "colorbar": {
             "outlinewidth": 0,
             "ticks": ""
            },
            "colorscale": [
             [
              0,
              "#0d0887"
             ],
             [
              0.1111111111111111,
              "#46039f"
             ],
             [
              0.2222222222222222,
              "#7201a8"
             ],
             [
              0.3333333333333333,
              "#9c179e"
             ],
             [
              0.4444444444444444,
              "#bd3786"
             ],
             [
              0.5555555555555556,
              "#d8576b"
             ],
             [
              0.6666666666666666,
              "#ed7953"
             ],
             [
              0.7777777777777778,
              "#fb9f3a"
             ],
             [
              0.8888888888888888,
              "#fdca26"
             ],
             [
              1,
              "#f0f921"
             ]
            ],
            "type": "surface"
           }
          ],
          "table": [
           {
            "cells": {
             "fill": {
              "color": "#506784"
             },
             "line": {
              "color": "rgb(17,17,17)"
             }
            },
            "header": {
             "fill": {
              "color": "#2a3f5f"
             },
             "line": {
              "color": "rgb(17,17,17)"
             }
            },
            "type": "table"
           }
          ]
         },
         "layout": {
          "annotationdefaults": {
           "arrowcolor": "#f2f5fa",
           "arrowhead": 0,
           "arrowwidth": 1
          },
          "autotypenumbers": "strict",
          "coloraxis": {
           "colorbar": {
            "outlinewidth": 0,
            "ticks": ""
           }
          },
          "colorscale": {
           "diverging": [
            [
             0,
             "#8e0152"
            ],
            [
             0.1,
             "#c51b7d"
            ],
            [
             0.2,
             "#de77ae"
            ],
            [
             0.3,
             "#f1b6da"
            ],
            [
             0.4,
             "#fde0ef"
            ],
            [
             0.5,
             "#f7f7f7"
            ],
            [
             0.6,
             "#e6f5d0"
            ],
            [
             0.7,
             "#b8e186"
            ],
            [
             0.8,
             "#7fbc41"
            ],
            [
             0.9,
             "#4d9221"
            ],
            [
             1,
             "#276419"
            ]
           ],
           "sequential": [
            [
             0,
             "#0d0887"
            ],
            [
             0.1111111111111111,
             "#46039f"
            ],
            [
             0.2222222222222222,
             "#7201a8"
            ],
            [
             0.3333333333333333,
             "#9c179e"
            ],
            [
             0.4444444444444444,
             "#bd3786"
            ],
            [
             0.5555555555555556,
             "#d8576b"
            ],
            [
             0.6666666666666666,
             "#ed7953"
            ],
            [
             0.7777777777777778,
             "#fb9f3a"
            ],
            [
             0.8888888888888888,
             "#fdca26"
            ],
            [
             1,
             "#f0f921"
            ]
           ],
           "sequentialminus": [
            [
             0,
             "#0d0887"
            ],
            [
             0.1111111111111111,
             "#46039f"
            ],
            [
             0.2222222222222222,
             "#7201a8"
            ],
            [
             0.3333333333333333,
             "#9c179e"
            ],
            [
             0.4444444444444444,
             "#bd3786"
            ],
            [
             0.5555555555555556,
             "#d8576b"
            ],
            [
             0.6666666666666666,
             "#ed7953"
            ],
            [
             0.7777777777777778,
             "#fb9f3a"
            ],
            [
             0.8888888888888888,
             "#fdca26"
            ],
            [
             1,
             "#f0f921"
            ]
           ]
          },
          "colorway": [
           "#636efa",
           "#EF553B",
           "#00cc96",
           "#ab63fa",
           "#FFA15A",
           "#19d3f3",
           "#FF6692",
           "#B6E880",
           "#FF97FF",
           "#FECB52"
          ],
          "font": {
           "color": "#f2f5fa"
          },
          "geo": {
           "bgcolor": "rgb(17,17,17)",
           "lakecolor": "rgb(17,17,17)",
           "landcolor": "rgb(17,17,17)",
           "showlakes": true,
           "showland": true,
           "subunitcolor": "#506784"
          },
          "hoverlabel": {
           "align": "left"
          },
          "hovermode": "closest",
          "mapbox": {
           "style": "dark"
          },
          "paper_bgcolor": "rgb(17,17,17)",
          "plot_bgcolor": "rgb(17,17,17)",
          "polar": {
           "angularaxis": {
            "gridcolor": "#506784",
            "linecolor": "#506784",
            "ticks": ""
           },
           "bgcolor": "rgb(17,17,17)",
           "radialaxis": {
            "gridcolor": "#506784",
            "linecolor": "#506784",
            "ticks": ""
           }
          },
          "scene": {
           "xaxis": {
            "backgroundcolor": "rgb(17,17,17)",
            "gridcolor": "#506784",
            "gridwidth": 2,
            "linecolor": "#506784",
            "showbackground": true,
            "ticks": "",
            "zerolinecolor": "#C8D4E3"
           },
           "yaxis": {
            "backgroundcolor": "rgb(17,17,17)",
            "gridcolor": "#506784",
            "gridwidth": 2,
            "linecolor": "#506784",
            "showbackground": true,
            "ticks": "",
            "zerolinecolor": "#C8D4E3"
           },
           "zaxis": {
            "backgroundcolor": "rgb(17,17,17)",
            "gridcolor": "#506784",
            "gridwidth": 2,
            "linecolor": "#506784",
            "showbackground": true,
            "ticks": "",
            "zerolinecolor": "#C8D4E3"
           }
          },
          "shapedefaults": {
           "line": {
            "color": "#f2f5fa"
           }
          },
          "sliderdefaults": {
           "bgcolor": "#C8D4E3",
           "bordercolor": "rgb(17,17,17)",
           "borderwidth": 1,
           "tickwidth": 0
          },
          "ternary": {
           "aaxis": {
            "gridcolor": "#506784",
            "linecolor": "#506784",
            "ticks": ""
           },
           "baxis": {
            "gridcolor": "#506784",
            "linecolor": "#506784",
            "ticks": ""
           },
           "bgcolor": "rgb(17,17,17)",
           "caxis": {
            "gridcolor": "#506784",
            "linecolor": "#506784",
            "ticks": ""
           }
          },
          "title": {
           "x": 0.05
          },
          "updatemenudefaults": {
           "bgcolor": "#506784",
           "borderwidth": 0
          },
          "xaxis": {
           "automargin": true,
           "gridcolor": "#283442",
           "linecolor": "#506784",
           "ticks": "",
           "title": {
            "standoff": 15
           },
           "zerolinecolor": "#283442",
           "zerolinewidth": 2
          },
          "yaxis": {
           "automargin": true,
           "gridcolor": "#283442",
           "linecolor": "#506784",
           "ticks": "",
           "title": {
            "standoff": 15
           },
           "zerolinecolor": "#283442",
           "zerolinewidth": 2
          }
         }
        },
        "title": {
         "text": "Average Sale Price by Property Shape"
        },
        "xaxis": {
         "anchor": "y",
         "domain": [
          0,
          1
         ],
         "title": {
          "text": "x"
         }
        },
        "yaxis": {
         "anchor": "x",
         "domain": [
          0,
          1
         ],
         "title": {
          "text": "y"
         }
        }
       }
      }
     },
     "metadata": {},
     "output_type": "display_data"
    }
   ],
   "source": [
    "shape_prices = df.groupby('LotShape')['SalePrice'].mean()\n",
    "contour_prices = df.groupby('LandContour')['SalePrice'].mean()\n",
    "# Shape Prices\n",
    "px.bar(x=shape_prices.index, y=shape_prices.values, title='Average Sale Price by Property Shape',\n",
    "              template='plotly_dark', text=shape_prices.values)"
   ]
  },
  {
   "cell_type": "code",
   "execution_count": 40,
   "metadata": {},
   "outputs": [
    {
     "data": {
      "application/vnd.plotly.v1+json": {
       "config": {
        "plotlyServerURL": "https://plot.ly"
       },
       "data": [
        {
         "hovertemplate": "x=%{x}<br>y=%{y}<br>text=%{text}<extra></extra>",
         "legendgroup": "",
         "marker": {
          "color": "#636efa",
          "pattern": {
           "shape": ""
          }
         },
         "name": "",
         "orientation": "v",
         "showlegend": false,
         "text": {
          "bdata": "oyiKogB4AUFSuB6Fb0MMQeQ4juNo3AhB81xc+b3+BUE=",
          "dtype": "f8"
         },
         "textposition": "auto",
         "type": "bar",
         "x": [
          "Bnk",
          "HLS",
          "Low",
          "Lvl"
         ],
         "xaxis": "x",
         "y": {
          "bdata": "oyiKogB4AUFSuB6Fb0MMQeQ4juNo3AhB81xc+b3+BUE=",
          "dtype": "f8"
         },
         "yaxis": "y"
        }
       ],
       "layout": {
        "barmode": "relative",
        "legend": {
         "tracegroupgap": 0
        },
        "template": {
         "data": {
          "bar": [
           {
            "error_x": {
             "color": "#f2f5fa"
            },
            "error_y": {
             "color": "#f2f5fa"
            },
            "marker": {
             "line": {
              "color": "rgb(17,17,17)",
              "width": 0.5
             },
             "pattern": {
              "fillmode": "overlay",
              "size": 10,
              "solidity": 0.2
             }
            },
            "type": "bar"
           }
          ],
          "barpolar": [
           {
            "marker": {
             "line": {
              "color": "rgb(17,17,17)",
              "width": 0.5
             },
             "pattern": {
              "fillmode": "overlay",
              "size": 10,
              "solidity": 0.2
             }
            },
            "type": "barpolar"
           }
          ],
          "carpet": [
           {
            "aaxis": {
             "endlinecolor": "#A2B1C6",
             "gridcolor": "#506784",
             "linecolor": "#506784",
             "minorgridcolor": "#506784",
             "startlinecolor": "#A2B1C6"
            },
            "baxis": {
             "endlinecolor": "#A2B1C6",
             "gridcolor": "#506784",
             "linecolor": "#506784",
             "minorgridcolor": "#506784",
             "startlinecolor": "#A2B1C6"
            },
            "type": "carpet"
           }
          ],
          "choropleth": [
           {
            "colorbar": {
             "outlinewidth": 0,
             "ticks": ""
            },
            "type": "choropleth"
           }
          ],
          "contour": [
           {
            "colorbar": {
             "outlinewidth": 0,
             "ticks": ""
            },
            "colorscale": [
             [
              0,
              "#0d0887"
             ],
             [
              0.1111111111111111,
              "#46039f"
             ],
             [
              0.2222222222222222,
              "#7201a8"
             ],
             [
              0.3333333333333333,
              "#9c179e"
             ],
             [
              0.4444444444444444,
              "#bd3786"
             ],
             [
              0.5555555555555556,
              "#d8576b"
             ],
             [
              0.6666666666666666,
              "#ed7953"
             ],
             [
              0.7777777777777778,
              "#fb9f3a"
             ],
             [
              0.8888888888888888,
              "#fdca26"
             ],
             [
              1,
              "#f0f921"
             ]
            ],
            "type": "contour"
           }
          ],
          "contourcarpet": [
           {
            "colorbar": {
             "outlinewidth": 0,
             "ticks": ""
            },
            "type": "contourcarpet"
           }
          ],
          "heatmap": [
           {
            "colorbar": {
             "outlinewidth": 0,
             "ticks": ""
            },
            "colorscale": [
             [
              0,
              "#0d0887"
             ],
             [
              0.1111111111111111,
              "#46039f"
             ],
             [
              0.2222222222222222,
              "#7201a8"
             ],
             [
              0.3333333333333333,
              "#9c179e"
             ],
             [
              0.4444444444444444,
              "#bd3786"
             ],
             [
              0.5555555555555556,
              "#d8576b"
             ],
             [
              0.6666666666666666,
              "#ed7953"
             ],
             [
              0.7777777777777778,
              "#fb9f3a"
             ],
             [
              0.8888888888888888,
              "#fdca26"
             ],
             [
              1,
              "#f0f921"
             ]
            ],
            "type": "heatmap"
           }
          ],
          "histogram": [
           {
            "marker": {
             "pattern": {
              "fillmode": "overlay",
              "size": 10,
              "solidity": 0.2
             }
            },
            "type": "histogram"
           }
          ],
          "histogram2d": [
           {
            "colorbar": {
             "outlinewidth": 0,
             "ticks": ""
            },
            "colorscale": [
             [
              0,
              "#0d0887"
             ],
             [
              0.1111111111111111,
              "#46039f"
             ],
             [
              0.2222222222222222,
              "#7201a8"
             ],
             [
              0.3333333333333333,
              "#9c179e"
             ],
             [
              0.4444444444444444,
              "#bd3786"
             ],
             [
              0.5555555555555556,
              "#d8576b"
             ],
             [
              0.6666666666666666,
              "#ed7953"
             ],
             [
              0.7777777777777778,
              "#fb9f3a"
             ],
             [
              0.8888888888888888,
              "#fdca26"
             ],
             [
              1,
              "#f0f921"
             ]
            ],
            "type": "histogram2d"
           }
          ],
          "histogram2dcontour": [
           {
            "colorbar": {
             "outlinewidth": 0,
             "ticks": ""
            },
            "colorscale": [
             [
              0,
              "#0d0887"
             ],
             [
              0.1111111111111111,
              "#46039f"
             ],
             [
              0.2222222222222222,
              "#7201a8"
             ],
             [
              0.3333333333333333,
              "#9c179e"
             ],
             [
              0.4444444444444444,
              "#bd3786"
             ],
             [
              0.5555555555555556,
              "#d8576b"
             ],
             [
              0.6666666666666666,
              "#ed7953"
             ],
             [
              0.7777777777777778,
              "#fb9f3a"
             ],
             [
              0.8888888888888888,
              "#fdca26"
             ],
             [
              1,
              "#f0f921"
             ]
            ],
            "type": "histogram2dcontour"
           }
          ],
          "mesh3d": [
           {
            "colorbar": {
             "outlinewidth": 0,
             "ticks": ""
            },
            "type": "mesh3d"
           }
          ],
          "parcoords": [
           {
            "line": {
             "colorbar": {
              "outlinewidth": 0,
              "ticks": ""
             }
            },
            "type": "parcoords"
           }
          ],
          "pie": [
           {
            "automargin": true,
            "type": "pie"
           }
          ],
          "scatter": [
           {
            "marker": {
             "line": {
              "color": "#283442"
             }
            },
            "type": "scatter"
           }
          ],
          "scatter3d": [
           {
            "line": {
             "colorbar": {
              "outlinewidth": 0,
              "ticks": ""
             }
            },
            "marker": {
             "colorbar": {
              "outlinewidth": 0,
              "ticks": ""
             }
            },
            "type": "scatter3d"
           }
          ],
          "scattercarpet": [
           {
            "marker": {
             "colorbar": {
              "outlinewidth": 0,
              "ticks": ""
             }
            },
            "type": "scattercarpet"
           }
          ],
          "scattergeo": [
           {
            "marker": {
             "colorbar": {
              "outlinewidth": 0,
              "ticks": ""
             }
            },
            "type": "scattergeo"
           }
          ],
          "scattergl": [
           {
            "marker": {
             "line": {
              "color": "#283442"
             }
            },
            "type": "scattergl"
           }
          ],
          "scattermap": [
           {
            "marker": {
             "colorbar": {
              "outlinewidth": 0,
              "ticks": ""
             }
            },
            "type": "scattermap"
           }
          ],
          "scattermapbox": [
           {
            "marker": {
             "colorbar": {
              "outlinewidth": 0,
              "ticks": ""
             }
            },
            "type": "scattermapbox"
           }
          ],
          "scatterpolar": [
           {
            "marker": {
             "colorbar": {
              "outlinewidth": 0,
              "ticks": ""
             }
            },
            "type": "scatterpolar"
           }
          ],
          "scatterpolargl": [
           {
            "marker": {
             "colorbar": {
              "outlinewidth": 0,
              "ticks": ""
             }
            },
            "type": "scatterpolargl"
           }
          ],
          "scatterternary": [
           {
            "marker": {
             "colorbar": {
              "outlinewidth": 0,
              "ticks": ""
             }
            },
            "type": "scatterternary"
           }
          ],
          "surface": [
           {
            "colorbar": {
             "outlinewidth": 0,
             "ticks": ""
            },
            "colorscale": [
             [
              0,
              "#0d0887"
             ],
             [
              0.1111111111111111,
              "#46039f"
             ],
             [
              0.2222222222222222,
              "#7201a8"
             ],
             [
              0.3333333333333333,
              "#9c179e"
             ],
             [
              0.4444444444444444,
              "#bd3786"
             ],
             [
              0.5555555555555556,
              "#d8576b"
             ],
             [
              0.6666666666666666,
              "#ed7953"
             ],
             [
              0.7777777777777778,
              "#fb9f3a"
             ],
             [
              0.8888888888888888,
              "#fdca26"
             ],
             [
              1,
              "#f0f921"
             ]
            ],
            "type": "surface"
           }
          ],
          "table": [
           {
            "cells": {
             "fill": {
              "color": "#506784"
             },
             "line": {
              "color": "rgb(17,17,17)"
             }
            },
            "header": {
             "fill": {
              "color": "#2a3f5f"
             },
             "line": {
              "color": "rgb(17,17,17)"
             }
            },
            "type": "table"
           }
          ]
         },
         "layout": {
          "annotationdefaults": {
           "arrowcolor": "#f2f5fa",
           "arrowhead": 0,
           "arrowwidth": 1
          },
          "autotypenumbers": "strict",
          "coloraxis": {
           "colorbar": {
            "outlinewidth": 0,
            "ticks": ""
           }
          },
          "colorscale": {
           "diverging": [
            [
             0,
             "#8e0152"
            ],
            [
             0.1,
             "#c51b7d"
            ],
            [
             0.2,
             "#de77ae"
            ],
            [
             0.3,
             "#f1b6da"
            ],
            [
             0.4,
             "#fde0ef"
            ],
            [
             0.5,
             "#f7f7f7"
            ],
            [
             0.6,
             "#e6f5d0"
            ],
            [
             0.7,
             "#b8e186"
            ],
            [
             0.8,
             "#7fbc41"
            ],
            [
             0.9,
             "#4d9221"
            ],
            [
             1,
             "#276419"
            ]
           ],
           "sequential": [
            [
             0,
             "#0d0887"
            ],
            [
             0.1111111111111111,
             "#46039f"
            ],
            [
             0.2222222222222222,
             "#7201a8"
            ],
            [
             0.3333333333333333,
             "#9c179e"
            ],
            [
             0.4444444444444444,
             "#bd3786"
            ],
            [
             0.5555555555555556,
             "#d8576b"
            ],
            [
             0.6666666666666666,
             "#ed7953"
            ],
            [
             0.7777777777777778,
             "#fb9f3a"
            ],
            [
             0.8888888888888888,
             "#fdca26"
            ],
            [
             1,
             "#f0f921"
            ]
           ],
           "sequentialminus": [
            [
             0,
             "#0d0887"
            ],
            [
             0.1111111111111111,
             "#46039f"
            ],
            [
             0.2222222222222222,
             "#7201a8"
            ],
            [
             0.3333333333333333,
             "#9c179e"
            ],
            [
             0.4444444444444444,
             "#bd3786"
            ],
            [
             0.5555555555555556,
             "#d8576b"
            ],
            [
             0.6666666666666666,
             "#ed7953"
            ],
            [
             0.7777777777777778,
             "#fb9f3a"
            ],
            [
             0.8888888888888888,
             "#fdca26"
            ],
            [
             1,
             "#f0f921"
            ]
           ]
          },
          "colorway": [
           "#636efa",
           "#EF553B",
           "#00cc96",
           "#ab63fa",
           "#FFA15A",
           "#19d3f3",
           "#FF6692",
           "#B6E880",
           "#FF97FF",
           "#FECB52"
          ],
          "font": {
           "color": "#f2f5fa"
          },
          "geo": {
           "bgcolor": "rgb(17,17,17)",
           "lakecolor": "rgb(17,17,17)",
           "landcolor": "rgb(17,17,17)",
           "showlakes": true,
           "showland": true,
           "subunitcolor": "#506784"
          },
          "hoverlabel": {
           "align": "left"
          },
          "hovermode": "closest",
          "mapbox": {
           "style": "dark"
          },
          "paper_bgcolor": "rgb(17,17,17)",
          "plot_bgcolor": "rgb(17,17,17)",
          "polar": {
           "angularaxis": {
            "gridcolor": "#506784",
            "linecolor": "#506784",
            "ticks": ""
           },
           "bgcolor": "rgb(17,17,17)",
           "radialaxis": {
            "gridcolor": "#506784",
            "linecolor": "#506784",
            "ticks": ""
           }
          },
          "scene": {
           "xaxis": {
            "backgroundcolor": "rgb(17,17,17)",
            "gridcolor": "#506784",
            "gridwidth": 2,
            "linecolor": "#506784",
            "showbackground": true,
            "ticks": "",
            "zerolinecolor": "#C8D4E3"
           },
           "yaxis": {
            "backgroundcolor": "rgb(17,17,17)",
            "gridcolor": "#506784",
            "gridwidth": 2,
            "linecolor": "#506784",
            "showbackground": true,
            "ticks": "",
            "zerolinecolor": "#C8D4E3"
           },
           "zaxis": {
            "backgroundcolor": "rgb(17,17,17)",
            "gridcolor": "#506784",
            "gridwidth": 2,
            "linecolor": "#506784",
            "showbackground": true,
            "ticks": "",
            "zerolinecolor": "#C8D4E3"
           }
          },
          "shapedefaults": {
           "line": {
            "color": "#f2f5fa"
           }
          },
          "sliderdefaults": {
           "bgcolor": "#C8D4E3",
           "bordercolor": "rgb(17,17,17)",
           "borderwidth": 1,
           "tickwidth": 0
          },
          "ternary": {
           "aaxis": {
            "gridcolor": "#506784",
            "linecolor": "#506784",
            "ticks": ""
           },
           "baxis": {
            "gridcolor": "#506784",
            "linecolor": "#506784",
            "ticks": ""
           },
           "bgcolor": "rgb(17,17,17)",
           "caxis": {
            "gridcolor": "#506784",
            "linecolor": "#506784",
            "ticks": ""
           }
          },
          "title": {
           "x": 0.05
          },
          "updatemenudefaults": {
           "bgcolor": "#506784",
           "borderwidth": 0
          },
          "xaxis": {
           "automargin": true,
           "gridcolor": "#283442",
           "linecolor": "#506784",
           "ticks": "",
           "title": {
            "standoff": 15
           },
           "zerolinecolor": "#283442",
           "zerolinewidth": 2
          },
          "yaxis": {
           "automargin": true,
           "gridcolor": "#283442",
           "linecolor": "#506784",
           "ticks": "",
           "title": {
            "standoff": 15
           },
           "zerolinecolor": "#283442",
           "zerolinewidth": 2
          }
         }
        },
        "title": {
         "text": "Average Sale Price by Property Contour"
        },
        "xaxis": {
         "anchor": "y",
         "domain": [
          0,
          1
         ],
         "title": {
          "text": "x"
         }
        },
        "yaxis": {
         "anchor": "x",
         "domain": [
          0,
          1
         ],
         "title": {
          "text": "y"
         }
        }
       }
      }
     },
     "metadata": {},
     "output_type": "display_data"
    }
   ],
   "source": [
    "px.bar(x=contour_prices.index, y=contour_prices.values, title='Average Sale Price by Property Contour',\n",
    "              template='plotly_dark', text=contour_prices.values)"
   ]
  },
  {
   "cell_type": "code",
   "execution_count": 41,
   "metadata": {},
   "outputs": [],
   "source": [
    "df['PropertyAge'] = df['YrSold'] - df['YearBuilt']\n",
    "age_price_corr = df['PropertyAge'].corr(df['SalePrice'])"
   ]
  },
  {
   "cell_type": "code",
   "execution_count": 42,
   "metadata": {},
   "outputs": [
    {
     "data": {
      "application/vnd.plotly.v1+json": {
       "config": {
        "plotlyServerURL": "https://plot.ly"
       },
       "data": [
        {
         "hovertemplate": "PropertyAge=%{marker.color}<br>SalePrice=%{y}<extra></extra>",
         "legendgroup": "",
         "marker": {
          "color": {
           "bdata": "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",
           "dtype": "i2"
          },
          "coloraxis": "coloraxis",
          "symbol": "circle"
         },
         "mode": "markers",
         "name": "",
         "showlegend": false,
         "type": "scattergl",
         "x": {
          "bdata": "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",
          "dtype": "i2"
         },
         "xaxis": "x",
         "y": {
          "bdata": "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",
          "dtype": "i4"
         },
         "yaxis": "y"
        }
       ],
       "layout": {
        "coloraxis": {
         "colorbar": {
          "title": {
           "text": "PropertyAge"
          }
         },
         "colorscale": [
          [
           0,
           "rgb(243, 224, 247)"
          ],
          [
           0.16666666666666666,
           "rgb(228, 199, 241)"
          ],
          [
           0.3333333333333333,
           "rgb(209, 175, 232)"
          ],
          [
           0.5,
           "rgb(185, 152, 221)"
          ],
          [
           0.6666666666666666,
           "rgb(159, 130, 206)"
          ],
          [
           0.8333333333333334,
           "rgb(130, 109, 186)"
          ],
          [
           1,
           "rgb(99, 88, 159)"
          ]
         ]
        },
        "legend": {
         "tracegroupgap": 0
        },
        "template": {
         "data": {
          "bar": [
           {
            "error_x": {
             "color": "#2a3f5f"
            },
            "error_y": {
             "color": "#2a3f5f"
            },
            "marker": {
             "line": {
              "color": "#E5ECF6",
              "width": 0.5
             },
             "pattern": {
              "fillmode": "overlay",
              "size": 10,
              "solidity": 0.2
             }
            },
            "type": "bar"
           }
          ],
          "barpolar": [
           {
            "marker": {
             "line": {
              "color": "#E5ECF6",
              "width": 0.5
             },
             "pattern": {
              "fillmode": "overlay",
              "size": 10,
              "solidity": 0.2
             }
            },
            "type": "barpolar"
           }
          ],
          "carpet": [
           {
            "aaxis": {
             "endlinecolor": "#2a3f5f",
             "gridcolor": "white",
             "linecolor": "white",
             "minorgridcolor": "white",
             "startlinecolor": "#2a3f5f"
            },
            "baxis": {
             "endlinecolor": "#2a3f5f",
             "gridcolor": "white",
             "linecolor": "white",
             "minorgridcolor": "white",
             "startlinecolor": "#2a3f5f"
            },
            "type": "carpet"
           }
          ],
          "choropleth": [
           {
            "colorbar": {
             "outlinewidth": 0,
             "ticks": ""
            },
            "type": "choropleth"
           }
          ],
          "contour": [
           {
            "colorbar": {
             "outlinewidth": 0,
             "ticks": ""
            },
            "colorscale": [
             [
              0,
              "#0d0887"
             ],
             [
              0.1111111111111111,
              "#46039f"
             ],
             [
              0.2222222222222222,
              "#7201a8"
             ],
             [
              0.3333333333333333,
              "#9c179e"
             ],
             [
              0.4444444444444444,
              "#bd3786"
             ],
             [
              0.5555555555555556,
              "#d8576b"
             ],
             [
              0.6666666666666666,
              "#ed7953"
             ],
             [
              0.7777777777777778,
              "#fb9f3a"
             ],
             [
              0.8888888888888888,
              "#fdca26"
             ],
             [
              1,
              "#f0f921"
             ]
            ],
            "type": "contour"
           }
          ],
          "contourcarpet": [
           {
            "colorbar": {
             "outlinewidth": 0,
             "ticks": ""
            },
            "type": "contourcarpet"
           }
          ],
          "heatmap": [
           {
            "colorbar": {
             "outlinewidth": 0,
             "ticks": ""
            },
            "colorscale": [
             [
              0,
              "#0d0887"
             ],
             [
              0.1111111111111111,
              "#46039f"
             ],
             [
              0.2222222222222222,
              "#7201a8"
             ],
             [
              0.3333333333333333,
              "#9c179e"
             ],
             [
              0.4444444444444444,
              "#bd3786"
             ],
             [
              0.5555555555555556,
              "#d8576b"
             ],
             [
              0.6666666666666666,
              "#ed7953"
             ],
             [
              0.7777777777777778,
              "#fb9f3a"
             ],
             [
              0.8888888888888888,
              "#fdca26"
             ],
             [
              1,
              "#f0f921"
             ]
            ],
            "type": "heatmap"
           }
          ],
          "histogram": [
           {
            "marker": {
             "pattern": {
              "fillmode": "overlay",
              "size": 10,
              "solidity": 0.2
             }
            },
            "type": "histogram"
           }
          ],
          "histogram2d": [
           {
            "colorbar": {
             "outlinewidth": 0,
             "ticks": ""
            },
            "colorscale": [
             [
              0,
              "#0d0887"
             ],
             [
              0.1111111111111111,
              "#46039f"
             ],
             [
              0.2222222222222222,
              "#7201a8"
             ],
             [
              0.3333333333333333,
              "#9c179e"
             ],
             [
              0.4444444444444444,
              "#bd3786"
             ],
             [
              0.5555555555555556,
              "#d8576b"
             ],
             [
              0.6666666666666666,
              "#ed7953"
             ],
             [
              0.7777777777777778,
              "#fb9f3a"
             ],
             [
              0.8888888888888888,
              "#fdca26"
             ],
             [
              1,
              "#f0f921"
             ]
            ],
            "type": "histogram2d"
           }
          ],
          "histogram2dcontour": [
           {
            "colorbar": {
             "outlinewidth": 0,
             "ticks": ""
            },
            "colorscale": [
             [
              0,
              "#0d0887"
             ],
             [
              0.1111111111111111,
              "#46039f"
             ],
             [
              0.2222222222222222,
              "#7201a8"
             ],
             [
              0.3333333333333333,
              "#9c179e"
             ],
             [
              0.4444444444444444,
              "#bd3786"
             ],
             [
              0.5555555555555556,
              "#d8576b"
             ],
             [
              0.6666666666666666,
              "#ed7953"
             ],
             [
              0.7777777777777778,
              "#fb9f3a"
             ],
             [
              0.8888888888888888,
              "#fdca26"
             ],
             [
              1,
              "#f0f921"
             ]
            ],
            "type": "histogram2dcontour"
           }
          ],
          "mesh3d": [
           {
            "colorbar": {
             "outlinewidth": 0,
             "ticks": ""
            },
            "type": "mesh3d"
           }
          ],
          "parcoords": [
           {
            "line": {
             "colorbar": {
              "outlinewidth": 0,
              "ticks": ""
             }
            },
            "type": "parcoords"
           }
          ],
          "pie": [
           {
            "automargin": true,
            "type": "pie"
           }
          ],
          "scatter": [
           {
            "fillpattern": {
             "fillmode": "overlay",
             "size": 10,
             "solidity": 0.2
            },
            "type": "scatter"
           }
          ],
          "scatter3d": [
           {
            "line": {
             "colorbar": {
              "outlinewidth": 0,
              "ticks": ""
             }
            },
            "marker": {
             "colorbar": {
              "outlinewidth": 0,
              "ticks": ""
             }
            },
            "type": "scatter3d"
           }
          ],
          "scattercarpet": [
           {
            "marker": {
             "colorbar": {
              "outlinewidth": 0,
              "ticks": ""
             }
            },
            "type": "scattercarpet"
           }
          ],
          "scattergeo": [
           {
            "marker": {
             "colorbar": {
              "outlinewidth": 0,
              "ticks": ""
             }
            },
            "type": "scattergeo"
           }
          ],
          "scattergl": [
           {
            "marker": {
             "colorbar": {
              "outlinewidth": 0,
              "ticks": ""
             }
            },
            "type": "scattergl"
           }
          ],
          "scattermap": [
           {
            "marker": {
             "colorbar": {
              "outlinewidth": 0,
              "ticks": ""
             }
            },
            "type": "scattermap"
           }
          ],
          "scattermapbox": [
           {
            "marker": {
             "colorbar": {
              "outlinewidth": 0,
              "ticks": ""
             }
            },
            "type": "scattermapbox"
           }
          ],
          "scatterpolar": [
           {
            "marker": {
             "colorbar": {
              "outlinewidth": 0,
              "ticks": ""
             }
            },
            "type": "scatterpolar"
           }
          ],
          "scatterpolargl": [
           {
            "marker": {
             "colorbar": {
              "outlinewidth": 0,
              "ticks": ""
             }
            },
            "type": "scatterpolargl"
           }
          ],
          "scatterternary": [
           {
            "marker": {
             "colorbar": {
              "outlinewidth": 0,
              "ticks": ""
             }
            },
            "type": "scatterternary"
           }
          ],
          "surface": [
           {
            "colorbar": {
             "outlinewidth": 0,
             "ticks": ""
            },
            "colorscale": [
             [
              0,
              "#0d0887"
             ],
             [
              0.1111111111111111,
              "#46039f"
             ],
             [
              0.2222222222222222,
              "#7201a8"
             ],
             [
              0.3333333333333333,
              "#9c179e"
             ],
             [
              0.4444444444444444,
              "#bd3786"
             ],
             [
              0.5555555555555556,
              "#d8576b"
             ],
             [
              0.6666666666666666,
              "#ed7953"
             ],
             [
              0.7777777777777778,
              "#fb9f3a"
             ],
             [
              0.8888888888888888,
              "#fdca26"
             ],
             [
              1,
              "#f0f921"
             ]
            ],
            "type": "surface"
           }
          ],
          "table": [
           {
            "cells": {
             "fill": {
              "color": "#EBF0F8"
             },
             "line": {
              "color": "white"
             }
            },
            "header": {
             "fill": {
              "color": "#C8D4E3"
             },
             "line": {
              "color": "white"
             }
            },
            "type": "table"
           }
          ]
         },
         "layout": {
          "annotationdefaults": {
           "arrowcolor": "#2a3f5f",
           "arrowhead": 0,
           "arrowwidth": 1
          },
          "autotypenumbers": "strict",
          "coloraxis": {
           "colorbar": {
            "outlinewidth": 0,
            "ticks": ""
           }
          },
          "colorscale": {
           "diverging": [
            [
             0,
             "#8e0152"
            ],
            [
             0.1,
             "#c51b7d"
            ],
            [
             0.2,
             "#de77ae"
            ],
            [
             0.3,
             "#f1b6da"
            ],
            [
             0.4,
             "#fde0ef"
            ],
            [
             0.5,
             "#f7f7f7"
            ],
            [
             0.6,
             "#e6f5d0"
            ],
            [
             0.7,
             "#b8e186"
            ],
            [
             0.8,
             "#7fbc41"
            ],
            [
             0.9,
             "#4d9221"
            ],
            [
             1,
             "#276419"
            ]
           ],
           "sequential": [
            [
             0,
             "#0d0887"
            ],
            [
             0.1111111111111111,
             "#46039f"
            ],
            [
             0.2222222222222222,
             "#7201a8"
            ],
            [
             0.3333333333333333,
             "#9c179e"
            ],
            [
             0.4444444444444444,
             "#bd3786"
            ],
            [
             0.5555555555555556,
             "#d8576b"
            ],
            [
             0.6666666666666666,
             "#ed7953"
            ],
            [
             0.7777777777777778,
             "#fb9f3a"
            ],
            [
             0.8888888888888888,
             "#fdca26"
            ],
            [
             1,
             "#f0f921"
            ]
           ],
           "sequentialminus": [
            [
             0,
             "#0d0887"
            ],
            [
             0.1111111111111111,
             "#46039f"
            ],
            [
             0.2222222222222222,
             "#7201a8"
            ],
            [
             0.3333333333333333,
             "#9c179e"
            ],
            [
             0.4444444444444444,
             "#bd3786"
            ],
            [
             0.5555555555555556,
             "#d8576b"
            ],
            [
             0.6666666666666666,
             "#ed7953"
            ],
            [
             0.7777777777777778,
             "#fb9f3a"
            ],
            [
             0.8888888888888888,
             "#fdca26"
            ],
            [
             1,
             "#f0f921"
            ]
           ]
          },
          "colorway": [
           "#636efa",
           "#EF553B",
           "#00cc96",
           "#ab63fa",
           "#FFA15A",
           "#19d3f3",
           "#FF6692",
           "#B6E880",
           "#FF97FF",
           "#FECB52"
          ],
          "font": {
           "color": "#2a3f5f"
          },
          "geo": {
           "bgcolor": "white",
           "lakecolor": "white",
           "landcolor": "#E5ECF6",
           "showlakes": true,
           "showland": true,
           "subunitcolor": "white"
          },
          "hoverlabel": {
           "align": "left"
          },
          "hovermode": "closest",
          "mapbox": {
           "style": "light"
          },
          "paper_bgcolor": "white",
          "plot_bgcolor": "#E5ECF6",
          "polar": {
           "angularaxis": {
            "gridcolor": "white",
            "linecolor": "white",
            "ticks": ""
           },
           "bgcolor": "#E5ECF6",
           "radialaxis": {
            "gridcolor": "white",
            "linecolor": "white",
            "ticks": ""
           }
          },
          "scene": {
           "xaxis": {
            "backgroundcolor": "#E5ECF6",
            "gridcolor": "white",
            "gridwidth": 2,
            "linecolor": "white",
            "showbackground": true,
            "ticks": "",
            "zerolinecolor": "white"
           },
           "yaxis": {
            "backgroundcolor": "#E5ECF6",
            "gridcolor": "white",
            "gridwidth": 2,
            "linecolor": "white",
            "showbackground": true,
            "ticks": "",
            "zerolinecolor": "white"
           },
           "zaxis": {
            "backgroundcolor": "#E5ECF6",
            "gridcolor": "white",
            "gridwidth": 2,
            "linecolor": "white",
            "showbackground": true,
            "ticks": "",
            "zerolinecolor": "white"
           }
          },
          "shapedefaults": {
           "line": {
            "color": "#2a3f5f"
           }
          },
          "ternary": {
           "aaxis": {
            "gridcolor": "white",
            "linecolor": "white",
            "ticks": ""
           },
           "baxis": {
            "gridcolor": "white",
            "linecolor": "white",
            "ticks": ""
           },
           "bgcolor": "#E5ECF6",
           "caxis": {
            "gridcolor": "white",
            "linecolor": "white",
            "ticks": ""
           }
          },
          "title": {
           "x": 0.05
          },
          "xaxis": {
           "automargin": true,
           "gridcolor": "white",
           "linecolor": "white",
           "ticks": "",
           "title": {
            "standoff": 15
           },
           "zerolinecolor": "white",
           "zerolinewidth": 2
          },
          "yaxis": {
           "automargin": true,
           "gridcolor": "white",
           "linecolor": "white",
           "ticks": "",
           "title": {
            "standoff": 15
           },
           "zerolinecolor": "white",
           "zerolinewidth": 2
          }
         }
        },
        "title": {
         "text": "Property Age vs Sale Price"
        },
        "xaxis": {
         "anchor": "y",
         "domain": [
          0,
          1
         ],
         "title": {
          "text": "PropertyAge"
         }
        },
        "yaxis": {
         "anchor": "x",
         "domain": [
          0,
          1
         ],
         "title": {
          "text": "SalePrice"
         }
        }
       }
      }
     },
     "metadata": {},
     "output_type": "display_data"
    }
   ],
   "source": [
    "px.scatter(df, x='PropertyAge', y='SalePrice', title='Property Age vs Sale Price', \n",
    "           color='PropertyAge', color_continuous_scale=px.colors.sequential.Purp)"
   ]
  },
  {
   "cell_type": "code",
   "execution_count": 43,
   "metadata": {},
   "outputs": [
    {
     "data": {
      "application/vnd.plotly.v1+json": {
       "config": {
        "plotlyServerURL": "https://plot.ly"
       },
       "data": [
        {
         "hovertemplate": "GrLivArea=%{marker.color}<br>SalePrice=%{y}<extra></extra>",
         "legendgroup": "",
         "marker": {
          "color": {
           "bdata": "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",
           "dtype": "i2"
          },
          "coloraxis": "coloraxis",
          "symbol": "circle"
         },
         "mode": "markers",
         "name": "",
         "showlegend": false,
         "type": "scattergl",
         "x": {
          "bdata": "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",
          "dtype": "i2"
         },
         "xaxis": "x",
         "y": {
          "bdata": "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",
          "dtype": "i4"
         },
         "yaxis": "y"
        }
       ],
       "layout": {
        "coloraxis": {
         "colorbar": {
          "title": {
           "text": "GrLivArea"
          }
         },
         "colorscale": [
          [
           0,
           "rgb(243, 224, 247)"
          ],
          [
           0.16666666666666666,
           "rgb(228, 199, 241)"
          ],
          [
           0.3333333333333333,
           "rgb(209, 175, 232)"
          ],
          [
           0.5,
           "rgb(185, 152, 221)"
          ],
          [
           0.6666666666666666,
           "rgb(159, 130, 206)"
          ],
          [
           0.8333333333333334,
           "rgb(130, 109, 186)"
          ],
          [
           1,
           "rgb(99, 88, 159)"
          ]
         ]
        },
        "legend": {
         "tracegroupgap": 0
        },
        "template": {
         "data": {
          "bar": [
           {
            "error_x": {
             "color": "#2a3f5f"
            },
            "error_y": {
             "color": "#2a3f5f"
            },
            "marker": {
             "line": {
              "color": "#E5ECF6",
              "width": 0.5
             },
             "pattern": {
              "fillmode": "overlay",
              "size": 10,
              "solidity": 0.2
             }
            },
            "type": "bar"
           }
          ],
          "barpolar": [
           {
            "marker": {
             "line": {
              "color": "#E5ECF6",
              "width": 0.5
             },
             "pattern": {
              "fillmode": "overlay",
              "size": 10,
              "solidity": 0.2
             }
            },
            "type": "barpolar"
           }
          ],
          "carpet": [
           {
            "aaxis": {
             "endlinecolor": "#2a3f5f",
             "gridcolor": "white",
             "linecolor": "white",
             "minorgridcolor": "white",
             "startlinecolor": "#2a3f5f"
            },
            "baxis": {
             "endlinecolor": "#2a3f5f",
             "gridcolor": "white",
             "linecolor": "white",
             "minorgridcolor": "white",
             "startlinecolor": "#2a3f5f"
            },
            "type": "carpet"
           }
          ],
          "choropleth": [
           {
            "colorbar": {
             "outlinewidth": 0,
             "ticks": ""
            },
            "type": "choropleth"
           }
          ],
          "contour": [
           {
            "colorbar": {
             "outlinewidth": 0,
             "ticks": ""
            },
            "colorscale": [
             [
              0,
              "#0d0887"
             ],
             [
              0.1111111111111111,
              "#46039f"
             ],
             [
              0.2222222222222222,
              "#7201a8"
             ],
             [
              0.3333333333333333,
              "#9c179e"
             ],
             [
              0.4444444444444444,
              "#bd3786"
             ],
             [
              0.5555555555555556,
              "#d8576b"
             ],
             [
              0.6666666666666666,
              "#ed7953"
             ],
             [
              0.7777777777777778,
              "#fb9f3a"
             ],
             [
              0.8888888888888888,
              "#fdca26"
             ],
             [
              1,
              "#f0f921"
             ]
            ],
            "type": "contour"
           }
          ],
          "contourcarpet": [
           {
            "colorbar": {
             "outlinewidth": 0,
             "ticks": ""
            },
            "type": "contourcarpet"
           }
          ],
          "heatmap": [
           {
            "colorbar": {
             "outlinewidth": 0,
             "ticks": ""
            },
            "colorscale": [
             [
              0,
              "#0d0887"
             ],
             [
              0.1111111111111111,
              "#46039f"
             ],
             [
              0.2222222222222222,
              "#7201a8"
             ],
             [
              0.3333333333333333,
              "#9c179e"
             ],
             [
              0.4444444444444444,
              "#bd3786"
             ],
             [
              0.5555555555555556,
              "#d8576b"
             ],
             [
              0.6666666666666666,
              "#ed7953"
             ],
             [
              0.7777777777777778,
              "#fb9f3a"
             ],
             [
              0.8888888888888888,
              "#fdca26"
             ],
             [
              1,
              "#f0f921"
             ]
            ],
            "type": "heatmap"
           }
          ],
          "histogram": [
           {
            "marker": {
             "pattern": {
              "fillmode": "overlay",
              "size": 10,
              "solidity": 0.2
             }
            },
            "type": "histogram"
           }
          ],
          "histogram2d": [
           {
            "colorbar": {
             "outlinewidth": 0,
             "ticks": ""
            },
            "colorscale": [
             [
              0,
              "#0d0887"
             ],
             [
              0.1111111111111111,
              "#46039f"
             ],
             [
              0.2222222222222222,
              "#7201a8"
             ],
             [
              0.3333333333333333,
              "#9c179e"
             ],
             [
              0.4444444444444444,
              "#bd3786"
             ],
             [
              0.5555555555555556,
              "#d8576b"
             ],
             [
              0.6666666666666666,
              "#ed7953"
             ],
             [
              0.7777777777777778,
              "#fb9f3a"
             ],
             [
              0.8888888888888888,
              "#fdca26"
             ],
             [
              1,
              "#f0f921"
             ]
            ],
            "type": "histogram2d"
           }
          ],
          "histogram2dcontour": [
           {
            "colorbar": {
             "outlinewidth": 0,
             "ticks": ""
            },
            "colorscale": [
             [
              0,
              "#0d0887"
             ],
             [
              0.1111111111111111,
              "#46039f"
             ],
             [
              0.2222222222222222,
              "#7201a8"
             ],
             [
              0.3333333333333333,
              "#9c179e"
             ],
             [
              0.4444444444444444,
              "#bd3786"
             ],
             [
              0.5555555555555556,
              "#d8576b"
             ],
             [
              0.6666666666666666,
              "#ed7953"
             ],
             [
              0.7777777777777778,
              "#fb9f3a"
             ],
             [
              0.8888888888888888,
              "#fdca26"
             ],
             [
              1,
              "#f0f921"
             ]
            ],
            "type": "histogram2dcontour"
           }
          ],
          "mesh3d": [
           {
            "colorbar": {
             "outlinewidth": 0,
             "ticks": ""
            },
            "type": "mesh3d"
           }
          ],
          "parcoords": [
           {
            "line": {
             "colorbar": {
              "outlinewidth": 0,
              "ticks": ""
             }
            },
            "type": "parcoords"
           }
          ],
          "pie": [
           {
            "automargin": true,
            "type": "pie"
           }
          ],
          "scatter": [
           {
            "fillpattern": {
             "fillmode": "overlay",
             "size": 10,
             "solidity": 0.2
            },
            "type": "scatter"
           }
          ],
          "scatter3d": [
           {
            "line": {
             "colorbar": {
              "outlinewidth": 0,
              "ticks": ""
             }
            },
            "marker": {
             "colorbar": {
              "outlinewidth": 0,
              "ticks": ""
             }
            },
            "type": "scatter3d"
           }
          ],
          "scattercarpet": [
           {
            "marker": {
             "colorbar": {
              "outlinewidth": 0,
              "ticks": ""
             }
            },
            "type": "scattercarpet"
           }
          ],
          "scattergeo": [
           {
            "marker": {
             "colorbar": {
              "outlinewidth": 0,
              "ticks": ""
             }
            },
            "type": "scattergeo"
           }
          ],
          "scattergl": [
           {
            "marker": {
             "colorbar": {
              "outlinewidth": 0,
              "ticks": ""
             }
            },
            "type": "scattergl"
           }
          ],
          "scattermap": [
           {
            "marker": {
             "colorbar": {
              "outlinewidth": 0,
              "ticks": ""
             }
            },
            "type": "scattermap"
           }
          ],
          "scattermapbox": [
           {
            "marker": {
             "colorbar": {
              "outlinewidth": 0,
              "ticks": ""
             }
            },
            "type": "scattermapbox"
           }
          ],
          "scatterpolar": [
           {
            "marker": {
             "colorbar": {
              "outlinewidth": 0,
              "ticks": ""
             }
            },
            "type": "scatterpolar"
           }
          ],
          "scatterpolargl": [
           {
            "marker": {
             "colorbar": {
              "outlinewidth": 0,
              "ticks": ""
             }
            },
            "type": "scatterpolargl"
           }
          ],
          "scatterternary": [
           {
            "marker": {
             "colorbar": {
              "outlinewidth": 0,
              "ticks": ""
             }
            },
            "type": "scatterternary"
           }
          ],
          "surface": [
           {
            "colorbar": {
             "outlinewidth": 0,
             "ticks": ""
            },
            "colorscale": [
             [
              0,
              "#0d0887"
             ],
             [
              0.1111111111111111,
              "#46039f"
             ],
             [
              0.2222222222222222,
              "#7201a8"
             ],
             [
              0.3333333333333333,
              "#9c179e"
             ],
             [
              0.4444444444444444,
              "#bd3786"
             ],
             [
              0.5555555555555556,
              "#d8576b"
             ],
             [
              0.6666666666666666,
              "#ed7953"
             ],
             [
              0.7777777777777778,
              "#fb9f3a"
             ],
             [
              0.8888888888888888,
              "#fdca26"
             ],
             [
              1,
              "#f0f921"
             ]
            ],
            "type": "surface"
           }
          ],
          "table": [
           {
            "cells": {
             "fill": {
              "color": "#EBF0F8"
             },
             "line": {
              "color": "white"
             }
            },
            "header": {
             "fill": {
              "color": "#C8D4E3"
             },
             "line": {
              "color": "white"
             }
            },
            "type": "table"
           }
          ]
         },
         "layout": {
          "annotationdefaults": {
           "arrowcolor": "#2a3f5f",
           "arrowhead": 0,
           "arrowwidth": 1
          },
          "autotypenumbers": "strict",
          "coloraxis": {
           "colorbar": {
            "outlinewidth": 0,
            "ticks": ""
           }
          },
          "colorscale": {
           "diverging": [
            [
             0,
             "#8e0152"
            ],
            [
             0.1,
             "#c51b7d"
            ],
            [
             0.2,
             "#de77ae"
            ],
            [
             0.3,
             "#f1b6da"
            ],
            [
             0.4,
             "#fde0ef"
            ],
            [
             0.5,
             "#f7f7f7"
            ],
            [
             0.6,
             "#e6f5d0"
            ],
            [
             0.7,
             "#b8e186"
            ],
            [
             0.8,
             "#7fbc41"
            ],
            [
             0.9,
             "#4d9221"
            ],
            [
             1,
             "#276419"
            ]
           ],
           "sequential": [
            [
             0,
             "#0d0887"
            ],
            [
             0.1111111111111111,
             "#46039f"
            ],
            [
             0.2222222222222222,
             "#7201a8"
            ],
            [
             0.3333333333333333,
             "#9c179e"
            ],
            [
             0.4444444444444444,
             "#bd3786"
            ],
            [
             0.5555555555555556,
             "#d8576b"
            ],
            [
             0.6666666666666666,
             "#ed7953"
            ],
            [
             0.7777777777777778,
             "#fb9f3a"
            ],
            [
             0.8888888888888888,
             "#fdca26"
            ],
            [
             1,
             "#f0f921"
            ]
           ],
           "sequentialminus": [
            [
             0,
             "#0d0887"
            ],
            [
             0.1111111111111111,
             "#46039f"
            ],
            [
             0.2222222222222222,
             "#7201a8"
            ],
            [
             0.3333333333333333,
             "#9c179e"
            ],
            [
             0.4444444444444444,
             "#bd3786"
            ],
            [
             0.5555555555555556,
             "#d8576b"
            ],
            [
             0.6666666666666666,
             "#ed7953"
            ],
            [
             0.7777777777777778,
             "#fb9f3a"
            ],
            [
             0.8888888888888888,
             "#fdca26"
            ],
            [
             1,
             "#f0f921"
            ]
           ]
          },
          "colorway": [
           "#636efa",
           "#EF553B",
           "#00cc96",
           "#ab63fa",
           "#FFA15A",
           "#19d3f3",
           "#FF6692",
           "#B6E880",
           "#FF97FF",
           "#FECB52"
          ],
          "font": {
           "color": "#2a3f5f"
          },
          "geo": {
           "bgcolor": "white",
           "lakecolor": "white",
           "landcolor": "#E5ECF6",
           "showlakes": true,
           "showland": true,
           "subunitcolor": "white"
          },
          "hoverlabel": {
           "align": "left"
          },
          "hovermode": "closest",
          "mapbox": {
           "style": "light"
          },
          "paper_bgcolor": "white",
          "plot_bgcolor": "#E5ECF6",
          "polar": {
           "angularaxis": {
            "gridcolor": "white",
            "linecolor": "white",
            "ticks": ""
           },
           "bgcolor": "#E5ECF6",
           "radialaxis": {
            "gridcolor": "white",
            "linecolor": "white",
            "ticks": ""
           }
          },
          "scene": {
           "xaxis": {
            "backgroundcolor": "#E5ECF6",
            "gridcolor": "white",
            "gridwidth": 2,
            "linecolor": "white",
            "showbackground": true,
            "ticks": "",
            "zerolinecolor": "white"
           },
           "yaxis": {
            "backgroundcolor": "#E5ECF6",
            "gridcolor": "white",
            "gridwidth": 2,
            "linecolor": "white",
            "showbackground": true,
            "ticks": "",
            "zerolinecolor": "white"
           },
           "zaxis": {
            "backgroundcolor": "#E5ECF6",
            "gridcolor": "white",
            "gridwidth": 2,
            "linecolor": "white",
            "showbackground": true,
            "ticks": "",
            "zerolinecolor": "white"
           }
          },
          "shapedefaults": {
           "line": {
            "color": "#2a3f5f"
           }
          },
          "ternary": {
           "aaxis": {
            "gridcolor": "white",
            "linecolor": "white",
            "ticks": ""
           },
           "baxis": {
            "gridcolor": "white",
            "linecolor": "white",
            "ticks": ""
           },
           "bgcolor": "#E5ECF6",
           "caxis": {
            "gridcolor": "white",
            "linecolor": "white",
            "ticks": ""
           }
          },
          "title": {
           "x": 0.05
          },
          "xaxis": {
           "automargin": true,
           "gridcolor": "white",
           "linecolor": "white",
           "ticks": "",
           "title": {
            "standoff": 15
           },
           "zerolinecolor": "white",
           "zerolinewidth": 2
          },
          "yaxis": {
           "automargin": true,
           "gridcolor": "white",
           "linecolor": "white",
           "ticks": "",
           "title": {
            "standoff": 15
           },
           "zerolinecolor": "white",
           "zerolinewidth": 2
          }
         }
        },
        "title": {
         "text": "Living Area (above grade) vs Sale Price"
        },
        "xaxis": {
         "anchor": "y",
         "domain": [
          0,
          1
         ],
         "title": {
          "text": "GrLivArea"
         }
        },
        "yaxis": {
         "anchor": "x",
         "domain": [
          0,
          1
         ],
         "title": {
          "text": "SalePrice"
         }
        }
       }
      }
     },
     "metadata": {},
     "output_type": "display_data"
    }
   ],
   "source": [
    "living_area_price_corr = df['GrLivArea'].corr(df['SalePrice'])\n",
    "px.scatter(df, x='GrLivArea', y='SalePrice', title='Living Area (above grade) vs Sale Price',\n",
    "           color='GrLivArea', color_continuous_scale=px.colors.sequential.Purp)"
   ]
  },
  {
   "cell_type": "code",
   "execution_count": null,
   "metadata": {},
   "outputs": [],
   "source": []
  }
 ],
 "metadata": {
  "kernelspec": {
   "display_name": "Python 3",
   "language": "python",
   "name": "python3"
  },
  "language_info": {
   "codemirror_mode": {
    "name": "ipython",
    "version": 3
   },
   "file_extension": ".py",
   "mimetype": "text/x-python",
   "name": "python",
   "nbconvert_exporter": "python",
   "pygments_lexer": "ipython3",
   "version": "3.13.2"
  }
 },
 "nbformat": 4,
 "nbformat_minor": 2
}
